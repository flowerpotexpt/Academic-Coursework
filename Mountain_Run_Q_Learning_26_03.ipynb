{
  "nbformat": 4,
  "nbformat_minor": 0,
  "metadata": {
    "colab": {
      "name": "Mountain Run Q Learning 26.03.ipynb",
      "provenance": [],
      "collapsed_sections": []
    },
    "kernelspec": {
      "name": "python3",
      "display_name": "Python 3"
    },
    "accelerator": "GPU"
  },
  "cells": [
    {
      "cell_type": "code",
      "metadata": {
        "id": "zd-NRkWgaj7n",
        "colab_type": "code",
        "colab": {
          "base_uri": "https://localhost:8080/",
          "height": 1000
        },
        "outputId": "f19daf03-884f-427a-f39c-fecaf352c8c6"
      },
      "source": [
        "# > /dev/null 2>&1 silences output\n",
        "!pip install box2d-py #> /dev/null 2>&1\n",
        "!pip install gym pyvirtualdisplay\n",
        "!apt-get install -y xvfb python-opengl ffmpeg\n",
        "!apt-get install x11-utils\n",
        "!apt-get install python-opengl\n",
        "!apt-get install xvfb\n"
      ],
      "execution_count": null,
      "outputs": [
        {
          "output_type": "stream",
          "text": [
            "Collecting box2d-py\n",
            "\u001b[?25l  Downloading https://files.pythonhosted.org/packages/06/bd/6cdc3fd994b0649dcf5d9bad85bd9e26172308bbe9a421bfc6fdbf5081a6/box2d_py-2.3.8-cp36-cp36m-manylinux1_x86_64.whl (448kB)\n",
            "\u001b[K     |████████████████████████████████| 450kB 347kB/s \n",
            "\u001b[?25hInstalling collected packages: box2d-py\n",
            "Successfully installed box2d-py-2.3.8\n",
            "Requirement already satisfied: gym in /usr/local/lib/python3.6/dist-packages (0.17.1)\n",
            "Collecting pyvirtualdisplay\n",
            "  Downloading https://files.pythonhosted.org/packages/69/ec/8221a07850d69fa3c57c02e526edd23d18c7c05d58ed103e3b19172757c1/PyVirtualDisplay-0.2.5-py2.py3-none-any.whl\n",
            "Requirement already satisfied: numpy>=1.10.4 in /usr/local/lib/python3.6/dist-packages (from gym) (1.18.2)\n",
            "Requirement already satisfied: six in /usr/local/lib/python3.6/dist-packages (from gym) (1.12.0)\n",
            "Requirement already satisfied: cloudpickle<1.4.0,>=1.2.0 in /usr/local/lib/python3.6/dist-packages (from gym) (1.3.0)\n",
            "Requirement already satisfied: scipy in /usr/local/lib/python3.6/dist-packages (from gym) (1.4.1)\n",
            "Requirement already satisfied: pyglet<=1.5.0,>=1.4.0 in /usr/local/lib/python3.6/dist-packages (from gym) (1.5.0)\n",
            "Collecting EasyProcess\n",
            "  Downloading https://files.pythonhosted.org/packages/32/8f/88d636f1da22a3c573259e44cfefb46a117d3f9432e2c98b1ab4a21372ad/EasyProcess-0.2.10-py2.py3-none-any.whl\n",
            "Requirement already satisfied: future in /usr/local/lib/python3.6/dist-packages (from pyglet<=1.5.0,>=1.4.0->gym) (0.16.0)\n",
            "Installing collected packages: EasyProcess, pyvirtualdisplay\n",
            "Successfully installed EasyProcess-0.2.10 pyvirtualdisplay-0.2.5\n",
            "Reading package lists... Done\n",
            "Building dependency tree       \n",
            "Reading state information... Done\n",
            "ffmpeg is already the newest version (7:3.4.6-0ubuntu0.18.04.1).\n",
            "Suggested packages:\n",
            "  libgle3\n",
            "The following NEW packages will be installed:\n",
            "  python-opengl xvfb\n",
            "0 upgraded, 2 newly installed, 0 to remove and 25 not upgraded.\n",
            "Need to get 1,280 kB of archives.\n",
            "After this operation, 7,682 kB of additional disk space will be used.\n",
            "Get:1 http://archive.ubuntu.com/ubuntu bionic/universe amd64 python-opengl all 3.1.0+dfsg-1 [496 kB]\n",
            "Get:2 http://archive.ubuntu.com/ubuntu bionic-updates/universe amd64 xvfb amd64 2:1.19.6-1ubuntu4.4 [784 kB]\n",
            "Fetched 1,280 kB in 0s (9,847 kB/s)\n",
            "Selecting previously unselected package python-opengl.\n",
            "(Reading database ... 144542 files and directories currently installed.)\n",
            "Preparing to unpack .../python-opengl_3.1.0+dfsg-1_all.deb ...\n",
            "Unpacking python-opengl (3.1.0+dfsg-1) ...\n",
            "Selecting previously unselected package xvfb.\n",
            "Preparing to unpack .../xvfb_2%3a1.19.6-1ubuntu4.4_amd64.deb ...\n",
            "Unpacking xvfb (2:1.19.6-1ubuntu4.4) ...\n",
            "Setting up python-opengl (3.1.0+dfsg-1) ...\n",
            "Setting up xvfb (2:1.19.6-1ubuntu4.4) ...\n",
            "Processing triggers for man-db (2.8.3-2ubuntu0.1) ...\n",
            "Reading package lists... Done\n",
            "Building dependency tree       \n",
            "Reading state information... Done\n",
            "The following additional packages will be installed:\n",
            "  libxxf86dga1\n",
            "Suggested packages:\n",
            "  mesa-utils\n",
            "The following NEW packages will be installed:\n",
            "  libxxf86dga1 x11-utils\n",
            "0 upgraded, 2 newly installed, 0 to remove and 25 not upgraded.\n",
            "Need to get 209 kB of archives.\n",
            "After this operation, 711 kB of additional disk space will be used.\n",
            "Get:1 http://archive.ubuntu.com/ubuntu bionic/main amd64 libxxf86dga1 amd64 2:1.1.4-1 [13.7 kB]\n",
            "Get:2 http://archive.ubuntu.com/ubuntu bionic/main amd64 x11-utils amd64 7.7+3build1 [196 kB]\n",
            "Fetched 209 kB in 0s (2,598 kB/s)\n",
            "Selecting previously unselected package libxxf86dga1:amd64.\n",
            "(Reading database ... 146904 files and directories currently installed.)\n",
            "Preparing to unpack .../libxxf86dga1_2%3a1.1.4-1_amd64.deb ...\n",
            "Unpacking libxxf86dga1:amd64 (2:1.1.4-1) ...\n",
            "Selecting previously unselected package x11-utils.\n",
            "Preparing to unpack .../x11-utils_7.7+3build1_amd64.deb ...\n",
            "Unpacking x11-utils (7.7+3build1) ...\n",
            "Setting up libxxf86dga1:amd64 (2:1.1.4-1) ...\n",
            "Setting up x11-utils (7.7+3build1) ...\n",
            "Processing triggers for man-db (2.8.3-2ubuntu0.1) ...\n",
            "Processing triggers for libc-bin (2.27-3ubuntu1) ...\n",
            "/sbin/ldconfig.real: /usr/local/lib/python3.6/dist-packages/ideep4py/lib/libmkldnn.so.0 is not a symbolic link\n",
            "\n",
            "Reading package lists... Done\n",
            "Building dependency tree       \n",
            "Reading state information... Done\n",
            "python-opengl is already the newest version (3.1.0+dfsg-1).\n",
            "0 upgraded, 0 newly installed, 0 to remove and 25 not upgraded.\n",
            "Reading package lists... Done\n",
            "Building dependency tree       \n",
            "Reading state information... Done\n",
            "xvfb is already the newest version (2:1.19.6-1ubuntu4.4).\n",
            "0 upgraded, 0 newly installed, 0 to remove and 25 not upgraded.\n"
          ],
          "name": "stdout"
        }
      ]
    },
    {
      "cell_type": "code",
      "metadata": {
        "id": "JbUPxDqtEQWC",
        "colab_type": "code",
        "colab": {}
      },
      "source": [
        "#!pip install pyvirtualdisplay"
      ],
      "execution_count": null,
      "outputs": []
    },
    {
      "cell_type": "code",
      "metadata": {
        "id": "wuy4Z_fvPocn",
        "colab_type": "code",
        "colab": {}
      },
      "source": [
        ""
      ],
      "execution_count": null,
      "outputs": []
    },
    {
      "cell_type": "code",
      "metadata": {
        "id": "yOXVWXdMpVFd",
        "colab_type": "code",
        "colab": {
          "base_uri": "https://localhost:8080/",
          "height": 64
        },
        "outputId": "8f77efdd-2442-44ab-9b66-41c3e2f89e8d"
      },
      "source": [
        "# import necessary packages, install some if needed\n",
        "import gym\n",
        "from gym import logger as gymlogger\n",
        "from gym.wrappers import Monitor\n",
        "gymlogger.set_level(40) #error only\n",
        "from google.colab import files\n",
        "from datetime import datetime\n",
        "import time\n",
        "from tqdm import tqdm\n",
        "\n",
        "import numpy as np\n",
        "import matplotlib.pyplot as plt\n",
        "import math\n",
        "import glob\n",
        "import io\n",
        "import base64\n",
        "from IPython.display import HTML\n",
        "\n",
        "\n",
        "#eg screen resolution 1400x900\n",
        "from pyvirtualdisplay import Display\n",
        "display = Display(visible=0, size=(1400, 900))\n",
        "display.start()\n",
        "\n",
        "# Custom functions for visualization and creating environments in colab \n",
        "# https://star-ai.github.io/Rendering-OpenAi-Gym-in-Colaboratory/?fbclid=IwAR2y2gSNQv6tQag9JorgnG-O3J5Rx-QJLqK9lbEv9MSZcdt-YroXFzv0VU4\n",
        "\n",
        "import gym\n",
        "from gym import logger as gymlogger\n",
        "from gym.wrappers import Monitor\n",
        "gymlogger.set_level(40) #error only\n",
        "import tensorflow as tf\n",
        "import numpy as np\n",
        "import random\n",
        "import matplotlib\n",
        "import matplotlib.pyplot as plt\n",
        "%matplotlib inline\n",
        "import math\n",
        "import glob\n",
        "import io\n",
        "import base64\n",
        "from IPython.display import HTML\n",
        "\n",
        "from IPython import display as ipythondisplay\n",
        "from pyvirtualdisplay import Display\n",
        "display = Display(visible=0, size=(1400, 900))\n",
        "display.start()\n",
        "\n",
        "def show_video():\n",
        "  mp4list = glob.glob('video/*.mp4')\n",
        "  if len(mp4list) > 0:\n",
        "    mp4 = mp4list[0]\n",
        "    video = io.open(mp4, 'r+b').read()\n",
        "    encoded = base64.b64encode(video)\n",
        "    ipythondisplay.display(HTML(data='''<video alt=\"test\" autoplay \n",
        "                loop controls style=\"height: 400px;\">\n",
        "                <source src=\"data:video/mp4;base64,{0}\" type=\"video/mp4\" />\n",
        "             </video>'''.format(encoded.decode('ascii'))))\n",
        "  else: \n",
        "    print(\"Could not find video\")\n",
        "    \n",
        "\n",
        "def wrap_env(env):\n",
        "  env = Monitor(env, './video', force=True)\n",
        "  return env"
      ],
      "execution_count": null,
      "outputs": [
        {
          "output_type": "display_data",
          "data": {
            "text/html": [
              "<p style=\"color: red;\">\n",
              "The default version of TensorFlow in Colab will switch to TensorFlow 2.x on the 27th of March, 2020.<br>\n",
              "We recommend you <a href=\"https://www.tensorflow.org/guide/migrate\" target=\"_blank\">upgrade</a> now\n",
              "or ensure your notebook will continue to use TensorFlow 1.x via the <code>%tensorflow_version 1.x</code> magic:\n",
              "<a href=\"https://colab.research.google.com/notebooks/tensorflow_version.ipynb\" target=\"_blank\">more info</a>.</p>\n"
            ],
            "text/plain": [
              "<IPython.core.display.HTML object>"
            ]
          },
          "metadata": {
            "tags": []
          }
        }
      ]
    },
    {
      "cell_type": "code",
      "metadata": {
        "id": "QWqlXAbR2oap",
        "colab_type": "code",
        "colab": {
          "base_uri": "https://localhost:8080/",
          "height": 131
        },
        "outputId": "15e65d70-86a5-4d2f-99bc-33fac4bc93a5"
      },
      "source": [
        "# mount colab to google drive, access to write and read files\n",
        "# needs authorization first, go to url and enter code\n",
        "\n",
        "#If not yet mounted, uncomment these\n",
        "from google.colab import drive\n",
        "drive.mount('/content/gdrive)"
      ],
      "execution_count": null,
      "outputs": [
        {
          "output_type": "error",
          "ename": "SyntaxError",
          "evalue": "ignored",
          "traceback": [
            "\u001b[0;36m  File \u001b[0;32m\"<ipython-input-8-b72b7507aa8f>\"\u001b[0;36m, line \u001b[0;32m2\u001b[0m\n\u001b[0;31m    drive.mount('/content/gdrive)\u001b[0m\n\u001b[0m                                 ^\u001b[0m\n\u001b[0;31mSyntaxError\u001b[0m\u001b[0;31m:\u001b[0m EOL while scanning string literal\n"
          ]
        }
      ]
    },
    {
      "cell_type": "code",
      "metadata": {
        "id": "nmmuX7sA2j7T",
        "colab_type": "code",
        "colab": {
          "base_uri": "https://localhost:8080/",
          "height": 139
        },
        "outputId": "7eb0ea81-1a20-462b-95bb-70db8fafa9a2"
      },
      "source": [
        ""
      ],
      "execution_count": null,
      "outputs": [
        {
          "output_type": "stream",
          "text": [
            "'Cartpole Machine Learning Project.ipynb'  'Mountain run 4'\n",
            " DQNdata\t\t\t\t   'Mountain Run Q Learning.ipynb'\n",
            "'DQN Project.ipynb'\t\t\t    PT202001\n",
            "'Machine Learning Project.ipynb'\t    PT202002\n",
            "'Mountain run 1'\t\t\t    qtables\n",
            "'Mountain run 2'\t\t\t   'Sentdex DQN Tutorial.ipynb'\n",
            "'Mountain run 3 gran'\t\t\t   'Sentdex Q Learning Tutorial.ipynb'\n"
          ],
          "name": "stdout"
        }
      ]
    },
    {
      "cell_type": "code",
      "metadata": {
        "id": "MTC-Wraupkis",
        "colab_type": "code",
        "colab": {
          "base_uri": "https://localhost:8080/",
          "height": 52
        },
        "outputId": "fc591516-d0a2-4e0a-d7e0-f65f1d57e3bc"
      },
      "source": [
        "# Hyperparameters and other definitions\n",
        "\n",
        "# Get folder path to save files inside drive\n",
        "!ls \"/content/gdrive/My Drive/Colab Notebooks\"\n",
        "root_dir = \"/content/gdrive/My Drive/Colab Notebooks/\"\n",
        "drive_path = root_dir + \"OW_ML/\"\n",
        "model_name = \"OW_ML\"\n",
        "\n",
        "# Import a model to expand training\n",
        "USE_PREV_MODEL = False\n",
        "if USE_PREV_MODEL:\n",
        "  root_dir = \"/content/gdrive/My Drive/Colab Notebooks/\"\n",
        "  model_path = root_dir + \"PT202004/PT202004episode30000-qtable.npy\"\n",
        "  q_table = np.load(model_path)\n",
        "\n",
        "LEARNING_RATE = 0.2\n",
        "DISCOUNT = 0.995\n",
        "EPISODES = 1_000\n",
        "\n",
        "SAVE_RESULTS = True\n",
        "SHOW_EVERY = 9900\n",
        "STATS_EVERY = 100\n",
        "ep_rewards = []\n",
        "changed_eps= {'ep': [], 'eps': []}\n",
        "aggr_ep_rewards = {'ep': [], 'avg': [], 'max': [], 'min': []}\n",
        "\n",
        "# Create and reset game environment\n",
        "env = wrap_env(gym.make(\"MountainCar-v0\"))\n",
        "#print(env.observation_space.high, env.observation_space.low)\n",
        "\n",
        "# Discretize the states, so we don't have an enormous continuous q table\n",
        "DISCRETE_OS_SIZE = [40] * len(env.observation_space.high)\n",
        "discrete_os_win_size = (env.observation_space.high - env.observation_space.low)/DISCRETE_OS_SIZE\n",
        "#print(discrete_os_win_size)\n",
        "\n",
        "# function to get the transformed discretized state from game states\n",
        "def get_discrete_state(state):\n",
        "  discrete_state = (state - env.observation_space.low)/discrete_os_win_size\n",
        "  return tuple(discrete_state.astype(np.int))\n",
        "\n",
        "if not USE_PREV_MODEL:\n",
        "  # Initialize q table, random numbers\n",
        "  q_table = np.random.uniform(low=-2, high=0, size=(DISCRETE_OS_SIZE + [env.action_space.n]))  #np.shape(q_table)\n",
        "  # Formula for updating q values : new_q = (1 - LEARNING_RATE) * current_q + LEARNING_RATE * (reward + DISCOUNT * max_future_q)\n",
        "  print(\"q table initialized at:\", datetime.now().strftime(\"%d_%m_%Y.%Hh%M\"))\n",
        "\n",
        "# Exploration settings, decide whether to use learned q table (exploitation) or randomize movement (exploration)\n",
        "epsilon = 1  # not a constant, qoing to be decayed\n",
        "epsilon_decay_value = 0.999\n",
        "min_epsilon = 0.01\n",
        "#START_EPSILON_DECAYING = 1\n",
        "#END_EPSILON_DECAYING = EPISODES//2\n",
        "#epsilon_decay_value = epsilon/(END_EPSILON_DECAYING - START_EPSILON_DECAYING)\n",
        "#print(END_EPSILON_DECAYING, epsilon_decay_value, DISCOUNT, LEARNING_RATE)\n"
      ],
      "execution_count": null,
      "outputs": [
        {
          "output_type": "stream",
          "text": [
            " Untitled0.ipynb  'Worksheet 4, Deep Learning.ipynb'\n",
            "q table initialized at: 26_03_2020.15h05\n"
          ],
          "name": "stdout"
        }
      ]
    },
    {
      "cell_type": "code",
      "metadata": {
        "id": "vCRc-vtdhygU",
        "colab_type": "code",
        "colab": {}
      },
      "source": [
        ""
      ],
      "execution_count": null,
      "outputs": []
    },
    {
      "cell_type": "code",
      "metadata": {
        "id": "u7YXNDs1rUq7",
        "colab_type": "code",
        "colab": {
          "base_uri": "https://localhost:8080/",
          "height": 1000
        },
        "outputId": "62af9dfb-d706-4ba9-c33b-f210c5e72fbf"
      },
      "source": [
        "import time\n",
        "start_time = time.time()\n",
        "run_start = datetime.now().strftime(\"%d_%m_%Y.%Hh%M\")\n",
        "\n",
        "for episode in tqdm(range(1, EPISODES + 1)):\n",
        "    episode_reward = 0\n",
        "    discrete_state = get_discrete_state(env.reset())\n",
        "    done = False\n",
        "    \n",
        "    # leave in for visualization, not working in colab\n",
        "    if episode % SHOW_EVERY == 0:\n",
        "        render = True\n",
        "    else:\n",
        "        render = False\n",
        "\n",
        "    # Run game until done\n",
        "    while not done:\n",
        "      # Decide whether to explore or exploit, epsilon decays as episodes progress, more likely to exploit\n",
        "      if np.random.random() > epsilon:\n",
        "            # Get action from Q table\n",
        "            action = np.argmax(q_table[discrete_state])\n",
        "      else:\n",
        "            # Get random action\n",
        "            action = np.random.randint(0, env.action_space.n)\n",
        "      # Update game states\n",
        "      new_state, reward, done, _ = env.step(action)\n",
        "      new_discrete_state = get_discrete_state(new_state)\n",
        "      episode_reward += reward\n",
        "      \n",
        "      if episode % SHOW_EVERY == 0:\n",
        "            env.render()\n",
        "\n",
        "      # If simulation did not end yet after last step - update Q table\n",
        "      if not done:\n",
        "        # Maximum possible Q value in next step (for new state)\n",
        "        max_future_q = np.max(q_table[new_discrete_state])\n",
        "\n",
        "        # Current Q value (for current state and performed action)\n",
        "        current_q = q_table[discrete_state + (action,)]\n",
        "\n",
        "        # And here's our equation for a new Q value for current state and action\n",
        "        new_q = (1 - LEARNING_RATE) * current_q + LEARNING_RATE * (reward + DISCOUNT * max_future_q)\n",
        "\n",
        "        # Update Q table with new Q value\n",
        "        q_table[discrete_state + (action,)] = new_q\n",
        "\n",
        "      # Simulation ended (for any reason) - if goal position is achived - update Q value with reward directly\n",
        "      elif new_state[0] >= env.goal_position:\n",
        "        #q_table[discrete_state + (action,)] = 0\n",
        "        #q_table[discrete_state + (action,)] = reward\n",
        "        q_table[discrete_state + (action,)] = 1000\n",
        "\n",
        "\n",
        "      discrete_state = new_discrete_state\n",
        "\n",
        "    changed_eps['ep'].append(episode)\n",
        "    changed_eps['eps'].append(epsilon)\n",
        "    epsilon = max(min_epsilon, epsilon * epsilon_decay_value)\n",
        "    #if END_EPSILON_DECAYING >= episode >= START_EPSILON_DECAYING:\n",
        "    #  epsilon -= epsilon_decay_value\n",
        "\n",
        "    #Append reward for statistics\n",
        "    ep_rewards.append(episode_reward) \n",
        "    if not episode % STATS_EVERY:\n",
        "      average_reward = sum(ep_rewards[-STATS_EVERY:])/STATS_EVERY\n",
        "      aggr_ep_rewards['ep'].append(episode)\n",
        "      aggr_ep_rewards['avg'].append(average_reward)\n",
        "      aggr_ep_rewards['max'].append(max(ep_rewards[-STATS_EVERY:]))\n",
        "      aggr_ep_rewards['min'].append(min(ep_rewards[-STATS_EVERY:]))\n",
        "      print(f'Episode: {episode:>5d}, average reward: {average_reward:>4.1f}, current epsilon: {epsilon:>1.2f}')\n",
        "\n",
        "    if episode % 100 == 0 and SAVE_RESULTS:\n",
        "      model_save_name = f\"{model_name}episode{episode}-qtable.npy\"\n",
        "      path = drive_path + model_save_name\n",
        "      np.save(path, q_table)\n",
        "\n",
        "env.close()\n",
        "\n",
        "time_elapsed = time.time() - start_time\n",
        "print(\"time elapsed: {:.2f}s\".format(time_elapsed))\n",
        "\n",
        "# Plot reward statistics over episodes\n",
        "stats_plot =plt.figure()\n",
        "\n",
        "plt.plot(aggr_ep_rewards['ep'], aggr_ep_rewards['avg'], label=\"average rewards\")\n",
        "plt.plot(aggr_ep_rewards['ep'], aggr_ep_rewards['max'], label=\"max rewards\")\n",
        "plt.plot(aggr_ep_rewards['ep'], aggr_ep_rewards['min'], label=\"min rewards\")\n",
        "\n",
        "plt.legend(loc=2)\n",
        "plt.ylim(-210, -50)\n",
        "plt.grid(True)\n",
        "plt.show()\n",
        "\n",
        "if SAVE_RESULTS:\n",
        "  stats_plot.show()\n",
        "  plot_save_name = f\"mountain_car_run{model_name}_stats.png\"\n",
        "  plot_path = drive_path + plot_save_name\n",
        "  stats_plot.savefig(plot_path, dpi=(250))\n",
        "  #files.download(plot_path) \n",
        "  for key in aggr_ep_rewards.keys():\n",
        "    stats_array = np.array(aggr_ep_rewards[key])\n",
        "    stats_save_name = f\"{model_name}-stats-{key}.npy\"\n",
        "    stats_path = drive_path + stats_save_name\n",
        "    np.save(stats_path, stats_array)\n",
        "\n",
        "  eps_plot = plt.figure()\n",
        "  plt.plot(changed_eps[\"ep\"], changed_eps[\"eps\"], label=\"epsilon over episodes\")\n",
        "  plt.legend(loc=1)\n",
        "  eps_plot.show()\n",
        "  eps_plot_save_name = f\"mountain_car_run{model_name}_eps.png\"\n",
        "  plot_path = drive_path + eps_plot_save_name\n",
        "  eps_plot.savefig(plot_path, dpi=(250))\n",
        "  \n",
        "  for key in changed_eps.keys():\n",
        "    stats_array = np.array(changed_eps[key])\n",
        "    stats_save_name = f\"{model_name}-epsilon-{key}.npy\"\n",
        "    stats_path = drive_path + stats_save_name\n",
        "    np.save(stats_path, stats_array)\n"
      ],
      "execution_count": null,
      "outputs": [
        {
          "output_type": "stream",
          "text": [
            "  0%|          | 98/30000 [00:14<19:22, 25.73it/s]"
          ],
          "name": "stderr"
        },
        {
          "output_type": "stream",
          "text": [
            "Episode:   100, average reward: -200.0, current epsilon: 0.90\n"
          ],
          "name": "stdout"
        },
        {
          "output_type": "stream",
          "text": [
            "  1%|          | 206/30000 [00:19<12:26, 39.91it/s]"
          ],
          "name": "stderr"
        },
        {
          "output_type": "stream",
          "text": [
            "Episode:   200, average reward: -200.0, current epsilon: 0.82\n"
          ],
          "name": "stdout"
        },
        {
          "output_type": "stream",
          "text": [
            "  1%|          | 306/30000 [00:23<13:52, 35.68it/s]"
          ],
          "name": "stderr"
        },
        {
          "output_type": "stream",
          "text": [
            "Episode:   300, average reward: -200.0, current epsilon: 0.74\n"
          ],
          "name": "stdout"
        },
        {
          "output_type": "stream",
          "text": [
            "  1%|▏         | 407/30000 [00:28<13:14, 37.26it/s]"
          ],
          "name": "stderr"
        },
        {
          "output_type": "stream",
          "text": [
            "Episode:   400, average reward: -200.0, current epsilon: 0.67\n"
          ],
          "name": "stdout"
        },
        {
          "output_type": "stream",
          "text": [
            "  2%|▏         | 506/30000 [00:31<15:09, 32.45it/s]"
          ],
          "name": "stderr"
        },
        {
          "output_type": "stream",
          "text": [
            "Episode:   500, average reward: -200.0, current epsilon: 0.61\n"
          ],
          "name": "stdout"
        },
        {
          "output_type": "stream",
          "text": [
            "  2%|▏         | 606/30000 [00:36<13:35, 36.06it/s]"
          ],
          "name": "stderr"
        },
        {
          "output_type": "stream",
          "text": [
            "Episode:   600, average reward: -200.0, current epsilon: 0.55\n"
          ],
          "name": "stdout"
        },
        {
          "output_type": "stream",
          "text": [
            "  2%|▏         | 705/30000 [00:38<12:57, 37.66it/s]"
          ],
          "name": "stderr"
        },
        {
          "output_type": "stream",
          "text": [
            "Episode:   700, average reward: -200.0, current epsilon: 0.50\n"
          ],
          "name": "stdout"
        },
        {
          "output_type": "stream",
          "text": [
            "  3%|▎         | 803/30000 [00:43<13:09, 36.97it/s]"
          ],
          "name": "stderr"
        },
        {
          "output_type": "stream",
          "text": [
            "Episode:   800, average reward: -200.0, current epsilon: 0.45\n"
          ],
          "name": "stdout"
        },
        {
          "output_type": "stream",
          "text": [
            "  3%|▎         | 908/30000 [00:46<12:16, 39.51it/s]"
          ],
          "name": "stderr"
        },
        {
          "output_type": "stream",
          "text": [
            "Episode:   900, average reward: -200.0, current epsilon: 0.41\n"
          ],
          "name": "stdout"
        },
        {
          "output_type": "stream",
          "text": [
            "  3%|▎         | 997/30000 [00:48<11:33, 41.80it/s]"
          ],
          "name": "stderr"
        },
        {
          "output_type": "stream",
          "text": [
            "Episode:  1000, average reward: -200.0, current epsilon: 0.37\n"
          ],
          "name": "stdout"
        },
        {
          "output_type": "stream",
          "text": [
            "  4%|▎         | 1106/30000 [00:53<11:37, 41.41it/s]"
          ],
          "name": "stderr"
        },
        {
          "output_type": "stream",
          "text": [
            "Episode:  1100, average reward: -200.0, current epsilon: 0.33\n"
          ],
          "name": "stdout"
        },
        {
          "output_type": "stream",
          "text": [
            "  4%|▍         | 1204/30000 [00:55<12:40, 37.85it/s]"
          ],
          "name": "stderr"
        },
        {
          "output_type": "stream",
          "text": [
            "Episode:  1200, average reward: -200.0, current epsilon: 0.30\n"
          ],
          "name": "stdout"
        },
        {
          "output_type": "stream",
          "text": [
            "  4%|▍         | 1308/30000 [00:58<12:27, 38.39it/s]"
          ],
          "name": "stderr"
        },
        {
          "output_type": "stream",
          "text": [
            "Episode:  1300, average reward: -200.0, current epsilon: 0.27\n"
          ],
          "name": "stdout"
        },
        {
          "output_type": "stream",
          "text": [
            "  5%|▍         | 1407/30000 [01:01<13:38, 34.91it/s]"
          ],
          "name": "stderr"
        },
        {
          "output_type": "stream",
          "text": [
            "Episode:  1400, average reward: -199.7, current epsilon: 0.25\n"
          ],
          "name": "stdout"
        },
        {
          "output_type": "stream",
          "text": [
            "  5%|▌         | 1505/30000 [01:04<13:23, 35.48it/s]"
          ],
          "name": "stderr"
        },
        {
          "output_type": "stream",
          "text": [
            "Episode:  1500, average reward: -200.0, current epsilon: 0.22\n"
          ],
          "name": "stdout"
        },
        {
          "output_type": "stream",
          "text": [
            "  5%|▌         | 1606/30000 [01:06<13:56, 33.93it/s]"
          ],
          "name": "stderr"
        },
        {
          "output_type": "stream",
          "text": [
            "Episode:  1600, average reward: -200.0, current epsilon: 0.20\n"
          ],
          "name": "stdout"
        },
        {
          "output_type": "stream",
          "text": [
            "  6%|▌         | 1707/30000 [01:09<13:28, 35.01it/s]"
          ],
          "name": "stderr"
        },
        {
          "output_type": "stream",
          "text": [
            "Episode:  1700, average reward: -199.7, current epsilon: 0.18\n"
          ],
          "name": "stdout"
        },
        {
          "output_type": "stream",
          "text": [
            "  6%|▌         | 1806/30000 [01:12<13:46, 34.10it/s]"
          ],
          "name": "stderr"
        },
        {
          "output_type": "stream",
          "text": [
            "Episode:  1800, average reward: -199.8, current epsilon: 0.17\n"
          ],
          "name": "stdout"
        },
        {
          "output_type": "stream",
          "text": [
            "  6%|▋         | 1906/30000 [01:15<14:15, 32.86it/s]"
          ],
          "name": "stderr"
        },
        {
          "output_type": "stream",
          "text": [
            "Episode:  1900, average reward: -199.4, current epsilon: 0.15\n"
          ],
          "name": "stdout"
        },
        {
          "output_type": "stream",
          "text": [
            "  7%|▋         | 2000/30000 [01:18<12:41, 36.76it/s]"
          ],
          "name": "stderr"
        },
        {
          "output_type": "stream",
          "text": [
            "Episode:  2000, average reward: -199.7, current epsilon: 0.14\n"
          ],
          "name": "stdout"
        },
        {
          "output_type": "stream",
          "text": [
            "  7%|▋         | 2108/30000 [01:23<13:23, 34.69it/s]"
          ],
          "name": "stderr"
        },
        {
          "output_type": "stream",
          "text": [
            "Episode:  2100, average reward: -197.0, current epsilon: 0.12\n"
          ],
          "name": "stdout"
        },
        {
          "output_type": "stream",
          "text": [
            "  7%|▋         | 2205/30000 [01:25<10:10, 45.49it/s]"
          ],
          "name": "stderr"
        },
        {
          "output_type": "stream",
          "text": [
            "Episode:  2200, average reward: -194.9, current epsilon: 0.11\n"
          ],
          "name": "stdout"
        },
        {
          "output_type": "stream",
          "text": [
            "  8%|▊         | 2307/30000 [01:27<12:45, 36.20it/s]"
          ],
          "name": "stderr"
        },
        {
          "output_type": "stream",
          "text": [
            "Episode:  2300, average reward: -199.8, current epsilon: 0.10\n"
          ],
          "name": "stdout"
        },
        {
          "output_type": "stream",
          "text": [
            "  8%|▊         | 2405/30000 [01:30<13:56, 32.98it/s]"
          ],
          "name": "stderr"
        },
        {
          "output_type": "stream",
          "text": [
            "Episode:  2400, average reward: -199.5, current epsilon: 0.09\n"
          ],
          "name": "stdout"
        },
        {
          "output_type": "stream",
          "text": [
            "  8%|▊         | 2505/30000 [01:33<11:36, 39.50it/s]"
          ],
          "name": "stderr"
        },
        {
          "output_type": "stream",
          "text": [
            "Episode:  2500, average reward: -189.5, current epsilon: 0.08\n"
          ],
          "name": "stdout"
        },
        {
          "output_type": "stream",
          "text": [
            "  9%|▊         | 2607/30000 [01:35<10:27, 43.68it/s]"
          ],
          "name": "stderr"
        },
        {
          "output_type": "stream",
          "text": [
            "Episode:  2600, average reward: -195.4, current epsilon: 0.07\n"
          ],
          "name": "stdout"
        },
        {
          "output_type": "stream",
          "text": [
            "  9%|▉         | 2707/30000 [01:37<10:13, 44.52it/s]"
          ],
          "name": "stderr"
        },
        {
          "output_type": "stream",
          "text": [
            "Episode:  2700, average reward: -195.2, current epsilon: 0.07\n"
          ],
          "name": "stdout"
        },
        {
          "output_type": "stream",
          "text": [
            "  9%|▉         | 2808/30000 [01:39<09:54, 45.71it/s]"
          ],
          "name": "stderr"
        },
        {
          "output_type": "stream",
          "text": [
            "Episode:  2800, average reward: -189.0, current epsilon: 0.06\n"
          ],
          "name": "stdout"
        },
        {
          "output_type": "stream",
          "text": [
            " 10%|▉         | 2906/30000 [01:42<11:13, 40.23it/s]"
          ],
          "name": "stderr"
        },
        {
          "output_type": "stream",
          "text": [
            "Episode:  2900, average reward: -184.1, current epsilon: 0.05\n"
          ],
          "name": "stdout"
        },
        {
          "output_type": "stream",
          "text": [
            " 10%|▉         | 2997/30000 [01:44<13:01, 34.55it/s]"
          ],
          "name": "stderr"
        },
        {
          "output_type": "stream",
          "text": [
            "Episode:  3000, average reward: -189.7, current epsilon: 0.05\n"
          ],
          "name": "stdout"
        },
        {
          "output_type": "stream",
          "text": [
            " 10%|█         | 3108/30000 [01:49<09:35, 46.74it/s]"
          ],
          "name": "stderr"
        },
        {
          "output_type": "stream",
          "text": [
            "Episode:  3100, average reward: -186.7, current epsilon: 0.04\n"
          ],
          "name": "stdout"
        },
        {
          "output_type": "stream",
          "text": [
            " 11%|█         | 3208/30000 [01:51<08:52, 50.35it/s]"
          ],
          "name": "stderr"
        },
        {
          "output_type": "stream",
          "text": [
            "Episode:  3200, average reward: -177.8, current epsilon: 0.04\n"
          ],
          "name": "stdout"
        },
        {
          "output_type": "stream",
          "text": [
            " 11%|█         | 3307/30000 [01:53<10:01, 44.34it/s]"
          ],
          "name": "stderr"
        },
        {
          "output_type": "stream",
          "text": [
            "Episode:  3300, average reward: -179.0, current epsilon: 0.04\n"
          ],
          "name": "stdout"
        },
        {
          "output_type": "stream",
          "text": [
            " 11%|█▏        | 3405/30000 [01:55<09:07, 48.60it/s]"
          ],
          "name": "stderr"
        },
        {
          "output_type": "stream",
          "text": [
            "Episode:  3400, average reward: -176.5, current epsilon: 0.03\n"
          ],
          "name": "stdout"
        },
        {
          "output_type": "stream",
          "text": [
            " 12%|█▏        | 3506/30000 [01:57<11:28, 38.48it/s]"
          ],
          "name": "stderr"
        },
        {
          "output_type": "stream",
          "text": [
            "Episode:  3500, average reward: -171.5, current epsilon: 0.03\n"
          ],
          "name": "stdout"
        },
        {
          "output_type": "stream",
          "text": [
            " 12%|█▏        | 3607/30000 [02:00<10:02, 43.78it/s]"
          ],
          "name": "stderr"
        },
        {
          "output_type": "stream",
          "text": [
            "Episode:  3600, average reward: -174.1, current epsilon: 0.03\n"
          ],
          "name": "stdout"
        },
        {
          "output_type": "stream",
          "text": [
            " 12%|█▏        | 3706/30000 [02:02<11:07, 39.39it/s]"
          ],
          "name": "stderr"
        },
        {
          "output_type": "stream",
          "text": [
            "Episode:  3700, average reward: -177.1, current epsilon: 0.02\n"
          ],
          "name": "stdout"
        },
        {
          "output_type": "stream",
          "text": [
            " 13%|█▎        | 3805/30000 [02:05<11:28, 38.03it/s]"
          ],
          "name": "stderr"
        },
        {
          "output_type": "stream",
          "text": [
            "Episode:  3800, average reward: -177.0, current epsilon: 0.02\n"
          ],
          "name": "stdout"
        },
        {
          "output_type": "stream",
          "text": [
            " 13%|█▎        | 3905/30000 [02:07<09:02, 48.13it/s]"
          ],
          "name": "stderr"
        },
        {
          "output_type": "stream",
          "text": [
            "Episode:  3900, average reward: -174.7, current epsilon: 0.02\n"
          ],
          "name": "stdout"
        },
        {
          "output_type": "stream",
          "text": [
            " 13%|█▎        | 3996/30000 [02:09<08:06, 53.48it/s]"
          ],
          "name": "stderr"
        },
        {
          "output_type": "stream",
          "text": [
            "Episode:  4000, average reward: -178.3, current epsilon: 0.02\n"
          ],
          "name": "stdout"
        },
        {
          "output_type": "stream",
          "text": [
            " 14%|█▎        | 4104/30000 [02:12<08:24, 51.35it/s]"
          ],
          "name": "stderr"
        },
        {
          "output_type": "stream",
          "text": [
            "Episode:  4100, average reward: -169.5, current epsilon: 0.02\n"
          ],
          "name": "stdout"
        },
        {
          "output_type": "stream",
          "text": [
            " 14%|█▍        | 4207/30000 [02:15<11:07, 38.62it/s]"
          ],
          "name": "stderr"
        },
        {
          "output_type": "stream",
          "text": [
            "Episode:  4200, average reward: -169.1, current epsilon: 0.01\n"
          ],
          "name": "stdout"
        },
        {
          "output_type": "stream",
          "text": [
            " 14%|█▍        | 4307/30000 [02:17<09:37, 44.51it/s]"
          ],
          "name": "stderr"
        },
        {
          "output_type": "stream",
          "text": [
            "Episode:  4300, average reward: -170.1, current epsilon: 0.01\n"
          ],
          "name": "stdout"
        },
        {
          "output_type": "stream",
          "text": [
            " 15%|█▍        | 4406/30000 [02:19<11:14, 37.94it/s]"
          ],
          "name": "stderr"
        },
        {
          "output_type": "stream",
          "text": [
            "Episode:  4400, average reward: -171.8, current epsilon: 0.01\n"
          ],
          "name": "stdout"
        },
        {
          "output_type": "stream",
          "text": [
            " 15%|█▌        | 4505/30000 [02:22<10:53, 39.02it/s]"
          ],
          "name": "stderr"
        },
        {
          "output_type": "stream",
          "text": [
            "Episode:  4500, average reward: -169.0, current epsilon: 0.01\n"
          ],
          "name": "stdout"
        },
        {
          "output_type": "stream",
          "text": [
            " 15%|█▌        | 4606/30000 [02:24<11:42, 36.12it/s]"
          ],
          "name": "stderr"
        },
        {
          "output_type": "stream",
          "text": [
            "Episode:  4600, average reward: -170.5, current epsilon: 0.01\n"
          ],
          "name": "stdout"
        },
        {
          "output_type": "stream",
          "text": [
            " 16%|█▌        | 4704/30000 [02:27<10:03, 41.90it/s]"
          ],
          "name": "stderr"
        },
        {
          "output_type": "stream",
          "text": [
            "Episode:  4700, average reward: -169.9, current epsilon: 0.01\n"
          ],
          "name": "stdout"
        },
        {
          "output_type": "stream",
          "text": [
            " 16%|█▌        | 4807/30000 [02:29<09:32, 44.02it/s]"
          ],
          "name": "stderr"
        },
        {
          "output_type": "stream",
          "text": [
            "Episode:  4800, average reward: -170.0, current epsilon: 0.01\n"
          ],
          "name": "stdout"
        },
        {
          "output_type": "stream",
          "text": [
            " 16%|█▋        | 4908/30000 [02:31<09:30, 43.99it/s]"
          ],
          "name": "stderr"
        },
        {
          "output_type": "stream",
          "text": [
            "Episode:  4900, average reward: -169.1, current epsilon: 0.01\n"
          ],
          "name": "stdout"
        },
        {
          "output_type": "stream",
          "text": [
            " 17%|█▋        | 4997/30000 [02:33<09:51, 42.28it/s]"
          ],
          "name": "stderr"
        },
        {
          "output_type": "stream",
          "text": [
            "Episode:  5000, average reward: -168.0, current epsilon: 0.01\n"
          ],
          "name": "stdout"
        },
        {
          "output_type": "stream",
          "text": [
            " 17%|█▋        | 5110/30000 [02:37<09:00, 46.06it/s]"
          ],
          "name": "stderr"
        },
        {
          "output_type": "stream",
          "text": [
            "Episode:  5100, average reward: -167.5, current epsilon: 0.01\n"
          ],
          "name": "stdout"
        },
        {
          "output_type": "stream",
          "text": [
            " 17%|█▋        | 5208/30000 [02:39<07:37, 54.15it/s]"
          ],
          "name": "stderr"
        },
        {
          "output_type": "stream",
          "text": [
            "Episode:  5200, average reward: -168.5, current epsilon: 0.01\n"
          ],
          "name": "stdout"
        },
        {
          "output_type": "stream",
          "text": [
            " 18%|█▊        | 5305/30000 [02:41<07:20, 56.01it/s]"
          ],
          "name": "stderr"
        },
        {
          "output_type": "stream",
          "text": [
            "Episode:  5300, average reward: -168.3, current epsilon: 0.01\n"
          ],
          "name": "stdout"
        },
        {
          "output_type": "stream",
          "text": [
            " 18%|█▊        | 5409/30000 [02:43<07:20, 55.84it/s]"
          ],
          "name": "stderr"
        },
        {
          "output_type": "stream",
          "text": [
            "Episode:  5400, average reward: -169.0, current epsilon: 0.01\n"
          ],
          "name": "stdout"
        },
        {
          "output_type": "stream",
          "text": [
            " 18%|█▊        | 5506/30000 [02:46<08:33, 47.71it/s]"
          ],
          "name": "stderr"
        },
        {
          "output_type": "stream",
          "text": [
            "Episode:  5500, average reward: -169.9, current epsilon: 0.01\n"
          ],
          "name": "stdout"
        },
        {
          "output_type": "stream",
          "text": [
            " 19%|█▊        | 5604/30000 [02:48<07:39, 53.12it/s]"
          ],
          "name": "stderr"
        },
        {
          "output_type": "stream",
          "text": [
            "Episode:  5600, average reward: -169.3, current epsilon: 0.01\n"
          ],
          "name": "stdout"
        },
        {
          "output_type": "stream",
          "text": [
            " 19%|█▉        | 5705/30000 [02:50<09:04, 44.60it/s]"
          ],
          "name": "stderr"
        },
        {
          "output_type": "stream",
          "text": [
            "Episode:  5700, average reward: -168.6, current epsilon: 0.01\n"
          ],
          "name": "stdout"
        },
        {
          "output_type": "stream",
          "text": [
            " 19%|█▉        | 5811/30000 [02:52<08:02, 50.09it/s]"
          ],
          "name": "stderr"
        },
        {
          "output_type": "stream",
          "text": [
            "Episode:  5800, average reward: -169.2, current epsilon: 0.01\n"
          ],
          "name": "stdout"
        },
        {
          "output_type": "stream",
          "text": [
            " 20%|█▉        | 5909/30000 [02:54<07:30, 53.42it/s]"
          ],
          "name": "stderr"
        },
        {
          "output_type": "stream",
          "text": [
            "Episode:  5900, average reward: -167.2, current epsilon: 0.01\n"
          ],
          "name": "stdout"
        },
        {
          "output_type": "stream",
          "text": [
            " 20%|█▉        | 5999/30000 [02:55<07:18, 54.75it/s]"
          ],
          "name": "stderr"
        },
        {
          "output_type": "stream",
          "text": [
            "Episode:  6000, average reward: -167.5, current epsilon: 0.01\n"
          ],
          "name": "stdout"
        },
        {
          "output_type": "stream",
          "text": [
            " 20%|██        | 6109/30000 [03:00<08:30, 46.77it/s]"
          ],
          "name": "stderr"
        },
        {
          "output_type": "stream",
          "text": [
            "Episode:  6100, average reward: -168.0, current epsilon: 0.01\n"
          ],
          "name": "stdout"
        },
        {
          "output_type": "stream",
          "text": [
            " 21%|██        | 6206/30000 [03:02<10:29, 37.80it/s]"
          ],
          "name": "stderr"
        },
        {
          "output_type": "stream",
          "text": [
            "Episode:  6200, average reward: -169.4, current epsilon: 0.01\n"
          ],
          "name": "stdout"
        },
        {
          "output_type": "stream",
          "text": [
            " 21%|██        | 6308/30000 [03:04<08:45, 45.10it/s]"
          ],
          "name": "stderr"
        },
        {
          "output_type": "stream",
          "text": [
            "Episode:  6300, average reward: -169.8, current epsilon: 0.01\n"
          ],
          "name": "stdout"
        },
        {
          "output_type": "stream",
          "text": [
            " 21%|██▏       | 6405/30000 [03:06<08:45, 44.89it/s]"
          ],
          "name": "stderr"
        },
        {
          "output_type": "stream",
          "text": [
            "Episode:  6400, average reward: -168.9, current epsilon: 0.01\n"
          ],
          "name": "stdout"
        },
        {
          "output_type": "stream",
          "text": [
            " 22%|██▏       | 6504/30000 [03:09<09:25, 41.54it/s]"
          ],
          "name": "stderr"
        },
        {
          "output_type": "stream",
          "text": [
            "Episode:  6500, average reward: -172.1, current epsilon: 0.01\n"
          ],
          "name": "stdout"
        },
        {
          "output_type": "stream",
          "text": [
            " 22%|██▏       | 6608/30000 [03:11<09:22, 41.59it/s]"
          ],
          "name": "stderr"
        },
        {
          "output_type": "stream",
          "text": [
            "Episode:  6600, average reward: -168.6, current epsilon: 0.01\n"
          ],
          "name": "stdout"
        },
        {
          "output_type": "stream",
          "text": [
            " 22%|██▏       | 6706/30000 [03:14<09:10, 42.29it/s]"
          ],
          "name": "stderr"
        },
        {
          "output_type": "stream",
          "text": [
            "Episode:  6700, average reward: -171.3, current epsilon: 0.01\n"
          ],
          "name": "stdout"
        },
        {
          "output_type": "stream",
          "text": [
            " 23%|██▎       | 6805/30000 [03:16<08:51, 43.68it/s]"
          ],
          "name": "stderr"
        },
        {
          "output_type": "stream",
          "text": [
            "Episode:  6800, average reward: -169.1, current epsilon: 0.01\n"
          ],
          "name": "stdout"
        },
        {
          "output_type": "stream",
          "text": [
            " 23%|██▎       | 6905/30000 [03:18<08:38, 44.56it/s]"
          ],
          "name": "stderr"
        },
        {
          "output_type": "stream",
          "text": [
            "Episode:  6900, average reward: -166.9, current epsilon: 0.01\n"
          ],
          "name": "stdout"
        },
        {
          "output_type": "stream",
          "text": [
            " 23%|██▎       | 6997/30000 [03:20<08:33, 44.76it/s]"
          ],
          "name": "stderr"
        },
        {
          "output_type": "stream",
          "text": [
            "Episode:  7000, average reward: -164.9, current epsilon: 0.01\n"
          ],
          "name": "stdout"
        },
        {
          "output_type": "stream",
          "text": [
            " 24%|██▎       | 7110/30000 [03:24<08:08, 46.86it/s]"
          ],
          "name": "stderr"
        },
        {
          "output_type": "stream",
          "text": [
            "Episode:  7100, average reward: -166.6, current epsilon: 0.01\n"
          ],
          "name": "stdout"
        },
        {
          "output_type": "stream",
          "text": [
            " 24%|██▍       | 7209/30000 [03:26<09:28, 40.06it/s]"
          ],
          "name": "stderr"
        },
        {
          "output_type": "stream",
          "text": [
            "Episode:  7200, average reward: -167.4, current epsilon: 0.01\n"
          ],
          "name": "stdout"
        },
        {
          "output_type": "stream",
          "text": [
            " 24%|██▍       | 7302/30000 [03:29<09:36, 39.36it/s]"
          ],
          "name": "stderr"
        },
        {
          "output_type": "stream",
          "text": [
            "Episode:  7300, average reward: -166.8, current epsilon: 0.01\n"
          ],
          "name": "stdout"
        },
        {
          "output_type": "stream",
          "text": [
            " 25%|██▍       | 7408/30000 [03:31<09:32, 39.47it/s]"
          ],
          "name": "stderr"
        },
        {
          "output_type": "stream",
          "text": [
            "Episode:  7400, average reward: -167.0, current epsilon: 0.01\n"
          ],
          "name": "stdout"
        },
        {
          "output_type": "stream",
          "text": [
            " 25%|██▌       | 7509/30000 [03:33<08:10, 45.86it/s]"
          ],
          "name": "stderr"
        },
        {
          "output_type": "stream",
          "text": [
            "Episode:  7500, average reward: -167.5, current epsilon: 0.01\n"
          ],
          "name": "stdout"
        },
        {
          "output_type": "stream",
          "text": [
            " 25%|██▌       | 7608/30000 [03:36<08:43, 42.79it/s]"
          ],
          "name": "stderr"
        },
        {
          "output_type": "stream",
          "text": [
            "Episode:  7600, average reward: -165.3, current epsilon: 0.01\n"
          ],
          "name": "stdout"
        },
        {
          "output_type": "stream",
          "text": [
            " 26%|██▌       | 7700/30000 [03:38<07:20, 50.59it/s]"
          ],
          "name": "stderr"
        },
        {
          "output_type": "stream",
          "text": [
            "Episode:  7700, average reward: -164.7, current epsilon: 0.01\n"
          ],
          "name": "stdout"
        },
        {
          "output_type": "stream",
          "text": [
            " 26%|██▌       | 7805/30000 [03:40<06:54, 53.59it/s]"
          ],
          "name": "stderr"
        },
        {
          "output_type": "stream",
          "text": [
            "Episode:  7800, average reward: -165.7, current epsilon: 0.01\n"
          ],
          "name": "stdout"
        },
        {
          "output_type": "stream",
          "text": [
            " 26%|██▋       | 7904/30000 [03:42<07:19, 50.30it/s]"
          ],
          "name": "stderr"
        },
        {
          "output_type": "stream",
          "text": [
            "Episode:  7900, average reward: -167.5, current epsilon: 0.01\n"
          ],
          "name": "stdout"
        },
        {
          "output_type": "stream",
          "text": [
            " 27%|██▋       | 7997/30000 [03:44<06:49, 53.79it/s]"
          ],
          "name": "stderr"
        },
        {
          "output_type": "stream",
          "text": [
            "Episode:  8000, average reward: -165.4, current epsilon: 0.01\n"
          ],
          "name": "stdout"
        },
        {
          "output_type": "stream",
          "text": [
            " 27%|██▋       | 8106/30000 [03:47<07:14, 50.43it/s]"
          ],
          "name": "stderr"
        },
        {
          "output_type": "stream",
          "text": [
            "Episode:  8100, average reward: -166.2, current epsilon: 0.01\n"
          ],
          "name": "stdout"
        },
        {
          "output_type": "stream",
          "text": [
            " 27%|██▋       | 8209/30000 [03:50<08:17, 43.78it/s]"
          ],
          "name": "stderr"
        },
        {
          "output_type": "stream",
          "text": [
            "Episode:  8200, average reward: -165.8, current epsilon: 0.01\n"
          ],
          "name": "stdout"
        },
        {
          "output_type": "stream",
          "text": [
            " 28%|██▊       | 8304/30000 [03:52<07:43, 46.81it/s]"
          ],
          "name": "stderr"
        },
        {
          "output_type": "stream",
          "text": [
            "Episode:  8300, average reward: -165.0, current epsilon: 0.01\n"
          ],
          "name": "stdout"
        },
        {
          "output_type": "stream",
          "text": [
            " 28%|██▊       | 8408/30000 [03:54<07:37, 47.24it/s]"
          ],
          "name": "stderr"
        },
        {
          "output_type": "stream",
          "text": [
            "Episode:  8400, average reward: -165.9, current epsilon: 0.01\n"
          ],
          "name": "stdout"
        },
        {
          "output_type": "stream",
          "text": [
            " 28%|██▊       | 8502/30000 [03:56<06:59, 51.25it/s]"
          ],
          "name": "stderr"
        },
        {
          "output_type": "stream",
          "text": [
            "Episode:  8500, average reward: -167.2, current epsilon: 0.01\n"
          ],
          "name": "stdout"
        },
        {
          "output_type": "stream",
          "text": [
            " 29%|██▊       | 8607/30000 [03:59<08:22, 42.58it/s]"
          ],
          "name": "stderr"
        },
        {
          "output_type": "stream",
          "text": [
            "Episode:  8600, average reward: -165.6, current epsilon: 0.01\n"
          ],
          "name": "stdout"
        },
        {
          "output_type": "stream",
          "text": [
            " 29%|██▉       | 8707/30000 [04:01<07:58, 44.47it/s]"
          ],
          "name": "stderr"
        },
        {
          "output_type": "stream",
          "text": [
            "Episode:  8700, average reward: -168.1, current epsilon: 0.01\n"
          ],
          "name": "stdout"
        },
        {
          "output_type": "stream",
          "text": [
            " 29%|██▉       | 8805/30000 [04:04<07:48, 45.22it/s]"
          ],
          "name": "stderr"
        },
        {
          "output_type": "stream",
          "text": [
            "Episode:  8800, average reward: -167.0, current epsilon: 0.01\n"
          ],
          "name": "stdout"
        },
        {
          "output_type": "stream",
          "text": [
            " 30%|██▉       | 8908/30000 [04:06<07:52, 44.61it/s]"
          ],
          "name": "stderr"
        },
        {
          "output_type": "stream",
          "text": [
            "Episode:  8900, average reward: -163.4, current epsilon: 0.01\n"
          ],
          "name": "stdout"
        },
        {
          "output_type": "stream",
          "text": [
            " 30%|██▉       | 8995/30000 [04:08<06:37, 52.89it/s]"
          ],
          "name": "stderr"
        },
        {
          "output_type": "stream",
          "text": [
            "Episode:  9000, average reward: -163.2, current epsilon: 0.01\n"
          ],
          "name": "stdout"
        },
        {
          "output_type": "stream",
          "text": [
            " 30%|███       | 9110/30000 [04:12<07:27, 46.72it/s]"
          ],
          "name": "stderr"
        },
        {
          "output_type": "stream",
          "text": [
            "Episode:  9100, average reward: -164.0, current epsilon: 0.01\n"
          ],
          "name": "stdout"
        },
        {
          "output_type": "stream",
          "text": [
            " 31%|███       | 9205/30000 [04:14<07:37, 45.47it/s]"
          ],
          "name": "stderr"
        },
        {
          "output_type": "stream",
          "text": [
            "Episode:  9200, average reward: -165.3, current epsilon: 0.01\n"
          ],
          "name": "stdout"
        },
        {
          "output_type": "stream",
          "text": [
            " 31%|███       | 9305/30000 [04:16<08:13, 41.96it/s]"
          ],
          "name": "stderr"
        },
        {
          "output_type": "stream",
          "text": [
            "Episode:  9300, average reward: -164.5, current epsilon: 0.01\n"
          ],
          "name": "stdout"
        },
        {
          "output_type": "stream",
          "text": [
            " 31%|███▏      | 9406/30000 [04:19<07:08, 48.07it/s]"
          ],
          "name": "stderr"
        },
        {
          "output_type": "stream",
          "text": [
            "Episode:  9400, average reward: -169.6, current epsilon: 0.01\n"
          ],
          "name": "stdout"
        },
        {
          "output_type": "stream",
          "text": [
            " 32%|███▏      | 9509/30000 [04:21<06:22, 53.55it/s]"
          ],
          "name": "stderr"
        },
        {
          "output_type": "stream",
          "text": [
            "Episode:  9500, average reward: -167.5, current epsilon: 0.01\n"
          ],
          "name": "stdout"
        },
        {
          "output_type": "stream",
          "text": [
            " 32%|███▏      | 9609/30000 [04:23<07:26, 45.64it/s]"
          ],
          "name": "stderr"
        },
        {
          "output_type": "stream",
          "text": [
            "Episode:  9600, average reward: -166.5, current epsilon: 0.01\n"
          ],
          "name": "stdout"
        },
        {
          "output_type": "stream",
          "text": [
            " 32%|███▏      | 9705/30000 [04:25<08:31, 39.64it/s]"
          ],
          "name": "stderr"
        },
        {
          "output_type": "stream",
          "text": [
            "Episode:  9700, average reward: -162.1, current epsilon: 0.01\n"
          ],
          "name": "stdout"
        },
        {
          "output_type": "stream",
          "text": [
            " 33%|███▎      | 9809/30000 [04:27<06:06, 55.07it/s]"
          ],
          "name": "stderr"
        },
        {
          "output_type": "stream",
          "text": [
            "Episode:  9800, average reward: -164.4, current epsilon: 0.01\n"
          ],
          "name": "stdout"
        },
        {
          "output_type": "stream",
          "text": [
            " 33%|███▎      | 9907/30000 [04:30<10:57, 30.57it/s]"
          ],
          "name": "stderr"
        },
        {
          "output_type": "stream",
          "text": [
            "Episode:  9900, average reward: -163.6, current epsilon: 0.01\n"
          ],
          "name": "stdout"
        },
        {
          "output_type": "stream",
          "text": [
            " 33%|███▎      | 9998/30000 [04:32<07:52, 42.32it/s]"
          ],
          "name": "stderr"
        },
        {
          "output_type": "stream",
          "text": [
            "Episode: 10000, average reward: -165.9, current epsilon: 0.01\n"
          ],
          "name": "stdout"
        },
        {
          "output_type": "stream",
          "text": [
            " 34%|███▎      | 10103/30000 [04:37<13:12, 25.11it/s]"
          ],
          "name": "stderr"
        },
        {
          "output_type": "stream",
          "text": [
            "Episode: 10100, average reward: -165.9, current epsilon: 0.01\n"
          ],
          "name": "stdout"
        },
        {
          "output_type": "stream",
          "text": [
            " 34%|███▍      | 10209/30000 [04:39<06:10, 53.44it/s]"
          ],
          "name": "stderr"
        },
        {
          "output_type": "stream",
          "text": [
            "Episode: 10200, average reward: -162.5, current epsilon: 0.01\n"
          ],
          "name": "stdout"
        },
        {
          "output_type": "stream",
          "text": [
            " 34%|███▍      | 10305/30000 [04:41<07:59, 41.04it/s]"
          ],
          "name": "stderr"
        },
        {
          "output_type": "stream",
          "text": [
            "Episode: 10300, average reward: -161.7, current epsilon: 0.01\n"
          ],
          "name": "stdout"
        },
        {
          "output_type": "stream",
          "text": [
            " 35%|███▍      | 10408/30000 [04:43<08:36, 37.91it/s]"
          ],
          "name": "stderr"
        },
        {
          "output_type": "stream",
          "text": [
            "Episode: 10400, average reward: -162.2, current epsilon: 0.01\n"
          ],
          "name": "stdout"
        },
        {
          "output_type": "stream",
          "text": [
            " 35%|███▌      | 10502/30000 [04:45<06:31, 49.80it/s]"
          ],
          "name": "stderr"
        },
        {
          "output_type": "stream",
          "text": [
            "Episode: 10500, average reward: -161.1, current epsilon: 0.01\n"
          ],
          "name": "stdout"
        },
        {
          "output_type": "stream",
          "text": [
            " 35%|███▌      | 10605/30000 [04:47<06:36, 48.93it/s]"
          ],
          "name": "stderr"
        },
        {
          "output_type": "stream",
          "text": [
            "Episode: 10600, average reward: -161.5, current epsilon: 0.01\n"
          ],
          "name": "stdout"
        },
        {
          "output_type": "stream",
          "text": [
            " 36%|███▌      | 10706/30000 [04:50<07:20, 43.78it/s]"
          ],
          "name": "stderr"
        },
        {
          "output_type": "stream",
          "text": [
            "Episode: 10700, average reward: -162.1, current epsilon: 0.01\n"
          ],
          "name": "stdout"
        },
        {
          "output_type": "stream",
          "text": [
            " 36%|███▌      | 10805/30000 [04:52<07:15, 44.08it/s]"
          ],
          "name": "stderr"
        },
        {
          "output_type": "stream",
          "text": [
            "Episode: 10800, average reward: -160.1, current epsilon: 0.01\n"
          ],
          "name": "stdout"
        },
        {
          "output_type": "stream",
          "text": [
            " 36%|███▋      | 10906/30000 [04:55<07:06, 44.72it/s]"
          ],
          "name": "stderr"
        },
        {
          "output_type": "stream",
          "text": [
            "Episode: 10900, average reward: -160.1, current epsilon: 0.01\n"
          ],
          "name": "stdout"
        },
        {
          "output_type": "stream",
          "text": [
            " 37%|███▋      | 10996/30000 [04:57<06:47, 46.61it/s]"
          ],
          "name": "stderr"
        },
        {
          "output_type": "stream",
          "text": [
            "Episode: 11000, average reward: -161.8, current epsilon: 0.01\n"
          ],
          "name": "stdout"
        },
        {
          "output_type": "stream",
          "text": [
            " 37%|███▋      | 11107/30000 [05:00<07:16, 43.32it/s]"
          ],
          "name": "stderr"
        },
        {
          "output_type": "stream",
          "text": [
            "Episode: 11100, average reward: -159.5, current epsilon: 0.01\n"
          ],
          "name": "stdout"
        },
        {
          "output_type": "stream",
          "text": [
            " 37%|███▋      | 11205/30000 [05:03<08:07, 38.53it/s]"
          ],
          "name": "stderr"
        },
        {
          "output_type": "stream",
          "text": [
            "Episode: 11200, average reward: -162.9, current epsilon: 0.01\n"
          ],
          "name": "stdout"
        },
        {
          "output_type": "stream",
          "text": [
            " 38%|███▊      | 11308/30000 [05:05<05:43, 54.38it/s]"
          ],
          "name": "stderr"
        },
        {
          "output_type": "stream",
          "text": [
            "Episode: 11300, average reward: -163.7, current epsilon: 0.01\n"
          ],
          "name": "stdout"
        },
        {
          "output_type": "stream",
          "text": [
            " 38%|███▊      | 11405/30000 [05:07<06:05, 50.87it/s]"
          ],
          "name": "stderr"
        },
        {
          "output_type": "stream",
          "text": [
            "Episode: 11400, average reward: -160.2, current epsilon: 0.01\n"
          ],
          "name": "stdout"
        },
        {
          "output_type": "stream",
          "text": [
            " 38%|███▊      | 11505/30000 [05:09<07:19, 42.08it/s]"
          ],
          "name": "stderr"
        },
        {
          "output_type": "stream",
          "text": [
            "Episode: 11500, average reward: -160.3, current epsilon: 0.01\n"
          ],
          "name": "stdout"
        },
        {
          "output_type": "stream",
          "text": [
            " 39%|███▊      | 11605/30000 [05:11<05:58, 51.36it/s]"
          ],
          "name": "stderr"
        },
        {
          "output_type": "stream",
          "text": [
            "Episode: 11600, average reward: -161.6, current epsilon: 0.01\n"
          ],
          "name": "stdout"
        },
        {
          "output_type": "stream",
          "text": [
            " 39%|███▉      | 11706/30000 [05:13<07:25, 41.10it/s]"
          ],
          "name": "stderr"
        },
        {
          "output_type": "stream",
          "text": [
            "Episode: 11700, average reward: -161.1, current epsilon: 0.01\n"
          ],
          "name": "stdout"
        },
        {
          "output_type": "stream",
          "text": [
            " 39%|███▉      | 11805/30000 [05:15<06:42, 45.24it/s]"
          ],
          "name": "stderr"
        },
        {
          "output_type": "stream",
          "text": [
            "Episode: 11800, average reward: -160.7, current epsilon: 0.01\n"
          ],
          "name": "stdout"
        },
        {
          "output_type": "stream",
          "text": [
            " 40%|███▉      | 11907/30000 [05:18<05:26, 55.33it/s]"
          ],
          "name": "stderr"
        },
        {
          "output_type": "stream",
          "text": [
            "Episode: 11900, average reward: -161.3, current epsilon: 0.01\n"
          ],
          "name": "stdout"
        },
        {
          "output_type": "stream",
          "text": [
            " 40%|███▉      | 11999/30000 [05:19<06:50, 43.81it/s]"
          ],
          "name": "stderr"
        },
        {
          "output_type": "stream",
          "text": [
            "Episode: 12000, average reward: -161.0, current epsilon: 0.01\n"
          ],
          "name": "stdout"
        },
        {
          "output_type": "stream",
          "text": [
            " 40%|████      | 12107/30000 [05:23<07:34, 39.39it/s]"
          ],
          "name": "stderr"
        },
        {
          "output_type": "stream",
          "text": [
            "Episode: 12100, average reward: -173.3, current epsilon: 0.01\n"
          ],
          "name": "stdout"
        },
        {
          "output_type": "stream",
          "text": [
            " 41%|████      | 12204/30000 [05:26<07:13, 41.03it/s]"
          ],
          "name": "stderr"
        },
        {
          "output_type": "stream",
          "text": [
            "Episode: 12200, average reward: -177.7, current epsilon: 0.01\n"
          ],
          "name": "stdout"
        },
        {
          "output_type": "stream",
          "text": [
            " 41%|████      | 12305/30000 [05:29<08:17, 35.58it/s]"
          ],
          "name": "stderr"
        },
        {
          "output_type": "stream",
          "text": [
            "Episode: 12300, average reward: -176.8, current epsilon: 0.01\n"
          ],
          "name": "stdout"
        },
        {
          "output_type": "stream",
          "text": [
            " 41%|████▏     | 12404/30000 [05:31<08:58, 32.70it/s]"
          ],
          "name": "stderr"
        },
        {
          "output_type": "stream",
          "text": [
            "Episode: 12400, average reward: -180.5, current epsilon: 0.01\n"
          ],
          "name": "stdout"
        },
        {
          "output_type": "stream",
          "text": [
            " 42%|████▏     | 12506/30000 [05:34<08:45, 33.32it/s]"
          ],
          "name": "stderr"
        },
        {
          "output_type": "stream",
          "text": [
            "Episode: 12500, average reward: -177.6, current epsilon: 0.01\n"
          ],
          "name": "stdout"
        },
        {
          "output_type": "stream",
          "text": [
            " 42%|████▏     | 12608/30000 [05:37<06:42, 43.18it/s]"
          ],
          "name": "stderr"
        },
        {
          "output_type": "stream",
          "text": [
            "Episode: 12600, average reward: -178.8, current epsilon: 0.01\n"
          ],
          "name": "stdout"
        },
        {
          "output_type": "stream",
          "text": [
            " 42%|████▏     | 12707/30000 [05:39<07:01, 41.00it/s]"
          ],
          "name": "stderr"
        },
        {
          "output_type": "stream",
          "text": [
            "Episode: 12700, average reward: -180.9, current epsilon: 0.01\n"
          ],
          "name": "stdout"
        },
        {
          "output_type": "stream",
          "text": [
            " 43%|████▎     | 12808/30000 [05:42<06:51, 41.75it/s]"
          ],
          "name": "stderr"
        },
        {
          "output_type": "stream",
          "text": [
            "Episode: 12800, average reward: -180.7, current epsilon: 0.01\n"
          ],
          "name": "stdout"
        },
        {
          "output_type": "stream",
          "text": [
            " 43%|████▎     | 12906/30000 [05:44<07:33, 37.67it/s]"
          ],
          "name": "stderr"
        },
        {
          "output_type": "stream",
          "text": [
            "Episode: 12900, average reward: -175.8, current epsilon: 0.01\n"
          ],
          "name": "stdout"
        },
        {
          "output_type": "stream",
          "text": [
            " 43%|████▎     | 12997/30000 [05:47<07:24, 38.28it/s]"
          ],
          "name": "stderr"
        },
        {
          "output_type": "stream",
          "text": [
            "Episode: 13000, average reward: -167.5, current epsilon: 0.01\n"
          ],
          "name": "stdout"
        },
        {
          "output_type": "stream",
          "text": [
            " 44%|████▎     | 13105/30000 [05:51<08:01, 35.05it/s]"
          ],
          "name": "stderr"
        },
        {
          "output_type": "stream",
          "text": [
            "Episode: 13100, average reward: -166.5, current epsilon: 0.01\n"
          ],
          "name": "stdout"
        },
        {
          "output_type": "stream",
          "text": [
            " 44%|████▍     | 13204/30000 [05:53<06:45, 41.43it/s]"
          ],
          "name": "stderr"
        },
        {
          "output_type": "stream",
          "text": [
            "Episode: 13200, average reward: -170.0, current epsilon: 0.01\n"
          ],
          "name": "stdout"
        },
        {
          "output_type": "stream",
          "text": [
            " 44%|████▍     | 13305/30000 [05:55<06:15, 44.52it/s]"
          ],
          "name": "stderr"
        },
        {
          "output_type": "stream",
          "text": [
            "Episode: 13300, average reward: -176.8, current epsilon: 0.01\n"
          ],
          "name": "stdout"
        },
        {
          "output_type": "stream",
          "text": [
            " 45%|████▍     | 13408/30000 [05:58<05:25, 50.92it/s]"
          ],
          "name": "stderr"
        },
        {
          "output_type": "stream",
          "text": [
            "Episode: 13400, average reward: -173.5, current epsilon: 0.01\n"
          ],
          "name": "stdout"
        },
        {
          "output_type": "stream",
          "text": [
            " 45%|████▌     | 13505/30000 [05:59<05:01, 54.66it/s]"
          ],
          "name": "stderr"
        },
        {
          "output_type": "stream",
          "text": [
            "Episode: 13500, average reward: -169.5, current epsilon: 0.01\n"
          ],
          "name": "stdout"
        },
        {
          "output_type": "stream",
          "text": [
            " 45%|████▌     | 13608/30000 [06:01<05:18, 51.53it/s]"
          ],
          "name": "stderr"
        },
        {
          "output_type": "stream",
          "text": [
            "Episode: 13600, average reward: -168.6, current epsilon: 0.01\n"
          ],
          "name": "stdout"
        },
        {
          "output_type": "stream",
          "text": [
            " 46%|████▌     | 13710/30000 [06:03<05:02, 53.84it/s]"
          ],
          "name": "stderr"
        },
        {
          "output_type": "stream",
          "text": [
            "Episode: 13700, average reward: -171.8, current epsilon: 0.01\n"
          ],
          "name": "stdout"
        },
        {
          "output_type": "stream",
          "text": [
            " 46%|████▌     | 13807/30000 [06:05<05:34, 48.35it/s]"
          ],
          "name": "stderr"
        },
        {
          "output_type": "stream",
          "text": [
            "Episode: 13800, average reward: -171.2, current epsilon: 0.01\n"
          ],
          "name": "stdout"
        },
        {
          "output_type": "stream",
          "text": [
            " 46%|████▋     | 13908/30000 [06:07<05:21, 50.09it/s]"
          ],
          "name": "stderr"
        },
        {
          "output_type": "stream",
          "text": [
            "Episode: 13900, average reward: -172.5, current epsilon: 0.01\n"
          ],
          "name": "stdout"
        },
        {
          "output_type": "stream",
          "text": [
            " 47%|████▋     | 13998/30000 [06:09<05:15, 50.65it/s]"
          ],
          "name": "stderr"
        },
        {
          "output_type": "stream",
          "text": [
            "Episode: 14000, average reward: -176.0, current epsilon: 0.01\n"
          ],
          "name": "stdout"
        },
        {
          "output_type": "stream",
          "text": [
            " 47%|████▋     | 14109/30000 [06:13<05:32, 47.81it/s]"
          ],
          "name": "stderr"
        },
        {
          "output_type": "stream",
          "text": [
            "Episode: 14100, average reward: -179.1, current epsilon: 0.01\n"
          ],
          "name": "stdout"
        },
        {
          "output_type": "stream",
          "text": [
            " 47%|████▋     | 14207/30000 [06:15<05:13, 50.36it/s]"
          ],
          "name": "stderr"
        },
        {
          "output_type": "stream",
          "text": [
            "Episode: 14200, average reward: -181.0, current epsilon: 0.01\n"
          ],
          "name": "stdout"
        },
        {
          "output_type": "stream",
          "text": [
            " 48%|████▊     | 14310/30000 [06:17<05:15, 49.70it/s]"
          ],
          "name": "stderr"
        },
        {
          "output_type": "stream",
          "text": [
            "Episode: 14300, average reward: -173.6, current epsilon: 0.01\n"
          ],
          "name": "stdout"
        },
        {
          "output_type": "stream",
          "text": [
            " 48%|████▊     | 14409/30000 [06:19<05:59, 43.40it/s]"
          ],
          "name": "stderr"
        },
        {
          "output_type": "stream",
          "text": [
            "Episode: 14400, average reward: -178.1, current epsilon: 0.01\n"
          ],
          "name": "stdout"
        },
        {
          "output_type": "stream",
          "text": [
            " 48%|████▊     | 14505/30000 [06:22<05:25, 47.65it/s]"
          ],
          "name": "stderr"
        },
        {
          "output_type": "stream",
          "text": [
            "Episode: 14500, average reward: -177.5, current epsilon: 0.01\n"
          ],
          "name": "stdout"
        },
        {
          "output_type": "stream",
          "text": [
            " 49%|████▊     | 14608/30000 [06:24<05:34, 46.05it/s]"
          ],
          "name": "stderr"
        },
        {
          "output_type": "stream",
          "text": [
            "Episode: 14600, average reward: -165.2, current epsilon: 0.01\n"
          ],
          "name": "stdout"
        },
        {
          "output_type": "stream",
          "text": [
            " 49%|████▉     | 14706/30000 [06:25<04:31, 56.23it/s]"
          ],
          "name": "stderr"
        },
        {
          "output_type": "stream",
          "text": [
            "Episode: 14700, average reward: -162.0, current epsilon: 0.01\n"
          ],
          "name": "stdout"
        },
        {
          "output_type": "stream",
          "text": [
            " 49%|████▉     | 14811/30000 [06:27<04:23, 57.64it/s]"
          ],
          "name": "stderr"
        },
        {
          "output_type": "stream",
          "text": [
            "Episode: 14800, average reward: -158.7, current epsilon: 0.01\n"
          ],
          "name": "stdout"
        },
        {
          "output_type": "stream",
          "text": [
            " 50%|████▉     | 14906/30000 [06:29<04:23, 57.34it/s]"
          ],
          "name": "stderr"
        },
        {
          "output_type": "stream",
          "text": [
            "Episode: 14900, average reward: -160.4, current epsilon: 0.01\n"
          ],
          "name": "stdout"
        },
        {
          "output_type": "stream",
          "text": [
            " 50%|████▉     | 14996/30000 [06:30<04:14, 58.95it/s]"
          ],
          "name": "stderr"
        },
        {
          "output_type": "stream",
          "text": [
            "Episode: 15000, average reward: -152.0, current epsilon: 0.01\n"
          ],
          "name": "stdout"
        },
        {
          "output_type": "stream",
          "text": [
            " 50%|█████     | 15110/30000 [06:34<05:08, 48.22it/s]"
          ],
          "name": "stderr"
        },
        {
          "output_type": "stream",
          "text": [
            "Episode: 15100, average reward: -152.9, current epsilon: 0.01\n"
          ],
          "name": "stdout"
        },
        {
          "output_type": "stream",
          "text": [
            " 51%|█████     | 15211/30000 [06:37<05:17, 46.56it/s]"
          ],
          "name": "stderr"
        },
        {
          "output_type": "stream",
          "text": [
            "Episode: 15200, average reward: -152.1, current epsilon: 0.01\n"
          ],
          "name": "stdout"
        },
        {
          "output_type": "stream",
          "text": [
            " 51%|█████     | 15306/30000 [06:38<04:06, 59.68it/s]"
          ],
          "name": "stderr"
        },
        {
          "output_type": "stream",
          "text": [
            "Episode: 15300, average reward: -154.8, current epsilon: 0.01\n"
          ],
          "name": "stdout"
        },
        {
          "output_type": "stream",
          "text": [
            " 51%|█████▏    | 15410/30000 [06:40<04:11, 58.00it/s]"
          ],
          "name": "stderr"
        },
        {
          "output_type": "stream",
          "text": [
            "Episode: 15400, average reward: -153.4, current epsilon: 0.01\n"
          ],
          "name": "stdout"
        },
        {
          "output_type": "stream",
          "text": [
            " 52%|█████▏    | 15509/30000 [06:42<04:23, 55.03it/s]"
          ],
          "name": "stderr"
        },
        {
          "output_type": "stream",
          "text": [
            "Episode: 15500, average reward: -154.4, current epsilon: 0.01\n"
          ],
          "name": "stdout"
        },
        {
          "output_type": "stream",
          "text": [
            " 52%|█████▏    | 15608/30000 [06:43<04:06, 58.42it/s]"
          ],
          "name": "stderr"
        },
        {
          "output_type": "stream",
          "text": [
            "Episode: 15600, average reward: -154.0, current epsilon: 0.01\n"
          ],
          "name": "stdout"
        },
        {
          "output_type": "stream",
          "text": [
            " 52%|█████▏    | 15711/30000 [06:45<04:03, 58.80it/s]"
          ],
          "name": "stderr"
        },
        {
          "output_type": "stream",
          "text": [
            "Episode: 15700, average reward: -154.2, current epsilon: 0.01\n"
          ],
          "name": "stdout"
        },
        {
          "output_type": "stream",
          "text": [
            " 53%|█████▎    | 15810/30000 [06:47<03:59, 59.35it/s]"
          ],
          "name": "stderr"
        },
        {
          "output_type": "stream",
          "text": [
            "Episode: 15800, average reward: -154.6, current epsilon: 0.01\n"
          ],
          "name": "stdout"
        },
        {
          "output_type": "stream",
          "text": [
            " 53%|█████▎    | 15908/30000 [06:48<03:54, 60.06it/s]"
          ],
          "name": "stderr"
        },
        {
          "output_type": "stream",
          "text": [
            "Episode: 15900, average reward: -154.3, current epsilon: 0.01\n"
          ],
          "name": "stdout"
        },
        {
          "output_type": "stream",
          "text": [
            " 53%|█████▎    | 15998/30000 [06:50<03:47, 61.42it/s]"
          ],
          "name": "stderr"
        },
        {
          "output_type": "stream",
          "text": [
            "Episode: 16000, average reward: -154.5, current epsilon: 0.01\n"
          ],
          "name": "stdout"
        },
        {
          "output_type": "stream",
          "text": [
            " 54%|█████▎    | 16099/30000 [06:53<03:57, 58.53it/s]"
          ],
          "name": "stderr"
        },
        {
          "output_type": "stream",
          "text": [
            "Episode: 16100, average reward: -154.7, current epsilon: 0.01\n"
          ],
          "name": "stdout"
        },
        {
          "output_type": "stream",
          "text": [
            " 54%|█████▍    | 16208/30000 [06:55<04:55, 46.64it/s]"
          ],
          "name": "stderr"
        },
        {
          "output_type": "stream",
          "text": [
            "Episode: 16200, average reward: -155.2, current epsilon: 0.01\n"
          ],
          "name": "stdout"
        },
        {
          "output_type": "stream",
          "text": [
            " 54%|█████▍    | 16307/30000 [06:57<05:20, 42.67it/s]"
          ],
          "name": "stderr"
        },
        {
          "output_type": "stream",
          "text": [
            "Episode: 16300, average reward: -153.6, current epsilon: 0.01\n"
          ],
          "name": "stdout"
        },
        {
          "output_type": "stream",
          "text": [
            " 55%|█████▍    | 16408/30000 [06:59<03:53, 58.10it/s]"
          ],
          "name": "stderr"
        },
        {
          "output_type": "stream",
          "text": [
            "Episode: 16400, average reward: -155.9, current epsilon: 0.01\n"
          ],
          "name": "stdout"
        },
        {
          "output_type": "stream",
          "text": [
            " 55%|█████▌    | 16510/30000 [07:01<04:12, 53.36it/s]"
          ],
          "name": "stderr"
        },
        {
          "output_type": "stream",
          "text": [
            "Episode: 16500, average reward: -156.2, current epsilon: 0.01\n"
          ],
          "name": "stdout"
        },
        {
          "output_type": "stream",
          "text": [
            " 55%|█████▌    | 16609/30000 [07:03<03:44, 59.59it/s]"
          ],
          "name": "stderr"
        },
        {
          "output_type": "stream",
          "text": [
            "Episode: 16600, average reward: -156.0, current epsilon: 0.01\n"
          ],
          "name": "stdout"
        },
        {
          "output_type": "stream",
          "text": [
            " 56%|█████▌    | 16707/30000 [07:05<03:42, 59.84it/s]"
          ],
          "name": "stderr"
        },
        {
          "output_type": "stream",
          "text": [
            "Episode: 16700, average reward: -156.8, current epsilon: 0.01\n"
          ],
          "name": "stdout"
        },
        {
          "output_type": "stream",
          "text": [
            " 56%|█████▌    | 16810/30000 [07:07<03:53, 56.54it/s]"
          ],
          "name": "stderr"
        },
        {
          "output_type": "stream",
          "text": [
            "Episode: 16800, average reward: -155.7, current epsilon: 0.01\n"
          ],
          "name": "stdout"
        },
        {
          "output_type": "stream",
          "text": [
            " 56%|█████▋    | 16907/30000 [07:08<03:34, 60.96it/s]"
          ],
          "name": "stderr"
        },
        {
          "output_type": "stream",
          "text": [
            "Episode: 16900, average reward: -154.7, current epsilon: 0.01\n"
          ],
          "name": "stdout"
        },
        {
          "output_type": "stream",
          "text": [
            " 57%|█████▋    | 16999/30000 [07:10<03:41, 58.74it/s]"
          ],
          "name": "stderr"
        },
        {
          "output_type": "stream",
          "text": [
            "Episode: 17000, average reward: -154.6, current epsilon: 0.01\n"
          ],
          "name": "stdout"
        },
        {
          "output_type": "stream",
          "text": [
            " 57%|█████▋    | 17106/30000 [07:13<04:15, 50.49it/s]"
          ],
          "name": "stderr"
        },
        {
          "output_type": "stream",
          "text": [
            "Episode: 17100, average reward: -155.8, current epsilon: 0.01\n"
          ],
          "name": "stdout"
        },
        {
          "output_type": "stream",
          "text": [
            " 57%|█████▋    | 17208/30000 [07:15<03:36, 59.06it/s]"
          ],
          "name": "stderr"
        },
        {
          "output_type": "stream",
          "text": [
            "Episode: 17200, average reward: -156.6, current epsilon: 0.01\n"
          ],
          "name": "stdout"
        },
        {
          "output_type": "stream",
          "text": [
            " 58%|█████▊    | 17308/30000 [07:17<04:25, 47.78it/s]"
          ],
          "name": "stderr"
        },
        {
          "output_type": "stream",
          "text": [
            "Episode: 17300, average reward: -155.0, current epsilon: 0.01\n"
          ],
          "name": "stdout"
        },
        {
          "output_type": "stream",
          "text": [
            " 58%|█████▊    | 17406/30000 [07:19<03:37, 57.84it/s]"
          ],
          "name": "stderr"
        },
        {
          "output_type": "stream",
          "text": [
            "Episode: 17400, average reward: -153.5, current epsilon: 0.01\n"
          ],
          "name": "stdout"
        },
        {
          "output_type": "stream",
          "text": [
            " 58%|█████▊    | 17511/30000 [07:21<03:34, 58.26it/s]"
          ],
          "name": "stderr"
        },
        {
          "output_type": "stream",
          "text": [
            "Episode: 17500, average reward: -157.8, current epsilon: 0.01\n"
          ],
          "name": "stdout"
        },
        {
          "output_type": "stream",
          "text": [
            " 59%|█████▊    | 17601/30000 [07:23<04:54, 42.03it/s]"
          ],
          "name": "stderr"
        },
        {
          "output_type": "stream",
          "text": [
            "Episode: 17600, average reward: -155.9, current epsilon: 0.01\n"
          ],
          "name": "stdout"
        },
        {
          "output_type": "stream",
          "text": [
            " 59%|█████▉    | 17705/30000 [07:24<03:40, 55.66it/s]"
          ],
          "name": "stderr"
        },
        {
          "output_type": "stream",
          "text": [
            "Episode: 17700, average reward: -154.8, current epsilon: 0.01\n"
          ],
          "name": "stdout"
        },
        {
          "output_type": "stream",
          "text": [
            " 59%|█████▉    | 17811/30000 [07:26<03:28, 58.59it/s]"
          ],
          "name": "stderr"
        },
        {
          "output_type": "stream",
          "text": [
            "Episode: 17800, average reward: -153.5, current epsilon: 0.01\n"
          ],
          "name": "stdout"
        },
        {
          "output_type": "stream",
          "text": [
            " 60%|█████▉    | 17907/30000 [07:28<03:19, 60.48it/s]"
          ],
          "name": "stderr"
        },
        {
          "output_type": "stream",
          "text": [
            "Episode: 17900, average reward: -153.6, current epsilon: 0.01\n"
          ],
          "name": "stdout"
        },
        {
          "output_type": "stream",
          "text": [
            " 60%|█████▉    | 17997/30000 [07:29<03:05, 64.54it/s]"
          ],
          "name": "stderr"
        },
        {
          "output_type": "stream",
          "text": [
            "Episode: 18000, average reward: -153.3, current epsilon: 0.01\n"
          ],
          "name": "stdout"
        },
        {
          "output_type": "stream",
          "text": [
            " 60%|██████    | 18109/30000 [07:34<04:13, 46.88it/s]"
          ],
          "name": "stderr"
        },
        {
          "output_type": "stream",
          "text": [
            "Episode: 18100, average reward: -153.5, current epsilon: 0.01\n"
          ],
          "name": "stdout"
        },
        {
          "output_type": "stream",
          "text": [
            " 61%|██████    | 18208/30000 [07:36<04:57, 39.69it/s]"
          ],
          "name": "stderr"
        },
        {
          "output_type": "stream",
          "text": [
            "Episode: 18200, average reward: -152.2, current epsilon: 0.01\n"
          ],
          "name": "stdout"
        },
        {
          "output_type": "stream",
          "text": [
            " 61%|██████    | 18305/30000 [07:38<03:43, 52.24it/s]"
          ],
          "name": "stderr"
        },
        {
          "output_type": "stream",
          "text": [
            "Episode: 18300, average reward: -153.3, current epsilon: 0.01\n"
          ],
          "name": "stdout"
        },
        {
          "output_type": "stream",
          "text": [
            " 61%|██████▏   | 18408/30000 [07:40<03:46, 51.10it/s]"
          ],
          "name": "stderr"
        },
        {
          "output_type": "stream",
          "text": [
            "Episode: 18400, average reward: -150.5, current epsilon: 0.01\n"
          ],
          "name": "stdout"
        },
        {
          "output_type": "stream",
          "text": [
            " 62%|██████▏   | 18506/30000 [07:42<04:23, 43.59it/s]"
          ],
          "name": "stderr"
        },
        {
          "output_type": "stream",
          "text": [
            "Episode: 18500, average reward: -150.1, current epsilon: 0.01\n"
          ],
          "name": "stdout"
        },
        {
          "output_type": "stream",
          "text": [
            " 62%|██████▏   | 18605/30000 [07:44<04:43, 40.15it/s]"
          ],
          "name": "stderr"
        },
        {
          "output_type": "stream",
          "text": [
            "Episode: 18600, average reward: -152.5, current epsilon: 0.01\n"
          ],
          "name": "stdout"
        },
        {
          "output_type": "stream",
          "text": [
            " 62%|██████▏   | 18707/30000 [07:46<04:37, 40.73it/s]"
          ],
          "name": "stderr"
        },
        {
          "output_type": "stream",
          "text": [
            "Episode: 18700, average reward: -154.2, current epsilon: 0.01\n"
          ],
          "name": "stdout"
        },
        {
          "output_type": "stream",
          "text": [
            " 63%|██████▎   | 18807/30000 [07:48<03:25, 54.54it/s]"
          ],
          "name": "stderr"
        },
        {
          "output_type": "stream",
          "text": [
            "Episode: 18800, average reward: -150.6, current epsilon: 0.01\n"
          ],
          "name": "stdout"
        },
        {
          "output_type": "stream",
          "text": [
            " 63%|██████▎   | 18906/30000 [07:50<03:59, 46.25it/s]"
          ],
          "name": "stderr"
        },
        {
          "output_type": "stream",
          "text": [
            "Episode: 18900, average reward: -151.4, current epsilon: 0.01\n"
          ],
          "name": "stdout"
        },
        {
          "output_type": "stream",
          "text": [
            " 63%|██████▎   | 18995/30000 [07:52<04:06, 44.74it/s]"
          ],
          "name": "stderr"
        },
        {
          "output_type": "stream",
          "text": [
            "Episode: 19000, average reward: -150.5, current epsilon: 0.01\n"
          ],
          "name": "stdout"
        },
        {
          "output_type": "stream",
          "text": [
            " 64%|██████▎   | 19102/30000 [07:56<04:46, 38.07it/s]"
          ],
          "name": "stderr"
        },
        {
          "output_type": "stream",
          "text": [
            "Episode: 19100, average reward: -154.4, current epsilon: 0.01\n"
          ],
          "name": "stdout"
        },
        {
          "output_type": "stream",
          "text": [
            " 64%|██████▍   | 19210/30000 [07:58<03:01, 59.51it/s]"
          ],
          "name": "stderr"
        },
        {
          "output_type": "stream",
          "text": [
            "Episode: 19200, average reward: -152.2, current epsilon: 0.01\n"
          ],
          "name": "stdout"
        },
        {
          "output_type": "stream",
          "text": [
            " 64%|██████▍   | 19308/30000 [07:59<02:45, 64.78it/s]"
          ],
          "name": "stderr"
        },
        {
          "output_type": "stream",
          "text": [
            "Episode: 19300, average reward: -151.8, current epsilon: 0.01\n"
          ],
          "name": "stdout"
        },
        {
          "output_type": "stream",
          "text": [
            " 65%|██████▍   | 19410/30000 [08:01<02:56, 60.07it/s]"
          ],
          "name": "stderr"
        },
        {
          "output_type": "stream",
          "text": [
            "Episode: 19400, average reward: -153.5, current epsilon: 0.01\n"
          ],
          "name": "stdout"
        },
        {
          "output_type": "stream",
          "text": [
            " 65%|██████▌   | 19508/30000 [08:03<02:55, 59.91it/s]"
          ],
          "name": "stderr"
        },
        {
          "output_type": "stream",
          "text": [
            "Episode: 19500, average reward: -151.2, current epsilon: 0.01\n"
          ],
          "name": "stdout"
        },
        {
          "output_type": "stream",
          "text": [
            " 65%|██████▌   | 19606/30000 [08:04<02:45, 62.89it/s]"
          ],
          "name": "stderr"
        },
        {
          "output_type": "stream",
          "text": [
            "Episode: 19600, average reward: -152.9, current epsilon: 0.01\n"
          ],
          "name": "stdout"
        },
        {
          "output_type": "stream",
          "text": [
            " 66%|██████▌   | 19711/30000 [08:06<03:17, 52.05it/s]"
          ],
          "name": "stderr"
        },
        {
          "output_type": "stream",
          "text": [
            "Episode: 19700, average reward: -151.7, current epsilon: 0.01\n"
          ],
          "name": "stdout"
        },
        {
          "output_type": "stream",
          "text": [
            " 66%|██████▌   | 19807/30000 [08:08<04:28, 37.96it/s]"
          ],
          "name": "stderr"
        },
        {
          "output_type": "stream",
          "text": [
            "Episode: 19800, average reward: -152.2, current epsilon: 0.01\n"
          ],
          "name": "stdout"
        },
        {
          "output_type": "stream",
          "text": [
            " 66%|██████▋   | 19908/30000 [08:11<03:27, 48.58it/s]"
          ],
          "name": "stderr"
        },
        {
          "output_type": "stream",
          "text": [
            "Episode: 19900, average reward: -152.2, current epsilon: 0.01\n"
          ],
          "name": "stdout"
        },
        {
          "output_type": "stream",
          "text": [
            " 67%|██████▋   | 19998/30000 [08:12<02:58, 55.90it/s]"
          ],
          "name": "stderr"
        },
        {
          "output_type": "stream",
          "text": [
            "Episode: 20000, average reward: -151.2, current epsilon: 0.01\n"
          ],
          "name": "stdout"
        },
        {
          "output_type": "stream",
          "text": [
            " 67%|██████▋   | 20109/30000 [08:16<03:44, 44.10it/s]"
          ],
          "name": "stderr"
        },
        {
          "output_type": "stream",
          "text": [
            "Episode: 20100, average reward: -151.6, current epsilon: 0.01\n"
          ],
          "name": "stdout"
        },
        {
          "output_type": "stream",
          "text": [
            " 67%|██████▋   | 20208/30000 [08:18<03:37, 45.02it/s]"
          ],
          "name": "stderr"
        },
        {
          "output_type": "stream",
          "text": [
            "Episode: 20200, average reward: -161.3, current epsilon: 0.01\n"
          ],
          "name": "stdout"
        },
        {
          "output_type": "stream",
          "text": [
            " 68%|██████▊   | 20306/30000 [08:20<03:04, 52.50it/s]"
          ],
          "name": "stderr"
        },
        {
          "output_type": "stream",
          "text": [
            "Episode: 20300, average reward: -174.0, current epsilon: 0.01\n"
          ],
          "name": "stdout"
        },
        {
          "output_type": "stream",
          "text": [
            " 68%|██████▊   | 20402/30000 [08:22<04:06, 38.88it/s]"
          ],
          "name": "stderr"
        },
        {
          "output_type": "stream",
          "text": [
            "Episode: 20400, average reward: -174.0, current epsilon: 0.01\n"
          ],
          "name": "stdout"
        },
        {
          "output_type": "stream",
          "text": [
            " 68%|██████▊   | 20507/30000 [08:25<03:32, 44.67it/s]"
          ],
          "name": "stderr"
        },
        {
          "output_type": "stream",
          "text": [
            "Episode: 20500, average reward: -168.0, current epsilon: 0.01\n"
          ],
          "name": "stdout"
        },
        {
          "output_type": "stream",
          "text": [
            " 69%|██████▊   | 20610/30000 [08:27<03:31, 44.31it/s]"
          ],
          "name": "stderr"
        },
        {
          "output_type": "stream",
          "text": [
            "Episode: 20600, average reward: -155.7, current epsilon: 0.01\n"
          ],
          "name": "stdout"
        },
        {
          "output_type": "stream",
          "text": [
            " 69%|██████▉   | 20708/30000 [08:29<03:25, 45.27it/s]"
          ],
          "name": "stderr"
        },
        {
          "output_type": "stream",
          "text": [
            "Episode: 20700, average reward: -156.2, current epsilon: 0.01\n"
          ],
          "name": "stdout"
        },
        {
          "output_type": "stream",
          "text": [
            " 69%|██████▉   | 20807/30000 [08:31<03:16, 46.70it/s]"
          ],
          "name": "stderr"
        },
        {
          "output_type": "stream",
          "text": [
            "Episode: 20800, average reward: -157.6, current epsilon: 0.01\n"
          ],
          "name": "stdout"
        },
        {
          "output_type": "stream",
          "text": [
            " 70%|██████▉   | 20905/30000 [08:33<03:40, 41.23it/s]"
          ],
          "name": "stderr"
        },
        {
          "output_type": "stream",
          "text": [
            "Episode: 20900, average reward: -158.9, current epsilon: 0.01\n"
          ],
          "name": "stdout"
        },
        {
          "output_type": "stream",
          "text": [
            " 70%|██████▉   | 20995/30000 [08:35<02:43, 55.04it/s]"
          ],
          "name": "stderr"
        },
        {
          "output_type": "stream",
          "text": [
            "Episode: 21000, average reward: -153.7, current epsilon: 0.01\n"
          ],
          "name": "stdout"
        },
        {
          "output_type": "stream",
          "text": [
            " 70%|███████   | 21106/30000 [08:39<03:07, 47.39it/s]"
          ],
          "name": "stderr"
        },
        {
          "output_type": "stream",
          "text": [
            "Episode: 21100, average reward: -152.0, current epsilon: 0.01\n"
          ],
          "name": "stdout"
        },
        {
          "output_type": "stream",
          "text": [
            " 71%|███████   | 21209/30000 [08:41<02:45, 53.24it/s]"
          ],
          "name": "stderr"
        },
        {
          "output_type": "stream",
          "text": [
            "Episode: 21200, average reward: -150.8, current epsilon: 0.01\n"
          ],
          "name": "stdout"
        },
        {
          "output_type": "stream",
          "text": [
            " 71%|███████   | 21309/30000 [08:43<03:01, 47.92it/s]"
          ],
          "name": "stderr"
        },
        {
          "output_type": "stream",
          "text": [
            "Episode: 21300, average reward: -150.9, current epsilon: 0.01\n"
          ],
          "name": "stdout"
        },
        {
          "output_type": "stream",
          "text": [
            " 71%|███████▏  | 21406/30000 [08:45<03:05, 46.28it/s]"
          ],
          "name": "stderr"
        },
        {
          "output_type": "stream",
          "text": [
            "Episode: 21400, average reward: -152.8, current epsilon: 0.01\n"
          ],
          "name": "stdout"
        },
        {
          "output_type": "stream",
          "text": [
            " 72%|███████▏  | 21511/30000 [08:47<02:35, 54.75it/s]"
          ],
          "name": "stderr"
        },
        {
          "output_type": "stream",
          "text": [
            "Episode: 21500, average reward: -150.4, current epsilon: 0.01\n"
          ],
          "name": "stdout"
        },
        {
          "output_type": "stream",
          "text": [
            " 72%|███████▏  | 21607/30000 [08:49<02:14, 62.58it/s]"
          ],
          "name": "stderr"
        },
        {
          "output_type": "stream",
          "text": [
            "Episode: 21600, average reward: -149.8, current epsilon: 0.01\n"
          ],
          "name": "stdout"
        },
        {
          "output_type": "stream",
          "text": [
            " 72%|███████▏  | 21705/30000 [08:50<02:24, 57.44it/s]"
          ],
          "name": "stderr"
        },
        {
          "output_type": "stream",
          "text": [
            "Episode: 21700, average reward: -151.8, current epsilon: 0.01\n"
          ],
          "name": "stdout"
        },
        {
          "output_type": "stream",
          "text": [
            " 73%|███████▎  | 21810/30000 [08:52<02:15, 60.45it/s]"
          ],
          "name": "stderr"
        },
        {
          "output_type": "stream",
          "text": [
            "Episode: 21800, average reward: -152.5, current epsilon: 0.01\n"
          ],
          "name": "stdout"
        },
        {
          "output_type": "stream",
          "text": [
            " 73%|███████▎  | 21899/30000 [08:54<02:37, 51.28it/s]"
          ],
          "name": "stderr"
        },
        {
          "output_type": "stream",
          "text": [
            "Episode: 21900, average reward: -152.4, current epsilon: 0.01\n"
          ],
          "name": "stdout"
        },
        {
          "output_type": "stream",
          "text": [
            " 73%|███████▎  | 21995/30000 [08:55<02:11, 61.10it/s]"
          ],
          "name": "stderr"
        },
        {
          "output_type": "stream",
          "text": [
            "Episode: 22000, average reward: -152.6, current epsilon: 0.01\n"
          ],
          "name": "stdout"
        },
        {
          "output_type": "stream",
          "text": [
            " 74%|███████▎  | 22106/30000 [08:59<02:37, 50.05it/s]"
          ],
          "name": "stderr"
        },
        {
          "output_type": "stream",
          "text": [
            "Episode: 22100, average reward: -151.4, current epsilon: 0.01\n"
          ],
          "name": "stdout"
        },
        {
          "output_type": "stream",
          "text": [
            " 74%|███████▍  | 22208/30000 [09:01<02:20, 55.41it/s]"
          ],
          "name": "stderr"
        },
        {
          "output_type": "stream",
          "text": [
            "Episode: 22200, average reward: -153.5, current epsilon: 0.01\n"
          ],
          "name": "stdout"
        },
        {
          "output_type": "stream",
          "text": [
            " 74%|███████▍  | 22312/30000 [09:03<02:09, 59.43it/s]"
          ],
          "name": "stderr"
        },
        {
          "output_type": "stream",
          "text": [
            "Episode: 22300, average reward: -152.0, current epsilon: 0.01\n"
          ],
          "name": "stdout"
        },
        {
          "output_type": "stream",
          "text": [
            " 75%|███████▍  | 22409/30000 [09:04<02:07, 59.70it/s]"
          ],
          "name": "stderr"
        },
        {
          "output_type": "stream",
          "text": [
            "Episode: 22400, average reward: -151.8, current epsilon: 0.01\n"
          ],
          "name": "stdout"
        },
        {
          "output_type": "stream",
          "text": [
            " 75%|███████▌  | 22505/30000 [09:06<02:08, 58.51it/s]"
          ],
          "name": "stderr"
        },
        {
          "output_type": "stream",
          "text": [
            "Episode: 22500, average reward: -151.8, current epsilon: 0.01\n"
          ],
          "name": "stdout"
        },
        {
          "output_type": "stream",
          "text": [
            " 75%|███████▌  | 22611/30000 [09:08<02:17, 53.90it/s]"
          ],
          "name": "stderr"
        },
        {
          "output_type": "stream",
          "text": [
            "Episode: 22600, average reward: -150.9, current epsilon: 0.01\n"
          ],
          "name": "stdout"
        },
        {
          "output_type": "stream",
          "text": [
            " 76%|███████▌  | 22710/30000 [09:10<02:10, 55.71it/s]"
          ],
          "name": "stderr"
        },
        {
          "output_type": "stream",
          "text": [
            "Episode: 22700, average reward: -151.9, current epsilon: 0.01\n"
          ],
          "name": "stdout"
        },
        {
          "output_type": "stream",
          "text": [
            " 76%|███████▌  | 22812/30000 [09:12<02:00, 59.41it/s]"
          ],
          "name": "stderr"
        },
        {
          "output_type": "stream",
          "text": [
            "Episode: 22800, average reward: -150.8, current epsilon: 0.01\n"
          ],
          "name": "stdout"
        },
        {
          "output_type": "stream",
          "text": [
            " 76%|███████▋  | 22907/30000 [09:13<01:56, 60.83it/s]"
          ],
          "name": "stderr"
        },
        {
          "output_type": "stream",
          "text": [
            "Episode: 22900, average reward: -156.1, current epsilon: 0.01\n"
          ],
          "name": "stdout"
        },
        {
          "output_type": "stream",
          "text": [
            " 77%|███████▋  | 22996/30000 [09:15<02:16, 51.15it/s]"
          ],
          "name": "stderr"
        },
        {
          "output_type": "stream",
          "text": [
            "Episode: 23000, average reward: -172.6, current epsilon: 0.01\n"
          ],
          "name": "stdout"
        },
        {
          "output_type": "stream",
          "text": [
            " 77%|███████▋  | 23109/30000 [09:18<02:01, 56.79it/s]"
          ],
          "name": "stderr"
        },
        {
          "output_type": "stream",
          "text": [
            "Episode: 23100, average reward: -177.3, current epsilon: 0.01\n"
          ],
          "name": "stdout"
        },
        {
          "output_type": "stream",
          "text": [
            " 77%|███████▋  | 23208/30000 [09:20<02:14, 50.49it/s]"
          ],
          "name": "stderr"
        },
        {
          "output_type": "stream",
          "text": [
            "Episode: 23200, average reward: -177.1, current epsilon: 0.01\n"
          ],
          "name": "stdout"
        },
        {
          "output_type": "stream",
          "text": [
            " 78%|███████▊  | 23309/30000 [09:23<02:36, 42.71it/s]"
          ],
          "name": "stderr"
        },
        {
          "output_type": "stream",
          "text": [
            "Episode: 23300, average reward: -184.0, current epsilon: 0.01\n"
          ],
          "name": "stdout"
        },
        {
          "output_type": "stream",
          "text": [
            " 78%|███████▊  | 23410/30000 [09:25<02:00, 54.68it/s]"
          ],
          "name": "stderr"
        },
        {
          "output_type": "stream",
          "text": [
            "Episode: 23400, average reward: -169.2, current epsilon: 0.01\n"
          ],
          "name": "stdout"
        },
        {
          "output_type": "stream",
          "text": [
            " 78%|███████▊  | 23506/30000 [09:27<02:00, 54.05it/s]"
          ],
          "name": "stderr"
        },
        {
          "output_type": "stream",
          "text": [
            "Episode: 23500, average reward: -160.9, current epsilon: 0.01\n"
          ],
          "name": "stdout"
        },
        {
          "output_type": "stream",
          "text": [
            " 79%|███████▊  | 23609/30000 [09:29<02:02, 52.25it/s]"
          ],
          "name": "stderr"
        },
        {
          "output_type": "stream",
          "text": [
            "Episode: 23600, average reward: -157.3, current epsilon: 0.01\n"
          ],
          "name": "stdout"
        },
        {
          "output_type": "stream",
          "text": [
            " 79%|███████▉  | 23707/30000 [09:31<01:52, 56.10it/s]"
          ],
          "name": "stderr"
        },
        {
          "output_type": "stream",
          "text": [
            "Episode: 23700, average reward: -157.7, current epsilon: 0.01\n"
          ],
          "name": "stdout"
        },
        {
          "output_type": "stream",
          "text": [
            " 79%|███████▉  | 23808/30000 [09:32<01:55, 53.64it/s]"
          ],
          "name": "stderr"
        },
        {
          "output_type": "stream",
          "text": [
            "Episode: 23800, average reward: -158.9, current epsilon: 0.01\n"
          ],
          "name": "stdout"
        },
        {
          "output_type": "stream",
          "text": [
            " 80%|███████▉  | 23912/30000 [09:34<01:42, 59.37it/s]"
          ],
          "name": "stderr"
        },
        {
          "output_type": "stream",
          "text": [
            "Episode: 23900, average reward: -155.9, current epsilon: 0.01\n"
          ],
          "name": "stdout"
        },
        {
          "output_type": "stream",
          "text": [
            " 80%|███████▉  | 23994/30000 [09:36<01:40, 59.51it/s]"
          ],
          "name": "stderr"
        },
        {
          "output_type": "stream",
          "text": [
            "Episode: 24000, average reward: -154.6, current epsilon: 0.01\n"
          ],
          "name": "stdout"
        },
        {
          "output_type": "stream",
          "text": [
            " 80%|████████  | 24105/30000 [09:40<02:14, 43.89it/s]"
          ],
          "name": "stderr"
        },
        {
          "output_type": "stream",
          "text": [
            "Episode: 24100, average reward: -152.8, current epsilon: 0.01\n"
          ],
          "name": "stdout"
        },
        {
          "output_type": "stream",
          "text": [
            " 81%|████████  | 24208/30000 [09:42<02:02, 47.20it/s]"
          ],
          "name": "stderr"
        },
        {
          "output_type": "stream",
          "text": [
            "Episode: 24200, average reward: -153.0, current epsilon: 0.01\n"
          ],
          "name": "stdout"
        },
        {
          "output_type": "stream",
          "text": [
            " 81%|████████  | 24303/30000 [09:44<01:51, 51.32it/s]"
          ],
          "name": "stderr"
        },
        {
          "output_type": "stream",
          "text": [
            "Episode: 24300, average reward: -151.8, current epsilon: 0.01\n"
          ],
          "name": "stdout"
        },
        {
          "output_type": "stream",
          "text": [
            " 81%|████████▏ | 24405/30000 [09:45<01:30, 61.60it/s]"
          ],
          "name": "stderr"
        },
        {
          "output_type": "stream",
          "text": [
            "Episode: 24400, average reward: -151.4, current epsilon: 0.01\n"
          ],
          "name": "stdout"
        },
        {
          "output_type": "stream",
          "text": [
            " 82%|████████▏ | 24511/30000 [09:47<01:24, 64.66it/s]"
          ],
          "name": "stderr"
        },
        {
          "output_type": "stream",
          "text": [
            "Episode: 24500, average reward: -153.3, current epsilon: 0.01\n"
          ],
          "name": "stdout"
        },
        {
          "output_type": "stream",
          "text": [
            " 82%|████████▏ | 24611/30000 [09:49<01:27, 61.79it/s]"
          ],
          "name": "stderr"
        },
        {
          "output_type": "stream",
          "text": [
            "Episode: 24600, average reward: -152.9, current epsilon: 0.01\n"
          ],
          "name": "stdout"
        },
        {
          "output_type": "stream",
          "text": [
            " 82%|████████▏ | 24710/30000 [09:50<01:21, 65.23it/s]"
          ],
          "name": "stderr"
        },
        {
          "output_type": "stream",
          "text": [
            "Episode: 24700, average reward: -152.3, current epsilon: 0.01\n"
          ],
          "name": "stdout"
        },
        {
          "output_type": "stream",
          "text": [
            " 83%|████████▎ | 24806/30000 [09:52<01:38, 52.95it/s]"
          ],
          "name": "stderr"
        },
        {
          "output_type": "stream",
          "text": [
            "Episode: 24800, average reward: -150.5, current epsilon: 0.01\n"
          ],
          "name": "stdout"
        },
        {
          "output_type": "stream",
          "text": [
            " 83%|████████▎ | 24905/30000 [09:54<01:40, 50.75it/s]"
          ],
          "name": "stderr"
        },
        {
          "output_type": "stream",
          "text": [
            "Episode: 24900, average reward: -152.2, current epsilon: 0.01\n"
          ],
          "name": "stdout"
        },
        {
          "output_type": "stream",
          "text": [
            " 83%|████████▎ | 24998/30000 [09:55<01:34, 52.93it/s]"
          ],
          "name": "stderr"
        },
        {
          "output_type": "stream",
          "text": [
            "Episode: 25000, average reward: -152.9, current epsilon: 0.01\n"
          ],
          "name": "stdout"
        },
        {
          "output_type": "stream",
          "text": [
            " 84%|████████▎ | 25110/30000 [09:59<01:35, 51.22it/s]"
          ],
          "name": "stderr"
        },
        {
          "output_type": "stream",
          "text": [
            "Episode: 25100, average reward: -150.9, current epsilon: 0.01\n"
          ],
          "name": "stdout"
        },
        {
          "output_type": "stream",
          "text": [
            " 84%|████████▍ | 25207/30000 [10:01<01:27, 54.51it/s]"
          ],
          "name": "stderr"
        },
        {
          "output_type": "stream",
          "text": [
            "Episode: 25200, average reward: -151.7, current epsilon: 0.01\n"
          ],
          "name": "stdout"
        },
        {
          "output_type": "stream",
          "text": [
            " 84%|████████▍ | 25312/30000 [10:03<01:14, 63.12it/s]"
          ],
          "name": "stderr"
        },
        {
          "output_type": "stream",
          "text": [
            "Episode: 25300, average reward: -149.9, current epsilon: 0.01\n"
          ],
          "name": "stdout"
        },
        {
          "output_type": "stream",
          "text": [
            " 85%|████████▍ | 25408/30000 [10:04<01:07, 67.55it/s]"
          ],
          "name": "stderr"
        },
        {
          "output_type": "stream",
          "text": [
            "Episode: 25400, average reward: -146.1, current epsilon: 0.01\n"
          ],
          "name": "stdout"
        },
        {
          "output_type": "stream",
          "text": [
            " 85%|████████▌ | 25510/30000 [10:06<01:14, 60.21it/s]"
          ],
          "name": "stderr"
        },
        {
          "output_type": "stream",
          "text": [
            "Episode: 25500, average reward: -146.3, current epsilon: 0.01\n"
          ],
          "name": "stdout"
        },
        {
          "output_type": "stream",
          "text": [
            " 85%|████████▌ | 25613/30000 [10:07<01:08, 63.97it/s]"
          ],
          "name": "stderr"
        },
        {
          "output_type": "stream",
          "text": [
            "Episode: 25600, average reward: -147.0, current epsilon: 0.01\n"
          ],
          "name": "stdout"
        },
        {
          "output_type": "stream",
          "text": [
            " 86%|████████▌ | 25707/30000 [10:09<01:04, 66.14it/s]"
          ],
          "name": "stderr"
        },
        {
          "output_type": "stream",
          "text": [
            "Episode: 25700, average reward: -146.3, current epsilon: 0.01\n"
          ],
          "name": "stdout"
        },
        {
          "output_type": "stream",
          "text": [
            " 86%|████████▌ | 25806/30000 [10:10<01:05, 64.52it/s]"
          ],
          "name": "stderr"
        },
        {
          "output_type": "stream",
          "text": [
            "Episode: 25800, average reward: -147.2, current epsilon: 0.01\n"
          ],
          "name": "stdout"
        },
        {
          "output_type": "stream",
          "text": [
            " 86%|████████▋ | 25909/30000 [10:12<01:15, 53.94it/s]"
          ],
          "name": "stderr"
        },
        {
          "output_type": "stream",
          "text": [
            "Episode: 25900, average reward: -147.3, current epsilon: 0.01\n"
          ],
          "name": "stdout"
        },
        {
          "output_type": "stream",
          "text": [
            " 87%|████████▋ | 26000/30000 [10:14<01:09, 57.28it/s]"
          ],
          "name": "stderr"
        },
        {
          "output_type": "stream",
          "text": [
            "Episode: 26000, average reward: -147.3, current epsilon: 0.01\n"
          ],
          "name": "stdout"
        },
        {
          "output_type": "stream",
          "text": [
            " 87%|████████▋ | 26112/30000 [10:17<01:00, 64.72it/s]"
          ],
          "name": "stderr"
        },
        {
          "output_type": "stream",
          "text": [
            "Episode: 26100, average reward: -146.4, current epsilon: 0.01\n"
          ],
          "name": "stdout"
        },
        {
          "output_type": "stream",
          "text": [
            " 87%|████████▋ | 26203/30000 [10:19<01:10, 53.87it/s]"
          ],
          "name": "stderr"
        },
        {
          "output_type": "stream",
          "text": [
            "Episode: 26200, average reward: -147.1, current epsilon: 0.01\n"
          ],
          "name": "stdout"
        },
        {
          "output_type": "stream",
          "text": [
            " 88%|████████▊ | 26310/30000 [10:21<01:10, 52.41it/s]"
          ],
          "name": "stderr"
        },
        {
          "output_type": "stream",
          "text": [
            "Episode: 26300, average reward: -147.3, current epsilon: 0.01\n"
          ],
          "name": "stdout"
        },
        {
          "output_type": "stream",
          "text": [
            " 88%|████████▊ | 26409/30000 [10:23<01:12, 49.57it/s]"
          ],
          "name": "stderr"
        },
        {
          "output_type": "stream",
          "text": [
            "Episode: 26400, average reward: -148.2, current epsilon: 0.01\n"
          ],
          "name": "stdout"
        },
        {
          "output_type": "stream",
          "text": [
            " 88%|████████▊ | 26506/30000 [10:24<01:06, 52.38it/s]"
          ],
          "name": "stderr"
        },
        {
          "output_type": "stream",
          "text": [
            "Episode: 26500, average reward: -148.5, current epsilon: 0.01\n"
          ],
          "name": "stdout"
        },
        {
          "output_type": "stream",
          "text": [
            " 89%|████████▊ | 26605/30000 [10:26<01:02, 54.76it/s]"
          ],
          "name": "stderr"
        },
        {
          "output_type": "stream",
          "text": [
            "Episode: 26600, average reward: -147.8, current epsilon: 0.01\n"
          ],
          "name": "stdout"
        },
        {
          "output_type": "stream",
          "text": [
            " 89%|████████▉ | 26704/30000 [10:28<00:57, 57.62it/s]"
          ],
          "name": "stderr"
        },
        {
          "output_type": "stream",
          "text": [
            "Episode: 26700, average reward: -148.4, current epsilon: 0.01\n"
          ],
          "name": "stdout"
        },
        {
          "output_type": "stream",
          "text": [
            " 89%|████████▉ | 26810/30000 [10:30<00:56, 56.23it/s]"
          ],
          "name": "stderr"
        },
        {
          "output_type": "stream",
          "text": [
            "Episode: 26800, average reward: -148.6, current epsilon: 0.01\n"
          ],
          "name": "stdout"
        },
        {
          "output_type": "stream",
          "text": [
            " 90%|████████▉ | 26905/30000 [10:32<00:57, 53.40it/s]"
          ],
          "name": "stderr"
        },
        {
          "output_type": "stream",
          "text": [
            "Episode: 26900, average reward: -149.8, current epsilon: 0.01\n"
          ],
          "name": "stdout"
        },
        {
          "output_type": "stream",
          "text": [
            " 90%|████████▉ | 26997/30000 [10:34<01:00, 50.03it/s]"
          ],
          "name": "stderr"
        },
        {
          "output_type": "stream",
          "text": [
            "Episode: 27000, average reward: -151.0, current epsilon: 0.01\n"
          ],
          "name": "stdout"
        },
        {
          "output_type": "stream",
          "text": [
            " 90%|█████████ | 27107/30000 [10:37<01:01, 47.12it/s]"
          ],
          "name": "stderr"
        },
        {
          "output_type": "stream",
          "text": [
            "Episode: 27100, average reward: -152.2, current epsilon: 0.01\n"
          ],
          "name": "stdout"
        },
        {
          "output_type": "stream",
          "text": [
            " 91%|█████████ | 27209/30000 [10:39<00:54, 51.68it/s]"
          ],
          "name": "stderr"
        },
        {
          "output_type": "stream",
          "text": [
            "Episode: 27200, average reward: -152.6, current epsilon: 0.01\n"
          ],
          "name": "stdout"
        },
        {
          "output_type": "stream",
          "text": [
            " 91%|█████████ | 27309/30000 [10:41<00:57, 46.99it/s]"
          ],
          "name": "stderr"
        },
        {
          "output_type": "stream",
          "text": [
            "Episode: 27300, average reward: -168.2, current epsilon: 0.01\n"
          ],
          "name": "stdout"
        },
        {
          "output_type": "stream",
          "text": [
            " 91%|█████████▏| 27411/30000 [10:43<00:49, 52.10it/s]"
          ],
          "name": "stderr"
        },
        {
          "output_type": "stream",
          "text": [
            "Episode: 27400, average reward: -165.4, current epsilon: 0.01\n"
          ],
          "name": "stdout"
        },
        {
          "output_type": "stream",
          "text": [
            " 92%|█████████▏| 27508/30000 [10:45<00:45, 55.31it/s]"
          ],
          "name": "stderr"
        },
        {
          "output_type": "stream",
          "text": [
            "Episode: 27500, average reward: -171.4, current epsilon: 0.01\n"
          ],
          "name": "stdout"
        },
        {
          "output_type": "stream",
          "text": [
            " 92%|█████████▏| 27611/30000 [10:47<00:36, 64.94it/s]"
          ],
          "name": "stderr"
        },
        {
          "output_type": "stream",
          "text": [
            "Episode: 27600, average reward: -152.4, current epsilon: 0.01\n"
          ],
          "name": "stdout"
        },
        {
          "output_type": "stream",
          "text": [
            " 92%|█████████▏| 27705/30000 [10:48<00:37, 61.40it/s]"
          ],
          "name": "stderr"
        },
        {
          "output_type": "stream",
          "text": [
            "Episode: 27700, average reward: -148.5, current epsilon: 0.01\n"
          ],
          "name": "stdout"
        },
        {
          "output_type": "stream",
          "text": [
            " 93%|█████████▎| 27810/30000 [10:51<00:41, 52.62it/s]"
          ],
          "name": "stderr"
        },
        {
          "output_type": "stream",
          "text": [
            "Episode: 27800, average reward: -148.4, current epsilon: 0.01\n"
          ],
          "name": "stdout"
        },
        {
          "output_type": "stream",
          "text": [
            " 93%|█████████▎| 27910/30000 [10:52<00:37, 55.11it/s]"
          ],
          "name": "stderr"
        },
        {
          "output_type": "stream",
          "text": [
            "Episode: 27900, average reward: -150.2, current epsilon: 0.01\n"
          ],
          "name": "stdout"
        },
        {
          "output_type": "stream",
          "text": [
            " 93%|█████████▎| 27999/30000 [10:54<00:39, 51.19it/s]"
          ],
          "name": "stderr"
        },
        {
          "output_type": "stream",
          "text": [
            "Episode: 28000, average reward: -147.9, current epsilon: 0.01\n"
          ],
          "name": "stdout"
        },
        {
          "output_type": "stream",
          "text": [
            " 94%|█████████▎| 28111/30000 [10:58<00:30, 61.90it/s]"
          ],
          "name": "stderr"
        },
        {
          "output_type": "stream",
          "text": [
            "Episode: 28100, average reward: -148.9, current epsilon: 0.01\n"
          ],
          "name": "stdout"
        },
        {
          "output_type": "stream",
          "text": [
            " 94%|█████████▍| 28213/30000 [10:59<00:27, 66.13it/s]"
          ],
          "name": "stderr"
        },
        {
          "output_type": "stream",
          "text": [
            "Episode: 28200, average reward: -149.9, current epsilon: 0.01\n"
          ],
          "name": "stdout"
        },
        {
          "output_type": "stream",
          "text": [
            " 94%|█████████▍| 28306/30000 [11:01<00:27, 61.41it/s]"
          ],
          "name": "stderr"
        },
        {
          "output_type": "stream",
          "text": [
            "Episode: 28300, average reward: -150.4, current epsilon: 0.01\n"
          ],
          "name": "stdout"
        },
        {
          "output_type": "stream",
          "text": [
            " 95%|█████████▍| 28407/30000 [11:02<00:26, 59.07it/s]"
          ],
          "name": "stderr"
        },
        {
          "output_type": "stream",
          "text": [
            "Episode: 28400, average reward: -146.4, current epsilon: 0.01\n"
          ],
          "name": "stdout"
        },
        {
          "output_type": "stream",
          "text": [
            " 95%|█████████▌| 28509/30000 [11:04<00:22, 65.50it/s]"
          ],
          "name": "stderr"
        },
        {
          "output_type": "stream",
          "text": [
            "Episode: 28500, average reward: -146.4, current epsilon: 0.01\n"
          ],
          "name": "stdout"
        },
        {
          "output_type": "stream",
          "text": [
            " 95%|█████████▌| 28607/30000 [11:05<00:21, 63.60it/s]"
          ],
          "name": "stderr"
        },
        {
          "output_type": "stream",
          "text": [
            "Episode: 28600, average reward: -145.0, current epsilon: 0.01\n"
          ],
          "name": "stdout"
        },
        {
          "output_type": "stream",
          "text": [
            " 96%|█████████▌| 28709/30000 [11:07<00:19, 65.79it/s]"
          ],
          "name": "stderr"
        },
        {
          "output_type": "stream",
          "text": [
            "Episode: 28700, average reward: -147.2, current epsilon: 0.01\n"
          ],
          "name": "stdout"
        },
        {
          "output_type": "stream",
          "text": [
            " 96%|█████████▌| 28811/30000 [11:08<00:20, 58.70it/s]"
          ],
          "name": "stderr"
        },
        {
          "output_type": "stream",
          "text": [
            "Episode: 28800, average reward: -147.4, current epsilon: 0.01\n"
          ],
          "name": "stdout"
        },
        {
          "output_type": "stream",
          "text": [
            " 96%|█████████▋| 28913/30000 [11:10<00:16, 66.45it/s]"
          ],
          "name": "stderr"
        },
        {
          "output_type": "stream",
          "text": [
            "Episode: 28900, average reward: -146.4, current epsilon: 0.01\n"
          ],
          "name": "stdout"
        },
        {
          "output_type": "stream",
          "text": [
            " 97%|█████████▋| 28999/30000 [11:11<00:16, 62.39it/s]"
          ],
          "name": "stderr"
        },
        {
          "output_type": "stream",
          "text": [
            "Episode: 29000, average reward: -147.0, current epsilon: 0.01\n"
          ],
          "name": "stdout"
        },
        {
          "output_type": "stream",
          "text": [
            " 97%|█████████▋| 29109/30000 [11:14<00:15, 59.23it/s]"
          ],
          "name": "stderr"
        },
        {
          "output_type": "stream",
          "text": [
            "Episode: 29100, average reward: -146.4, current epsilon: 0.01\n"
          ],
          "name": "stdout"
        },
        {
          "output_type": "stream",
          "text": [
            " 97%|█████████▋| 29211/30000 [11:16<00:11, 67.08it/s]"
          ],
          "name": "stderr"
        },
        {
          "output_type": "stream",
          "text": [
            "Episode: 29200, average reward: -145.0, current epsilon: 0.01\n"
          ],
          "name": "stdout"
        },
        {
          "output_type": "stream",
          "text": [
            " 98%|█████████▊| 29311/30000 [11:18<00:12, 56.89it/s]"
          ],
          "name": "stderr"
        },
        {
          "output_type": "stream",
          "text": [
            "Episode: 29300, average reward: -147.9, current epsilon: 0.01\n"
          ],
          "name": "stdout"
        },
        {
          "output_type": "stream",
          "text": [
            " 98%|█████████▊| 29409/30000 [11:19<00:12, 48.35it/s]"
          ],
          "name": "stderr"
        },
        {
          "output_type": "stream",
          "text": [
            "Episode: 29400, average reward: -152.1, current epsilon: 0.01\n"
          ],
          "name": "stdout"
        },
        {
          "output_type": "stream",
          "text": [
            " 98%|█████████▊| 29508/30000 [11:22<00:08, 58.03it/s]"
          ],
          "name": "stderr"
        },
        {
          "output_type": "stream",
          "text": [
            "Episode: 29500, average reward: -161.5, current epsilon: 0.01\n"
          ],
          "name": "stdout"
        },
        {
          "output_type": "stream",
          "text": [
            " 99%|█████████▊| 29607/30000 [11:23<00:07, 55.99it/s]"
          ],
          "name": "stderr"
        },
        {
          "output_type": "stream",
          "text": [
            "Episode: 29600, average reward: -155.9, current epsilon: 0.01\n"
          ],
          "name": "stdout"
        },
        {
          "output_type": "stream",
          "text": [
            " 99%|█████████▉| 29707/30000 [11:25<00:07, 40.92it/s]"
          ],
          "name": "stderr"
        },
        {
          "output_type": "stream",
          "text": [
            "Episode: 29700, average reward: -153.4, current epsilon: 0.01\n"
          ],
          "name": "stdout"
        },
        {
          "output_type": "stream",
          "text": [
            " 99%|█████████▉| 29812/30000 [11:27<00:02, 62.89it/s]"
          ],
          "name": "stderr"
        },
        {
          "output_type": "stream",
          "text": [
            "Episode: 29800, average reward: -150.8, current epsilon: 0.01\n"
          ],
          "name": "stdout"
        },
        {
          "output_type": "stream",
          "text": [
            "100%|█████████▉| 29906/30000 [11:28<00:01, 59.52it/s]"
          ],
          "name": "stderr"
        },
        {
          "output_type": "stream",
          "text": [
            "Episode: 29900, average reward: -151.7, current epsilon: 0.01\n"
          ],
          "name": "stdout"
        },
        {
          "output_type": "stream",
          "text": [
            "100%|██████████| 30000/30000 [11:30<00:00, 43.42it/s]\n"
          ],
          "name": "stderr"
        },
        {
          "output_type": "stream",
          "text": [
            "Episode: 30000, average reward: -168.1, current epsilon: 0.01\n",
            "time elapsed: 690.98s\n"
          ],
          "name": "stdout"
        },
        {
          "output_type": "display_data",
          "data": {
            "image/png": "[encoded data removed]",
            "text/plain": [
              "<Figure size 432x288 with 1 Axes>"
            ]
          },
          "metadata": {
            "tags": []
          }
        },
        {
          "output_type": "stream",
          "text": [
            "/usr/local/lib/python3.6/dist-packages/ipykernel_launcher.py:95: UserWarning: Matplotlib is currently using module://ipykernel.pylab.backend_inline, which is a non-GUI backend, so cannot show the figure.\n",
            "/usr/local/lib/python3.6/dist-packages/ipykernel_launcher.py:109: UserWarning: Matplotlib is currently using module://ipykernel.pylab.backend_inline, which is a non-GUI backend, so cannot show the figure.\n"
          ],
          "name": "stderr"
        },
        {
          "output_type": "display_data",
          "data": {
            "image/png": "[encoded data removed]",
            "text/plain": [
              "<Figure size 432x288 with 1 Axes>"
            ]
          },
          "metadata": {
            "tags": []
          }
        }
      ]
    },
    {
      "cell_type": "code",
      "metadata": {
        "id": "Qu17uLXthxJp",
        "colab_type": "code",
        "colab": {}
      },
      "source": [
        ""
      ],
      "execution_count": null,
      "outputs": []
    },
    {
      "cell_type": "code",
      "metadata": {
        "id": "bDcv22Tbtk6Q",
        "colab_type": "code",
        "colab": {}
      },
      "source": [
        ""
      ],
      "execution_count": null,
      "outputs": []
    },
    {
      "cell_type": "code",
      "metadata": {
        "id": "NQBSKZIGvXmz",
        "colab_type": "code",
        "colab": {}
      },
      "source": [
        ""
      ],
      "execution_count": null,
      "outputs": []
    },
    {
      "cell_type": "code",
      "metadata": {
        "id": "6l1YUpa2ko6N",
        "colab_type": "code",
        "colab": {}
      },
      "source": [
        "# Load a model and check how it performs\n",
        "load_previous_model = False\n",
        "if load_previous_model:\n",
        "  root_dir = \"/content/gdrive/My Drive/Colab Notebooks/\"\n",
        "  model_path = root_dir + \"Mountain run 4/Mountain run 4_a0.5_23_03_2020.23h57-episode10000-qtable.npy\"\n",
        "  q_table = np.load(model_path)"
      ],
      "execution_count": null,
      "outputs": []
    },
    {
      "cell_type": "code",
      "metadata": {
        "id": "9JBvedTvaQpw",
        "colab_type": "code",
        "colab": {
          "base_uri": "https://localhost:8080/",
          "height": 421
        },
        "outputId": "b1a4b05a-fd6e-46d2-a4c7-137701510f97"
      },
      "source": [
        "env = wrap_env(gym.make(\"MountainCar-v0\"))\n",
        "\n",
        "EPISODES = 1\n",
        "for episode in range(EPISODES):\n",
        "    episode_reward = 0\n",
        "    discrete_state = get_discrete_state(env.reset())\n",
        "    done = False\n",
        "    render = True\n",
        "\n",
        "    # Run game until done\n",
        "    while not done:\n",
        "      # Decide whether to explore or exploit, epsilon decays as episodes progress, more likely to exploit\n",
        "      action = np.argmax(q_table[discrete_state])\n",
        "      # Update game states\n",
        "      new_state, reward, done, _ = env.step(action)\n",
        "      new_discrete_state = get_discrete_state(new_state)\n",
        "      env.render()\n",
        "      discrete_state = new_discrete_state\n",
        "\n",
        "env.close()\n",
        "show_video()"
      ],
      "execution_count": null,
      "outputs": [
        {
          "output_type": "display_data",
          "data": {
            "text/html": [
              "<video alt=\"test\" autoplay \n",
              "                loop controls style=\"height: 400px;\">\n",
              "                <source src=\"data:video/mp4;base64,AAAAIGZ0eXBpc29tAAACAGlzb21pc28yYXZjMW1wNDEAAAAIZnJlZQAAmU1tZGF0AAACrgYF//+q3EXpvebZSLeWLNgg2SPu73gyNjQgLSBjb3JlIDE1MiByMjg1NCBlOWE1OTAzIC0gSC4yNjQvTVBFRy00IEFWQyBjb2RlYyAtIENvcHlsZWZ0IDIwMDMtMjAxNyAtIGh0dHA6Ly93d3cudmlkZW9sYW4ub3JnL3gyNjQuaHRtbCAtIG9wdGlvbnM6IGNhYmFjPTEgcmVmPTMgZGVibG9jaz0xOjA6MCBhbmFseXNlPTB4MzoweDExMyBtZT1oZXggc3VibWU9NyBwc3k9MSBwc3lfcmQ9MS4wMDowLjAwIG1peGVkX3JlZj0xIG1lX3JhbmdlPTE2IGNocm9tYV9tZT0xIHRyZWxsaXM9MSA4eDhkY3Q9MSBjcW09MCBkZWFkem9uZT0yMSwxMSBmYXN0X3Bza2lwPTEgY2hyb21hX3FwX29mZnNldD0tMiB0aHJlYWRzPTMgbG9va2FoZWFkX3RocmVhZHM9MSBzbGljZWRfdGhyZWFkcz0wIG5yPTAgZGVjaW1hdGU9MSBpbnRlcmxhY2VkPTAgYmx1cmF5X2NvbXBhdD0wIGNvbnN0cmFpbmVkX2ludHJhPTAgYmZyYW1lcz0zIGJfcHlyYW1pZD0yIGJfYWRhcHQ9MSBiX2JpYXM9MCBkaXJlY3Q9MSB3ZWlnaHRiPTEgb3Blbl9nb3A9MCB3ZWlnaHRwPTIga2V5aW50PTI1MCBrZXlpbnRfbWluPTI1IHNjZW5lY3V0PTQwIGludHJhX3JlZnJlc2g9MCByY19sb29rYWhlYWQ9NDAgcmM9Y3JmIG1idHJlZT0xIGNyZj0yMy4wIHFjb21wPTAuNjAgcXBtaW49MCBxcG1heD02OSBxcHN0ZXA9NCBpcF9yYXRpbz0xLjQwIGFxPTE6MS4wMACAAAAQu2WIhAA3//728P4FNjuY0JcRzeidMx+/Fbi6NDe9zgAAAwAAAwAACNCLwW1jsC2M+AAAJZAt9C+gGAAN3dq5XHPUJqMQ9STIE4h5i1p0ovAz2D6+0y6GAp6iGk03o7xeeJnNFlP7pyt72mmO8alQPFkcQS/hupH7h4mJTeRhtQk621kLNt8RFPKKRW6wQBeqa/bIUz2QUD/5/AKR9JghRtwUcbJYDG+GJMPfc0Z9+Ky2ZULlDK+ObhIm0waUlSDFaiGatI7Cv9YYX3GwANdOvfJULx5gqPt4GHqavREAVJQU2iOKP5G+WttIUpCgmsc99A8Dcsc4NyqwXB/Wn1HghqJQQTXBhrqdl+eCJeXRZ8bhBdBnr0sWP5YVPan+zifC1CRYcA7fnq256iVjYkyvp6grqbaJSiuDI5DbujXnFly7nle/W7NR/1S2Vof4k+CO61XnSIdtvxgWBwUWA46h0k1oBtMIQvNUXU33AM8G80Ey7IIx18o8b2mKF3zbUTMnFoBoXl6eDPvaN5fHuWZowtenf+WYDl1jSre9SqRT06h/6ZRDv7xTAHJNq6qxYSI0NftlMttSAzKr+nSofw/95u7GewZDF0yP7yLs82zMDY+0kJ1m7wus3HJL/RKeMZXAAAADABOd+97ZsfU/AetTFlL3eGUPI3gGHjOnAH31e4cNjmvsmesMTTM4eiERjIRWvHAU2TClT9QN4TxKLEodabOQADnwf0FnYOL2zQOiHdi3H/i0RT8Z6Q0OufexkjrfnBX8Ml+QdWQhPTOOVmynP2U537Z3NDuWSSw0CZz/THyMceaGg9XQ76ezrOt+G1EjwsVV9mb+q47cAwK/MLgHGq7Gck3N7ogAwAQ5YaQCO+lmuiUbPjz/Yd02QKOIDdL3mSY6VuxGFsKBYO8f0SRO+qjpT+Cm0RfoXnFLlFhjelV7VI7Aj+kvvWhqqdvsZh0oAjDuA/KteGfgQh2a4TwEB+IGv2Gkdqv3xJ9lIxX/3yowxySFuZ0+f1VUxedtXp5HyDwABORx1ZrGd+OIhIS8oWUL2EdmLP7P8IXICbCYmyEDV1ApwDnEiEFKoBVI7Zjll3KcVGMmcEDgBRlXZlJsPyA8JyP6fGtElmhHQ+E10HJ7Thld6rVLs/sbMDcspT4yhVk5V/cdobTn/kQ4ShBbsn1mFiUmUBjTYEwVOB8nRWYZ+fZRorSg+VbVzJwEziuojDaBme+4BQmK6S3hmx04jcjPXejw839OdX/0emPwxp6BBehtubLMbrrq+Kem0x/eRuI7IEeO9nvalmIHwarzjaNA80eco7v8zrqhCDQXtvbIBJZdISniHDToD9Vp42mUm6kHhfrXqeY8e5YvE+3q1aw1I3K58e2Q79VN900UgWF18QdfpQIPLBATdwg9uAABXVn0g9eAwYBDKBh09jReeRz/kgP9MBDPYe8dOVtgfULjZd9klC4VecBUoXp/+/Nxr25nUt3LNWyjZXfLHXhCqmA9rATdu88/aPY7n4+AGAT+ND337i/gEtQ4dRrGlDk61v16gcPogjUgVwKx1S3Zx+KKpV7WAYRfFTmnMBoGh+/rqA36lUBu8wIXFD8KGhlAtdrRoTlTqwsVDMspO1rMsY16Mzy9vKOik5cvigHNWkJYSI2kzf5xeYjU4G1qNAAAKeEh0P7f6H0DmPODvHjYSys6p7vhKP5r9wdkl+uV3Z6xqWa6/n2i3CaCbnaxxBF7rWQRZG7cyiWHlKfnkVk/FPmeB5yz60PqeexBVHUedbqSlUIFFn46vItwWNB5mdT+0Hk5XiCR5N6YJ60eWMgNuZunq3KmlwOgSF9IZFvTE5YmP/E+DqWFW25g+H8JrIC+4qVZU8h8qoFOEntb8Gan5nCwzXh2Cf1XJXipmQgC9UwMeE6iorSLm3mlsdcv1bA+L1Gxc51Egh7PKoDfoCfAMSh51NH/4r+nsBfaKnmjiSoxlIz6n6NnLJ6GZdgledksv2OEQ99NWzpFDN5fzOMEOoKSkP8iP1XiTAEosYw6eQtMq51ui6y+V8oEUBVHNLLXqOHl1oi/oYektmOyxg1Hd5eBPwgMQPWCYVYBQ2me0z2N0q1CmVfXrRQVszshaKzTxwLV0jPYm1Zlc8FsKyCo3pWKDEzPfx1B2sPBA4PZOmgMkq9HGsKIc5Sh8FXCUq8Iyh7v8ectcPz1hINsCBKl8QDSpbpcn5tIQBudtD7yaSsVO8xw5o3W2w8pAMcq/1an/tPs7NuJBW4O7gS7Ell7CnYIIZ9MO0OP1chcSVMbY/7+wVQ3c1Ph0CS5DvhM9iEbuhggBGVX1/BkWed0g1XrynA1m7mAWqZ34Clk+OlFhF4Xr5DM+q+Df2FUpysy1PHwPWh3Bd7Cki3d/K+SIDBJFHYxHM1tdUQ9P8ACdSHBQ42cYV6Ner4oK0o+2bcghkAIyh3zSC/X7GbWlLV95QLuvuZBxFSdTaYvSj0r2uByPQjOIrZHfhskOhfTZLNV5v/I+31vwyL4YwQr4BKE9JWHmxPEU2NFd2AQJNUpReb92cAt6hVXu12udLBXx+UfDnO6NARPTnYfwOZogS2uprKQGAqrqBMz0s6xAOG63e21z3p5AVddb+mqmUmelJz7GrVSz4MX+3DAav+U4IzJ/vfFD4V8bMz2iSD9RfPh2hBJaEn2DVku7rloC52Bf6czw4OegTryGK6hHumSJSD0VEmRRDqwj1W2uEYxgZ5nWiiZAnV/dNw4FBpjDYnGf0eoeCdV8Pf3H62OcAeLd75SYQFu1GDX+cMtaUuLwZMDCOr27Rb95Ax14Ok4yS9rVDbjdn+xXIL3aPCmFwpGiWj9X0IAjxkwPU5Q3DpSKwtnn1hpQAHb7VRd6vLWiquGKNsKhnYAmqdfD848xffseLvyWSPeoFhgZJm7pWnP7RsnlEVszor19i4JaG8SpB6oHAma2sZ+5mZ3BentE3Y5BFC/70Fg4nzcSfH+WEgaTz5RnCIwdZS7qXK484xv2U1QNyiL4lRE8MTm9Z9f+DsLRbSH44Xu7NU7itPXcZR73YXvsqQ/M7WMRp21Afj81jrXodsb9Q04y5Z8/rfzIxuP2ir8htD4I3KKxhmLWsfJjcNtd2OAF+Zu0Xk5asplaF0bDEq1Cl4fZFiqHaNzYqF9z81GWGdijm3fz3qPOQB5NMyT+R2ZsL1jGzD7mbzD3bLkTwoyXEZ8V1q+bZIn7RKYn1tvfVleNiAljTjLegyZQFap55cGC4xC0w3QTTn5yjqNeypmTUB0Nz9/bvk0H1fAwGyw1TC06BFNQedySTkKA+xEaB1s+OtPf8vNkXpX5Fjuhbil/Chk3aYjNnXkLbBhkP9lap4E+ihO27dcATbxoYiZBkNewn7RMoyWyUZnA8NGvJK1xqqCzC46d/zvFAVORiJ3h7T6vpgcDN3ReYHcNm4Rs7EJoFd+h+KYOvM6/67X1RthlbF56AJvIQ+MajL/GbaV3P6jGocoZNP/yk29MXcOXyHSixHZN7O+LQEGV3nun7YTf/97b/vo1VOAa4IsQ0lk5KlWt5o/dSGxhBOYEiIUYvxJ12GcFcx/paQ7paP87MjAZap+P+83+Q4VS3eNSfqbgdpP6K4E/0bqQdF5dJR7BaB6+Cfl/pHAAGnvC5dxSwZQ/USFks/Jy58WdOUDvVew2S7RaYhka0f75w83bkOjcm39m1XJQs3Lwnvyl4LvXNLo3SQqH+kv90wBF82nuYhuT/OHnWDEiTJdr9jPW5EXSuCbhiYI/7ArKem3YqEtcoepyX38xzCcOeWw/b21FwV4w3AglAXiU/HHy3XP8Q30ulmp/dZdr17Sj7Uo5H6AniyLVct9H/FefJjOO9Q7V4rRBuqJhnYYka0DT/128VnaPLbpAyM7UmoBjeWJOV1FC7fnAAEUC8ebGlie2A8ttljQRa9853NtBJo8TzOAGccfryT/RCX+KuNLf1VnJWN/yLjBCBSQqE0y0evfvtRXDUgcSFd0Z1L4atfYXv8p9KnMn8kac0oCRnc5ELxb5fJ8Gc/BLRpnngei+27SViuoO18rmoZfZ5iBqDb5wjfRoEmsHJq9l0M3sknD+wGgoh9Pxwlfn7XlVLp06U1Ov4sN6XwdVlBAx5lEncPMU7+3yyp8e+2w3swMNS/Ht9iQDafRMhcMS3TpXHEq+u6LWPgQQsJ+tKKveh0nE1VAane0pwAAAwDJcOncLZ5JDBOkDSCNoI+BgW2ZvWZni9sOftxm6tQCMFNBOj4JA9tfzIlbtsOk/ElvUSOU+5NmzB1nc+lKOjVhZVJSOUrJN7WZ8wckc1PJWAbjnuonaTtW1DCmGpAWuRljD6TP8B8PsHu/CYO7f//uzz3Xof4X+aJsjVkLrhhTS1wOlrNGHmRxUzD2zBAr1wpdqDcPvnNXkmAZ8lGGNEVHOzWM8jiA2hMdysiJA23dP0OpZnO7aWJYZq9boWSNU6/ruHoAsNqf668LgJkyWPp56mz0MUsVmqm1HrrI53/3uulK4DwF0TloZmxzAhCliDvdK3lqCAReYIWXzzLjIJ4AAkVaso6ndLWwAcYQJF364RQjU4p1MMFDUjrNwZcHlm79AgUdUDwh3ekRlC5qmCB40bV6uTx3e+RT4UzMLTKRZ5lISYzIgGCHo4qUCyyo9BMGubfKSQpgVPgjZ8DGgA3ds9LzZX2llBEPJ8SL/YipMKRxR5AJZMz5miQchnFgBKt1RlVWFXNUAE0/oMlMNQ1EehSN+IkhlajcKIBtQelgm6JaW2h/+n2TPzSHXy2KPZO14JWKe4iBeK74kLe4O2NqUoO396YVBMjkwrGoRltXL3Ffg/BsAr7fUNKQilzvoiRzX8YpDlVKxTb/1P0+G8RigSlVAPXsswJPR7S7I9CkyNYaYmpdoCLw1ue67e2h0MrybLW5NnvY3rqWgVZUpIT/23S1Qgb0GVeJlPoJCQGqkOg/xQ85xFdSoTC7DgNCVY4Fcu33ePK9tQ6oWhBd61IvxTBlv2OsejEcFUiZz4Npp8fHKaR7tHV03zBMkCXUWZ2lyHq/whzqM5AjPR8zhH3TU96pSj83XEtPT9OwAAJ9s1D6JnAqJd0ZVgkHt9Jr3edxxt/Qxgve9RLUktuioqQIEAbN+VCd7eN2IaVurU3lXciobmCloo1CgGF9tqXAc5pwJqcaoEUEoA6PK4F5WLqjTiVx7vOrbc/g9FnqMt8W0xfLE2Fg2MOSaQO5TbgphhhIz48VCJwBrRkVtaWtv3sHRmiHeVM0z+oPaLj7JE0UTYKme/zyDFmn49WSZBX2COSC0F3YH87mVybwno013RXKjvarFXxHc3GDKaVVpSp5NhJL1KF1Xvg1GdxKHjg/SGvS3A9o/xqajwSrzlEvMvHnk12apTq9HP6Us3B6qv4WXcjpyLw7Ltun/izPU5k4LRnwGw/LsXILNm3IQo6iRYcnyM+JxJdiidhdbLNdPv93erf+BKzdnWHYBkQog4ioDU2CE2+OQZ2GIEZNcwdE95PKDupmQdPJWusBxEjPl4lMRLtXJqn3VYRtWQcrxcm0mMsmcGS95E64WlRkMGJRcCNTPfryVF7Nyga5P9/IBYs1HPO5DmTrnEgZYKkNNiedAI2He4CN6dzPzJJXvIspis8abHjD7Cm7I8ivBsCyUC4maL22AAi7b3VP2LtFhN8BP2iC4fZULVgyjePHvC4um7b+JKLJ7SGdZV/BqKAAAAbFAAACEkGaImxDf/6nhAEdmuEgpgDgAWHXFjUdjTaZPezzaVkTBBILBubiOBUBF+FWZ1iy6p5c0+1xU0NF3qazS/0C0xguHTtTKpO/JHUa3FvHTem2T7Uk2tvZkKXBuWccQYOSwk19agzoFsupK2M8gYfHhF6Di/jpZ15fZTl14FUHBhz8R/bM33+nc4vEDsiXTQLusZrK0PGKawr+cLOWqcETvaN/izsUDVftOItABKAECHZvf/Eql3/6EMKleCjZ3T0+KnaSIQEhCLiDhw9JuEvA040auNQrrskL9wmHo26YcYDNquIg2wLgf8VWaMIwncuFfkLBtTNOmm8tzM2iS10/MaYUKVltLeOlPDvd6laKWMlNV6LsjWttf3bjaj6uhMuXiU24m5Cpec3POb6EOYty3UBGwM81HkSREkZc2TsB0KBdhNtTT+63M5Ixigg3eL1FrL4r9AJGeawpYkcHznBpjE/DM0tuWtUJF7GI49AQ6Oz3xC298oe50AHWhaB8tM4SLECDUFUekk0AC98sBQJpsBD2WKjRk43AS99sFOjehUOaIqzZET6hcH4lPWhp6/c0F2T/Le/FXDTCPpgNV1qnxdyLb6vGDW37hyPzYdsuWBt6yZMHYc1RGhwRaOwT6o1o1no56ug3uNDonse1kZfHGG60YTzZG4mgKFibCZZhEMSZGC+t5aFYxkrzNdJieGLdPu1AAAAAiwGeQXkJ/wARWIxyRj939uf1N6Rq6mNIk7pUvBzaoxCyTPyg3heHwVJyEJuBk23pJAhzcM09bAYcx8PHSZkHnfkIBmjQAX1t1uUTwW6ECJXua7wre3OWumUVO6YlZLsJpwvS6apXJj7pL7YGAuEUoSu0cthCuLoDiK3hDcXKUI6lSDHcjn6gNuWLirEAAADIQZpGPCGTKYQ3//6nhAArXvCf4/3svu/z7RoAHgrexlgCne7xkTw8CvJivdANrq9/Bzk4RJz8iZirmTxeUjzGuFyGtcKQ7pqBZXkQM4FF/XcAPyhu1qVFFdjJJkaU/OR/LFialK+9/L7PeCizBYRLQIEJjYWR9P6yzwxDdl3agVbCfB5dS/2Ty2ZCtAS7iHHMCGrWeypFjEIamKU+nf+yAH5crFrRRSq36oot58AjYKRfzvnjH8x6BbiMdXqZN0fB50W4SItbWocAAACpQZ5kalPCvwAisjuT+n3tV7XmZjcWYMB5RoTrT7BTtbFR1qyQw16UtAA6WxS5+mTvB57mX/ZiSbRDSREO0zzAhXfG8YrIIaTiZbAzZTH3oEbP0Hb7r5bR0qK/qZHad9DUx1Z00za2OBGqYqGHDX8rZ3zusMw+KLEUzaGYT+IoHXXNMp5v1JrQuJs9POVyzxQ7of/cvQDYEqnWihCR1S0uizkMP8N0ifANlQAAAHYBnoN0Qn8ABm/J7yLs8k83xv0NwnB4Rwj005UIzJBy6ZgCAAkimboxU/jvOSqczIn0cUkEtwHr8w/0VGb7e8BB+N+uzMKu2RfWMHtN98s1nbqWXM3d2l1sTmBOEtQbYXOkjW2S1nC+9IsjlcfuvcILNWyjLVYVAAAAjwGehWpCfwACj2/ga6YrhPi5oAFrqEIS+R3Vr+z+8x/qn4PN9Hvavi1e3MMeV1nd2wCs4jl0nds8/jifdzsPqKWIo4/tmBxb0uCFZjbDP8Ui/TyO5zEQVFl8/kqanPxO5G6T/DAVsSI4hh70kQOW/tbfycrrruiv0VC5G/N9J+eEbU0bPjxoH3HkTy8ILuURAAABD0GaikmoQWiZTAhv//6nhAAAAwAAHc1724ROoABcoLNf78+TjCVCb6qK8lB6sW2WaWwKBfC9Vd1BMxZV8y4tfFlaAlN4nkpCVz72baf+26itxf6aCTVkcyhAMjiCRWqI64ERhqEMXnlqjNG4ntx/Hv7IFTzZGVWjAdfmz4kfWQ3GmmyseHyNYSKRYj29nYMmmEtHMDgsWZPXyFGHEczHxcbehfFGXWEzAiYMn9rt5dGv0doLQI+SQ4Toz9GiHeJtX/j7/0LgCR7WXiERVEFUFuSpMBxSGv+6b2ZT/S5oUDKQnNNIc3y/tch16tbPF7HWUCjY0TESL33nP6jwnLptATxm74ALjQlMNYZQKIRIzIEAAAC9QZ6oRREsK/8AAfGvRF+ugbCTCsyOylXHqZXfQ059kAJlb6lzIsabIzPswVKiStXCNreVEcDcnsFt9AqsbK3x+AbgZLvYSd2md2HHp4ND9Pq5F8URp6itOvHcOELULX74rIu8aBmCZ4FWMTAUc/KE1BsM0gRTwRnHVnFjo7WL9bKseEr1I/Kyrwyy7fOStyWAtMp/r2oBL83sX1yTQHwMPMaV3yobcHNs4ajraLhX98Lykptfbzjq+M2Q/xMIAAAAZgGex3RCfwACjoxq+7G2CLAX8TfIvjH8jgzpjPyBABOOd+sCzStYCP5zFfvF6jM8bVbjMkG/RkZ3t6TWxf317DoLbdqWBrI13tvcR2SlcUjkL0eLk25+aD6vCABvlESiEbantfRWQAAAAGABnslqQn8AAo9v4GumK4T8HwP8vp6AigXUSO1caT9AfYoqdTOrH6HAAGo3A181lw34vtMY+xoEwguoO4rzRqGb3h0Dv3aFLRnadZzeRA24CNIIwrUUcMSDAMNyfueuCrMAAACfQZrOSahBbJlMCG///qeEAAADAAAdzhPLybT2wACEk0uPgAqCMCfAFu+ve8GP/gq2z9O+2+7eU/etQTCc1LuXK00RB7jmRvGZQswr4NIaC3+39lmU12T0/zqvfOdeeqTIdopMLKpSHLljryV6OrAVyJ3LvNhxJYpEQi1mW/mXyyiH+PqE9TTRaa9Ti6tVeEBryUe2GL24Kwddsb574Fx8AAAAb0Ge7EUVLCv/AAHxr0RfroGwkwrRLN5pYSnAxcTDqlAB+ggulMmGov6Ljy05PJXqpJ4fhxJxqZaQssn/djaCnforTCIITta5fLq67ZQpnbrR0WFemdCFqRIRe6nKqz7HuYOwUaTK51xP4w7+tGenQAAAAFoBnwt0Qn8AAo6MavuxtgfuUQWb7l182lDgAIgbWNy9PX26QZTIe3OjjIQJUegtDsn10d7Q7IiFGufalBAVnVKopteazVX1Vn0T9I8tbGfvyQ3gdtagwE4BWcEAAABAAZ8NakJ/AAKPb+BrpiuElyO7oef2OUfwAgWR4hdPJOrU//NaK/gR/O+7bNZNG0/wV6Jsh8vfdjhAoGmHbUp8YQAAAIZBmw9JqEFsmUwIb//+p4QAAAMAABztIHcTY5cAIUgQ/JCuqmIlDlMwYt39oELprPWXQkm7dYJHcBLK0OGk1TprrlMbx7vDgoSmi8p/BwDafCERJQ4pOoMy27UsHQ9+kvK8Ea8MJSRrrHOWHRhqJYepSGKA12nFDEuweH+sbpz8q8a552fLgQAAAOpBmzNJ4QpSZTAhv/6nhAAAAwAAHb3BDF7rPpABxHLurQe4ihN34KI5wBzKFsOlJv1R2pB3YxVFVB44j8PgjFyP6sCRzrUg166xVhoSeHcukYmMFpDjO+xi3klOTnH/+5ClzNOgQERSROyVspGT4gqB6IZqXlm/la3hWPV+nRbUxEmInlhsCk11e8Kw1OmP8tLUz5VnrEfCY06emyXEVCKlmb7OyPWFUloUbAGCY/I4Qg2C0nDYsfpleu6dPTO9KqwxCUC+3c5AGLVTwDC9RcgVrELdlP7ivuUGZSkwIVLkEPeHS+2ufxmMaWcAAACMQZ9RRTRMK/8AAfGN2A16wyBlpTfhyv/b6a9Qzk9FR27wDJ+82T+pL2ZYpS9Xb5tsRa7AA8PanjaMuQbt+p7Lr5Wu0SdRj+8W5k/SJIW0DybulRgKKLhzYaPiTu6RnFEb4VK2bi/wG8+9v9PZ7Al/+LuUM/IVy8RgHqKZnnZFZzcF/qXtYT+QUM+wocIAAABiAZ9wdEJ/AAKOjGr7sbYH7lEFm9IQcbUJs74AJ2x5NCzsXJGmv32tr0a0GJq5kTPtU833oPosPQA4qEp+Dz8o+A8tca30amZKZuzWIN64rh11pt66etY7DH36w6flFaN9Y+0AAABvAZ9yakJ/AAKPb+BrpiuE+qEchR149kLK/2DXeIXh9ZUPat15uABeqhFDYMEK21ic5ZxWtR5/u50veszyV48Sak7kgVsl5EgnLlZJaThzr7M4MHYySAUYMsu8nGukOWNBnPCB3ksP9gD75UHOEdqgAAAA/UGbd0moQWiZTAhv//6nhAAAAwAAT62LcSn41yyFrzHwDIW0gA2q5Lur8dA8wq+7tEj0JlcXuc4DpstlLOUhtco56j2sbc7/b4qEnoE06d0IgLcK9Wvf7n4YyQaXHKHZfP6ji6pgPQzfAlgX9fVw14POqc5dV5Oc/F2zVTgZxZF/WJehTyGgNL9KDZBU+0omVC9B5h8U/xN6iAHNJHiGYxjl4xQShMB3EhOHtMRaytv6S00uI7G5ZaYr6VE/WoqYTVzlsFD1uO9pVVn8PHrAAAAw9f6I/HM0bl77l3Vf/yV2HUInEySSqdhbaQkE18m4TVKVHZl9HRTmclDrCCAAAACYQZ+VRREsK/8AAfGvRF+ugbCTCtEjZSAI7VETdORGYBabUZK2evBDXF7GQojGApe1dMOGmGRSt58EhMvvm6VZgDzgtm0EA3G1q5YK/mdtRuHmrSAheIwkcjauz0Ozjp/7j20Kzn0SfZ0CCioeHI74eVxGXfVSX55XWzyKWvAFk/CdG5Aa79MepsvHv5BuoPjVfPNwELaf75EAAABpAZ+0dEJ/AAKOjGr7sbYIk/DF2hS8UA50CgAH6jt3GbW1yq8FspeJuRaflGJEZtXzI6ux7fZSFQKy6+7CIjr1wxPdvsTjPD3stqT/VRYPW0IbVQ6fVfTEyMmJghqPnnfyvEEMIa1BgdtGAAAAiwGftmpCfwACj2/ga6YrhPQe7EAF1HU8RETqZpeQXkD6Lyo0UkJAWdL8X/8p4oYNttvU12Prf+3NuzudWOIciuMTnpBP7P9vfdccbUjRFyGFDNdDBKrEvCOKcHank5J15TlvCKhWVB1AA9apfNuLRemjz7FRWVn5rz5yJeaM1RFoKo28qQpxPBGyXzkAAAEJQZu7SahBbJlMCG///qeEAAADAABRsTYL42QAmr3mcr9feer74mBh9vwvWqbPIofb7LuVbP/mibaHH2M6aB1izGx4cU1nQwjtbjjA7Ee5EK6j3B6cm6isFJ1qG0H5ubkJJHk80Z5ZkblDbuKM/N2LVtd8+/xutSjQI5Sf01CQwTcEiEKPoqSJJl+7bjRRbOkpmShIut0ZbN+MRtX9DJ4rCoTIPfCQsrYpUNFLK+CKKDUHH+nn6fkXdGroaTkqD4wM6JDqi44EUESLO5zyZZzwh1WjAMUyszrJCRixaovVnV+8AnyYcy35VxOCg/Mlegk+Elou/2Uja0dF2LJ1Sv9R4e6cra99DR9WgQAAAMNBn9lFFSwr/wAB8a9EX66BsJMK0ze02NIxkFaYANqO5K0tNzC3xBjgmJlT9NB+HHoFMxIBRoQpqt3C47NCUUKP8i7GfxgMrEHaa7+7TCX1CGHUHTmbZ/p5U67tFuy9+N2b8vyhpj0RfD33uxzPbMom17nMGdObnCRWzu16hs3T5ZkrSPlgl0JUuNiHexYCl/BU6gAjSe6OT5p9D10spqMd2dGbKFW5JK7aQzbHHgOkTXlTqMSxvOqxG9ym3eTlMMi9/qAAAACAAZ/4dEJ/AAKOjGr7sbYIpX8rJHuvmI8pgtJ5F0OoAF8t28/e/B4AnU0HqMSN7E2ZU+MkFTJmFe1fG+XiknL/bBUO802Wlz+H4z1naHwo+vhoLBAFEP9LIf/ERkzUa0E8CcmQVw/HcWAPbgvaamUBhKv1Hdl5Gw5cSuOZwdkaBUEAAAChAZ/6akJ/AAKPb+BrpiuFHofQuUXX613jyACVWc6FodRC+NJvOvs9fFvq/RXn4Y3p51iZTjAUOAKfPU/F7/7o7/PgGOdAxz5OcofxNycxqK92hEJDpdSwwQhyb33tjL5bN5Cv9F2cZ/r6or2Qbq6Rq+2g9zlnhuG640m6jt2aHJ/aPERNk1PzyICAett8Upzga6a6G+W1mv0R+T5cIwYNUsAAAAFPQZv+SahBbJlMCG///qeEAAADAABRo2jvarWslGOHeSACpPQPdYLY9LJ/6ZNetV4wyYQX5PX+H5zgZUD5BxagGANr69oxhsmAPXkcQ2wmEdyHZyyqrpQVKfDGHNs8/4NPc87xeM9ldzvIytA60dmGH+1mretdTVIytVYsTpuA+zIfCfR3zEcXR8Y/YfPnPS926K8P8WCZvbl2NclrsRQVKIX3703rMvyOZEfHrtClp57XZY9KXKrDV6ybvdhMMx9lS47Y+gKTQu6G6sU7z77d2H1AaXgBy+q/MMzn0MIvwhIudGolPlEg6JGiTSvMgfsCLt1r4srxqPfiXMJKXZ8O3fD7Dw8+Bsybrv/8bqJKK82ne/2+SLPkOZOjEnoo+j8UpgsqufW0k61Li13vS5XnM+6dRdjEPmFV2nHX0jkDN81nwNYpWsZl/XXQgugif7EAAAC/QZ4cRRUsK/8AAfGvRF+ugbCTCtNJ3FE7gA5oaobg/irHRrpbIp5mhqebyz0BW8D3/KwsyzueYUKnWbiEh+TR/qM8EXpZ74e73iv9TsR7TfmtqcbA/Cl2GxDcAdiiJvn5K4xJF/e6lbslttRfa/bj6FIhu0YVb00W8fwdxKu/pYSbFGdYd/3uwGcrKzTq+GEGUIzS53ejLDZ5gKdpUaESG6OCQPK9LW7Ur7M7+2oVjJS4CPlok3tKXJD4J6lM++EAAACcAZ49akJ/AAKPb+BrpiuFCcOVNaHKFQAcI73Iayxgxf4R1bm6vh3g5A7m2+eEiMFNiGb1kWK1TgQrO9HzSM44vHZA0rn8+G29h3Sai+c4reUIJDrJGJXAg/NWrlhRp09CjUuC0+lHvg9bEP0HhzXKjtp6szjcao750asQ2atIqyho8XTLEOlA8CZJ9FleBwAk3fFc1UqInwCgoILwAAABP0GaIkmoQWyZTAhv//6nhAAAAwAA3LqJ2wlsgCJjhd1S3OopaHNoI7Gdj8rSeXu51MuY9leBNPjKYKAA994nVBEiS7c5o4ir9kYclXGX60Hh+6ejBKWNg4AVxXkbie5ZLVMK9uZxOe1RUTGxyvm7DCrOGtg9FoqlpDHyp9qX4QU91BkVrqeCtIuON+t5fRZQELH/9Rh8ylrd5mW3bzQv2aJYWGAeuUo8dUcHuDf4WD8adG7OzREqPrdE9VMSVnHpPmdbLRq1zvpuLURHiwEAZbEz6lGy0IQmqOpvVKkwgi979nhLkGevHP5vnJzuloKNmmW5xs58OqSs2R5ED685DMRSA8V94DfRRN9CErYU4gxvnbe3X9uGPFbs/ctQBkBU56Ydqr6B+r4J4hmC209qdkJBK9/JTzXBOeSgj0pPplwAAADbQZ5ARRUsK/8AAfGvRF+ugbDEMZ1Wzjf88lX6UQA21clZvMOALQokiGv+XUh4rMCGPeUuux2ARaJoEc7tlbYBebzIxUAl8yZSTljpiqtv8qLSokGRRzpjJlNmhCHH6/XJNh1pzH8cPHP3Z8rjSRNfOHqQ3RjBjurB/fPocMik4nfCQxhrC0LhlSmLUdtdFJJ5eYRq/T3oPVyToS/8h3gYs/ORMb8VyXTlQq85d34CqQA9/2rn158DYPRl29WxoyPF7nbwW7R9OrJHUkGlw1gFCd1dcFX1X7amLeHdAAAAmAGef3RCfwACjoxq+7G2F+syJ5uj9LR27m0AHOHUedtQtS/zjFbunUolbMVeGp5hIPNaAOUB+/WpJE6Id5HTZMVUpZf1e4ZWsTmWVSxJYY4q1gc40fRIDqjzzbHgpJlNcC6j7MifuIDfRotPJufseDLFjnNP+tl85AD8VrHDkfpumHKFe9hxsp0Hy542443UHnV9ljOzYQSgAAAAlwGeYWpCfwACj2/ga6YrjdPCGh7OW/NABzh1PEST2ZVXc5ehymusscgV9REyPJpwgmb82OV4be8vMAjL/S+9Dogn0kb7fX4ieYCcWRYJ3ugdpAqGA5zvHr9hVgwKzOTFkx9Fl1/+tqd6lV2ydlR506gPMu58wrYIY+6amJ8AKT6Vecpa7IZ7U+iaYFJPFbmV4vzlk3gJnksAAAEgQZpmSahBbJlMCG///qeEAAADAADcmuSj4F5UdkjwAXsgjMiSe/meJL2K+5UkqQfniczXm/RQuY4E8gPEP9PnXCS6c+JKK9TLly0zLnETOdF8EwgrpyP4B9syJAZ3nQnO0xU4upWVCJiebIeUL7T2d05ezd8ciHwCDGIL+Uep04kVeTYyo4Cmqnt3efL8xoA131GRKvdu94l0oeL6RQaglsK8qIQFf3LggVLzIblGQfVqCwYtv/onzNUoTTr0jBwD96YfK3Rn/n3OBv2+w7Uk2ET2EMnbsRZxB4T3NTZUYUUoNDKwcapUCDgJZnq+sCw8dhFvHDrORTrm3eZKNGoV8xXG5AVhnz83gufq8nZWA4cdWBJ7m3ZR2MRlBj2bbhEwAAAAq0GehEUVLCv/AAHxr0RfroGwyTE+w5DIOUF2jqzyLSBeK+eViABOlfilC68kSFKAhnt8fNKgWODFq0mPGWjRSPMkkCGmv0HRjvwIdJfYpNyueu4Yz2/RhlBRKAepFzH0GAimoYyLA30gOUmHVTXWu5xlQEwXnMAY9R4KhYbXl3cqNeTL3W0+LYLXP2V54Thtw/zRSKLn3kjXaCbHCE46u3OsSjaZzjADBknWUQAAAJcBnqN0Qn8AAo6MavuxthiEQ/I+agBNJXMFc05EhUCxZgFdtHJlhrxqdIkpEILBR+R/kb5ynfPs1vdoQus4y/ZFqCOKgFT6rHva1AKQ80l11GYOghGv2W3e3SuNyczpAuoZ98LmP6OUsviv5V8E5/30tYkzilw6t9yWyZkmtUtM7YcuOcoSVRyh8kOnk/texMbkyOsPJRmJAAAAhgGepWpCfwACj2/ga6YrjisEWq9xYYAAuzORWwI2r87RBGBrAhYnB2ly+A18MQQDsSb3KzTbSvsCjz/IPzv+j0VgR2n823AcnSfhCJDI1JMYDgpUEnzOPsC1EIMjLGE/SIsW9dQnZBm9KeX2llUwZi5DNOZAWX7p1dDZhSWnrTf+uUA7X/HVAAAAr0GaqkmoQWyZTAhn//6eEAAAAwADYOiXaHSAEC61ZjBGF6mXcNX2ti9YDEgDUzM+ld4fioByH0aWUtUFQ5UyLUrF/2PWQMbBVfGxbkN96ov3jQ9GiT0bxoVNW8YTdp5InufEUu3Hi7sou8+7AshWubLEmkkEZskem3VdU+KtaTSRsoCmACpwmo7Jac8SjI0KfuRzLKMUkUTXf0TmkjkgiEbwGlBLDYFVJbesj4ch0T8AAAB6QZ7IRRUsK/8AAfGvRF+ugbDJYmin0AE46o6dGEk/n0sPviB5jE+VKRyDWb8whYdsxqOopHvziEoVjj9zGWxJV1DoG2B0IRhEhOq5nx580qlOeweU8TX602HmDt4MMzsRqJkc/7Sioh4Tf9AX+KHnMRBPOtCCAinqV3AAAACCAZ7ndEJ/AAKOjGr7sbYYcG+a1O24gAdVopVOo31AKCbcdrwT6rxJKfiHHpQ4dIE/9FScw+yVs95i44VWuwi8dX4NcRo64YtyL9ymrQf1nK9cuBw8pWSpA6BAMOll3OWkbWZV8jDXU/BzDDhFngk5sM+XgdIef9n85d7VoQhcgosXVAAAAHsBnulqQn8AAo9v4GumK438qtmRGFUhYhpslAA2LCBI9S/So0ZHOocq5Ye/ulncOJ2OrZPbsvS6CYxmZxA43B47C34PbuANlw9KcN1o7dWDrQpt04WIsGNVwagejCuRCArDxwk6aV/pZbzjhjO2VL7pf0FnJ2ZvzGFxV0EAAADnQZrsSahBbJlMFEwz//6eEAAAAwADXrua3v0gE1RhvU+i+Ommg5Bb45McLjM0x/MJuwwxvWpZ1LnilqM9b9eT4VYlR0Mij+mqdrrzrIKcGjUrOh8ekdOhGJjc1TVwiVH+VBxezVDo+bc7D7Sbrnf2rlv1gkKkGntJiciR4J3qtgbw/agKHIKCpnR6aOUuwlMeixMmN0lDgjXjioaqtscxv7PJMxmYJ0I8wM0zVC7UOXpqBptI7BPfhXKIz2uSTTnI9g1Mm9uFvquqiCFYojqf5xMhLt37TCJziS8W0RgqmijKT9qf+RlLAAAApAGfC2pCfwACj+b94uVFcb+VXyAa+0AB+wwKscwVmzxr0IVr6HQLDDFCGC8mvbFSBIrrydW8I8zwFYhUU40NbzVXl74UQyzV8V/wXwb/6581NQxgV6GNdTTd0UbuyUnvNTSPlK9+/hMLbDceoTWcL7cNFnn8h1gkcONVv1diJfDvtTcMcwfpLqAmZAhGiH51Pd+7D7UFRxXE9he5HEsbK6rpsVmAAAABOEGbD0nhClJlMCGf/p4QAAADAANjwnR6JnVHXAR1xRaTRm62yr/bcgAyv33VviUY18VU1w4gzhf4F1M8Mh1B9Tqge1hk33vXq9efdky/pgyr1jMmPp+eppoX6T+Hb1QA262IRLWXgRMAYoawYU6nW2SWY/ynnH1vsFs/RJVU/DSRTlD1E4TIbd1NQNTAxucze0227sja7Tf8ylmV2CfPJGLbx2mW19Gh0Z57+SO+7eAYtT9IKlRdGxpySNFLbK2kTEFZU4WqaPnoQbFGy8hYviie5hQcVbYX+L0LDA062PSK5TBrr9PfbR18tvhLP4RRerrmEQJgB/P+xIE0xzFwkMa0GGeMoRK6c6+KDZ6Rdl02D8NMB7VoobZ+HPHjttLUlhGvf0HBS15rjVjx6QPg1K2OoaHJ9wrcYQAAAMZBny1FNEwr/wAB8Y3YDXrDIIbnHhRXT/ViBB0KQAcojgomYzCPxW8XavfejjEgVIK0dhwhOnG4N45Ryd2rXI1oKJvqLZTbRTPxDfMen1yA4qt6aB0VZHMqwnkVMdqg95dLQVnRQiR1y6SQewjJ3BjiJp0Tvg2AdmmIbcAIYynv8wvxfbtTcROCYjdvyS3JKBmCTqHKBB3f+V37cltnOeGCqsWmQHqGR53hjRmBoqrJiF6zdmYvAzdd6mGfs6TAk9QJyd4mj8EAAACiAZ9OakJ/AAKPb+BrpiuOKxkxwWTdMqFZ9JzymfiBGfg4AG+w99FUy1lC5Bruva7uEMIqaDhimjc5rk7sh49R8k72v1icGxAs2Zg/TLqKSX8IccDXSgPeV16J6h6mKSXcFXptoQO61BtAj4T6Ubu0/awi8SMbFiXWvf0T/a5owZPKz6UTUr9l0xX+Szcz70aAo+gU/SiyYzWsU2pk+t4+QCWBAAABAEGbUEmoQWiZTAhn//6eEAAAAwABSOZdDMaGSR2ggAgMxvVwguYJTZyK7jYjb6A9P5D8l+ryHPvUNmaiAbGOEah9DDWSXGHpGqPFRYnFXKUf+u/wx6VAdtFzWSzPBWpIZrVFi4S9Q23djHCPvyxITkm6yB+o++P4QDp9wV7BNCAfqJQtCh1FdiE+Ef1IykFnYosuiFp96R9q1TFDHrlqc/x3+uWqCtvI7dBJZ6b5hZYfjXNz08SdwUm8F9EawYvLRg2p+UoEGw6/fjfKRE0L6QbBNMkhWDSwDzgzce0uLBpmatm91Pkm5Z+2M9qGWgK+Xr3cXuJH64zNNnlmrOY1WfgAAADtQZtxSeEKUmUwIZ/+nhAAAAMAAT4Fj1f0K0gBa0HPnGhCN2jxzOJr5tHESAsZ5DMCbX+i3kwv3a/IBVUgUTp26yiHSCyF5fexDSObxSt1OmgEaFxDP01rVQJhAYhHmrzF+zQHTxJhzloZGxXP1h2C1TmcwYQ87c8f2ofKDKsi/hCCFjbb4t1g/Mv13zxRrti1H9fweQeVOEUsAueEXc7owPfxXDFAMwBZWjWzpU2F20Cw55zMuTfjUxaIiCo5OJpOGF26AN8qVpTyuDFMp6gCFeAfmBEgbDYPHuhmivhsQamyoW+v/c08mCGqGa+4AAABGEGbkknhDomUwIZ//p4QAAADAAE/5lz29E4MS+tMwAS5VAIi1pKVQmwj8x9KEHwZ8GDQIApgT2Hs8g2OixDi8t1MVPRQp4Tctsi+sP+l64oMrHqcTQuSsm5LDx2/wV98+OtsaWJkBCHXp659UHTagfWkuL+HleLNuagfyARn88ucqnYmwv5zEUExy3XDaj08rdmmfsnw2Geto9auVyph0PQMiIqwKNKhjrmX/1bXKjI267+Kg2/nuswzRugq85Rhv0MMnuv1YrLIKC+i2vDtKpmVn8jpMGYm2LBob0a/HTzhRp0iO0tR8AAQ1wzNZHRhjSGUOT3NruHdXHiTbzSo9nPWeoWpyWjiQzahgZRDLGCG4skgtXT+PfEAAADVQZu0SeEPJlMFETw3//6nhAAAAwAAT/3hLd7F0UCWQ/spdvbJgAaEiQ+Bg1G4ytSyy0WUN1YeQ7iSgzdhfHkGB43V5Ahtp7HD7HjemmnCu6IJvHCjKNX7cbLKGgvR5hkMera9IJtngA/9mSvool2HeB2C9Kkh8iP3Jpt3ankv1lPouTea8TEje/IdwnC8IsJgBDeqVlGfqxqfSBHMNKejtxerkwZJ3bkoNtlGGDq8NuWvoEPBGBqOyMAcaL3eHXcTs1OIaZ3GxYJUYoJMrtgyebPEtkV8AAAApgGf02pCfwAAAwAA6xO/OdiGjiHmOceXVYLzgOH9jWFzRLK9iACWIqNMCrXvtNzRrOve4+Z8RhPPOrbnVeyTabn86+aOiNm0dYmB2e3H02WaoVBlX2OVXUl90OK3VMtVUMehFQ7lc4omRTo7R6g6YeXSWZdlHjBwZLhSirXiled73Fta5mdEptbs4oEF47giF+3CJJ6cNKUPwUCkN4ZY8NLEJXR2MyAAAAFgQZvYSeEPJlMCGf/+nhAAAAMAASbjz4GgiAEZH3C0k0IFdSAyu2TbrkSAN5CQ/PNog2ITNDuTLaMjVY79eBa8k+PFedy/0WZxukMkpt+kwOp9dUF58fMe0zKBfEx9HPIuQ3jlZA4Wp2AryDp4mXe0lIQ1rE9d//HEMRajIyOFAoAU4BcC5z6XrWdgi4v1FPQldQBP8P5EtuRycR6LsB7WwsF6aqaV71eFYGQVRDIjUP/5MU2LcK7mV9lo6dcbd0y2mLI9gPY7i8SDBs1v0lDDypbt/Ppg382UTedVTjKeF+9OK332x+if1+jssn5yfCSzpFiOkfZMk2J2PIDbpCpG54sESxqrJmW8GTv1XYyv8cchXUrC2onnj/9sD7Wb/QALVqkrNv//89uUO+kJ2z085IH44rYJvyFz10Mjy7VrQo3EV9J71VdqtB8MwywH5lChS2I/6/w9y9WIPSevJeNJmwAAAOFBn/ZFETwr/wAAAwAAuFmTvzFTT56dfl4XVWhACavNM+mBwv6BUnOd6ZtHI8PPv9MWx997HOss2X0ZxguW1xECoPZij32rWMsCzCvBK8QZrIl/U6NByfi7ck0qXR+PbZmJt+DlguweJQCLYzhLUFTPKRZv6dxwWQgELvjfzemfT9XZpSS1ExtCUDOixp1WpQRLRbCiaIIedSHb+Ygs1uSU3onb5hzGjOnk5puggANP+w3ZaCmgT/FqlXfv+XA/hDjeGhf/HJ8RPNuYv8haAXQxW3SzhovzPy5CxYz/EwuDQsoAAAB+AZ4VdEJ/AAADAABPtG5Un0QMn2VVxwPqPdKe0/yADaKfUgROoUV7XsjW+5qqy4fYR9nK2eceNjh4LXy6k2EDi4qkpHmR+Ch1aaeRuvmV6E7jajNIBOUohpaKH1JBxO//fvtiMyFX/IEolAy4wFcP5zNZlV44VS26ucbati+BAAAAxAGeF2pCfwAAAwAATn7HZm1QMpfv3NoABfJX2VwAj6ueF42Kb9yuW3G2p3VmBEWa4/GItDXgDFFSUbW7UfWIlWgkxykGQRiSXzaRXpRDqObwgM2sr/bpoNNWEgLuw1G7F1Gy9tao2e/M3uOfWJkp5fOWMSPOLMHBYSw9bFeOXarhN4dQbrxg0jcsT84GoLAyBu3n0F5NoMTG31no28Kejml5V6sdUXtmHklfT5/MkWEZX4lSY5UAwgXXPDFScZr/o22TisEAAAESQZoZSahBaJlMCGf//p4QAAADAAElR/jcs8gAEvjyx6CrmSegjIc5o883siMAkYmgU3xNxa4tVW8eJr0+R0fwsac7SuD1hkudWw3JD/sSejqk8RO82/AqcN6wqDB/g6ct2/OB3k9wXXedRRHcvNjOdQFNT2xG42Xp6W/M06y7SjgzLbVKRq0m09o4kZ4G/5QokUFeYTRN9YElTgbTUYB5Z9w/0dr/t28a4MRKpllLCSdlRNxS2mn2RI0YWuTgdSZqLM8k6+fkrNryOVkDhWLEqpfo3/B0yPmQVwiuFg9Hka7uy1R1RgG0d9yBIkmtvP8x//87+A1D6vMLgxlCnT7IpVbjM7jKN0cbz6x6kzhwdrwZOAAAAUlBmjtJ4QpSZTBREsM//p4QAAADAALVXkfj2tAAOxJgzyueKHI6q7VTxBwaDBadpp0QRlK5xz9IYx+G32DFofZRd7EY+Zc0AoQvbhrJgaCLzyaSZJyxq0CryHarORNjkF2Q88vZsb3nULzwnf0ACVsgxhmPMmpkk2vHxSX6rjBljFaXo44K+IaP5o4hvK/kbJIM6A7sWdRZYfaXgxKDn3KvAIivEgfcfiK5Zc5DicU9h65a4HYOpyh8A0kUJa5xk5PTsSBJcKmE3ebAcgDCiK6LYeUVnRAVvu+ETm/qXHlPrI5/Hyf8v96SXZOXkw07yQamw7ztnmrXdMFFSMCJEdQLHIJ4NhRAr559IkFK9yGhLxrRSYYitc99cq7pL0FoHz3LCWLFwpkaE0bmbpBkCuvNQmjiX6kW0JGVtIIZwTGx5BRLFgyyS+f0sQAAALQBnlpqQn8AAAMAAOsTw5gK3TVzEeQAuomlC0trmLsn6rXJZqIlVcIbpMYCVOz3baR02MNdHB4oUS4/jysTe+a/1kUt31/Km5PazEJh4h1XTcmuf2W8yo9D7ZvQEqwCmP0/cjRKp0dBXM+9op6MMu5cSp641RzR+ExyQfj/byT+Ijl8z5XWPeZ3cWIjDk0KE8pOEA+7oYRmxGR/u6o4y7uYA/2R8sd6lJDGTmRg80/J6UW/VcAAAAEmQZpcSeEOiZTAhn/+nhAAAAMAAudcgeKmBKw/0LUoAL69dbZJk2dfhjiXeXy1YM0/aOQ4OHuGIUq4QbtoyJDAPwRo0zHH1GCxNHYpdN+BnDR6mTC5zxivEpCn8MWQQGEcfPkJ8FlFzbdNCmHRz5/bPV89fJf3zojrpjFVjMkg5uqkWQQPtU95n9bkj1e54Hukx47LsknQxLe0GbEQho4kjJq8D3D3yRr/wNeRTFm7JEB+dwD9Giv3IVYpLtDLHwuMCZOlrP1zQstISMEL4BEQG/k9eL3leY4qVrSP1kJ3/ttYe64E1pj0T7DRlO4FXgYYFJnVK85Jtw21foPt2Sfd8E34mGbYtM+VHfvldcvog/DIZUjSuD3yzf3YuMEYhG4c0OELolehAAABFUGafUnhDyZTAhv//qeEAAADAAHaI46ACw6a6FaMpdYZQXX1BgI1LbFtrIl0Xfo7u2z4tJm9tJIn+ZQZhuZi1sS5C6b3VM7M3/gaS0q18ZdTEqB/x+MHp8Bo/1ebG7geWuejMq98iQm7LCTIXQgbvLL2N2rKbz9tSZGxabUq+w+QX+zjreMKoZModoJ2JkQbmJoAO+jPlTwhneIOTLHv08fEH92MHyrokOvkzeL7hMSZxEo5EBOmDIdajEDvX9NrKj+YnxM3aqP+AOvXh7IiRZtTOJx5TvMUKSrY32g6TwIcSgkmPA/Ehp27oAq3qSKi7kohQd420aFDNvHr3uk3lF7cempjIGWsrzrKRl3X0QOBqlOatEEAAAFvQZqASeEPJlMCG//+p4QAAAMABNuQfA3VgApNyXdX8zGl5cLCDpfBKHPucpi3pLwlTM2w6HpXVwN5P1KKP4O0NTjWNsDlz2xcYuQo/3HLT+HGRFLqmsrxPJXjZPCr6VC4C+t6HAxbDWK0XcqEYS8WEgqfW/TphLvnmeyYy7T35zlkxZlyqqSwKX67V6qU1bhaJp/ndiWx0MRDqSDGiDtv5/JjQVVzraN4gg11Lpvkp1YYPC05UZJBNx+ob9FjtmozDJNs4/yLX9/v+SFrDLTjzJlHIUjkmMk+i4s+b/MHWe64Dl6a8jPlqx8onrvUACjE8gH8rvYEbEw6X6BrKZxSTpJkkEWk/9W8z9RY6fkRacbgt9tBrG9rR9slguHvWBRxQiHg7CeAnlIgNQo7ANFnajDaqzlpdubBHZPKoR3jxK1rPXtbGFF/jfeb9SQBLEqNNg7reNd8sa5HUpYmBIhzoRxALUjy/KFdg2vssvg3rwAAANRBnr5FETwr/wAAAwAD4spuCemgmPF1g6fjqWgA4SISWmpOYgsJpiT6ZwgO29b33ZvRne5LZvsQE7Masd8Ilq7c3VaUzmJ/aHCM/1VODFP20GkbXG45+dImUsphGvxGCAUkWfZgYCKgsnrorz3jmNV3sDsoluAnoSUQ9dH+t2HNFkX1gX6YCsSwpcPPntAIxT4Bf7BHXTgvZz8/qajrRyaGEM0s42ABV9lDGJLRh2ElRnDzOtmxaUhoE0il8MJxDnUzkba5GLIXQRhjrCvn6iCekpkiFwAAAKcBnt9qQn8AAAMABR7gEs5YKyHF0tgA5s7md0LOQbbr2S/OMyZi0qOXb3xqudEB7c0s4xa2GwThIAWLv6SyPOOBJjH+sLWQNfWD4XF6A2Yv8YVwwPMhJ+3oHXa9BLAIpVVrJ04dJA2yTvkxtmWweDyNgblQO411B9DLL8KXSDDrWcr7dyelBuuXfe5PZCEioX41YcjHyVVL3o0dz0QUeW4jadFlANPzSQAAAWJBmsRJqEFomUwIb//+p4QAAAMADJAOK+0BdwSAFuoDOV/GcsnkDqLJKBOUx8Zu78KUvh8zfT2krbHeBqmjOImqGdUMQ4oQXeja+H1Pves7ZIXLOe2+mclMz6a8+4lJATlUFbkM/MKLs1dPLGbHmsTw4O2R9jRyPiL1ujLJVHKbM5XjObMflnI/dh8eaCTcSOqZgWK+C8OugCEHny1mwYMCiOnrRVM9BM4+diWEGlRP3INTHqXul7jd90yv8wivn4VscjdMNschI1vpzZ8k+pTrT+I/LxnCPg+g69Vlt/Ff4Lb7Ha2wW/TlHlWUCN9nDAwI1nAG+44EP8/T+hHQUu/74s/FO79KDBpEDDDHq0AkJItbfzvP/QAx9qzAD8QAybj+UN/RoHv5iGwiWpmv+UbQBOe3SnaZW9LO6q8vjVLlCFaS+ODmvL3zAvCcwAaos4aXX/s8yCT31t19Kp9VNmIyi2AAAACbQZ7iRREsK/8AAAMACj1/2by0KRh/Yc2K4AB2Qr0b8HXL3ZqDoIEMAshKXLpdVavgy0RptTGa8SHf51Rlha0T/r9sHVgxTxtNTV8RW64LOCH4rvOokMnhMAuWc/1bV5Gb0w5sHQnRPH71HQoY2DVBei5eGRlhFP+HX0mJIMhIsnwzapul4AmVrtb2Vn+D4gftAwde8SWcISm1jYEAAAB5AZ8BdEJ/AAADAA2ExFwT3t2LQAL5i72KEpGLHWEzUhxgepmiCVRJk1PSR149QP5TMcXPxcOVbdyQnvmpbFFNyhEs4oDlx4hrSUhtw3929IaZvBEEFoPM94aXqWpyf+rV9WF0n+ifAon//UMU8UClYWnFINDrtZOe0AAAAIMBnwNqQn8AAAMADTPGc23r4dOlG3S11xFNvM+PlyQgALdye4ygHRWHiZ9XkOzAf536wbI9VSMhnH1sUjAFaLji/M04kuLDdMlYq9GDH1nnQEiSeZiIbi6JgkscdbD0E2LcEowtc0hknk2AX2hpy03QfZVujNgTDAlAPvdUx1l9b5jIbQAAAPBBmwhJqEFsmUwIb//+p4QAAAMADImuUVgS3rRAEAAunIzlcurgBVd599fQ/tk1EAr9QnCeO0HYWhXZs7pMg+1U/28dGdGrdAGo4INvoIf4eRJAEWhYHIzVooANa8JC3EMg65sdl7SotqNUI9HG5n4Ul4RDI2DZ1UZrjAHL01Lt8Vnvvo1coQvwReQMDC2jWrLEisyLlJUpzwqYyR4RlCBZ0ADPPt2EdYqLdW0iL77rUnqS5o4R2NX5ipzxqCQEdt+9USfi29AITVg2TnqN/Dmoygomiujvwbfi4QCxz/qNQMZCV5F4fvj+NH1te7G1Hi0AAABtQZ8mRRUsK/8AAAMAChb7LAZzARzXoBIPL073o5bvtk7ZUidygAgu6rJ92ZEDOrwWU0Y1z2pesc0YpUf97j/4K8t0LmtEqJZmBsNR4Bea8UiYiBuuzb344w7BloL67FFIHUQ6oLf77/jo23WJFQAAAH4Bn0V0Qn8AAAMADTOiUY26AB1nPRFqMuBkXU/oEobvcziiaEBrFWsRjKVJ61u3fKMoxZTWal2UKNnmAzO2Jx3MnAmKdza+e5mK9eIhzhu+iqLCADxZEVuNmPaamHrWJ9VNypPeW0NaNu5WDbSeTwFmfUVL6GQIflxzNNHLw8EAAABjAZ9HakJ/AAADAA0IzLdF90IJlY6kf3Q2XcAJjuZXhj4U6OwNOVDjaFMPlRymGwfe5UZNDIe3fLaZIrZMqVnOEcujR2ENo1cxNT5qvxW6kPjBUf/FIMozWbP3LLlRrO1a7sXAAAAA0EGbTEmoQWyZTAhn//6eEAAAAwAxPCdHomeK1ZbcmgXwAMp5wVQsxLrig9jAymyk0C4/1iixtHHqMYTpijdNa/M6ECcZfgC45auBzosNf/3QK5IIVwtBVdwnkfOK1RVf+i7HS/KQKJXv0EdkgKt9fGl2CQ0u5eUKMjZA3F6QEY75wOces9Zhr6T0AKbc1/2lu4T07nv8mUHRnYjXOe6xLkz6zCdx083aHKURXOTn+zDkRQiRvWRDQn5ETTDoSRd/9Sg+nKlKfBrbXeuzErOIAygAAACIQZ9qRRUsK/8AAAMACocj/r4Tf8NrRUqJ0r3+Vt14oUADXFr8jdRBBVu2yCp2oK22ahO898h3fwGRgg7RJjdNUIY3BXQjTY8UgeiBUIJP9u/Ri5MGdhhszpscdIj/8IHirEuNP05a5eHdQQNDv4E+BPjVtkSTnenOc9odHrS/RMCkoHT/8ayLmQAAAFABn4l0Qn8AAAMADSoqqGz+i6AB1nPREpMT9D+hZkmXxUYTP4oKygv+MgT4kxmK88y3Ter55/zPWmxcgEBKFUDHMp9GmY9cJhM9deTdNPb7mAAAAGwBn4tqQn8AAAMADTNPNEGGiyi83RlTKs2M0tu4AOaEEORb2h1F+JWdFD4uzO1URdsUH4RJOl1aSo20J3uEf9axTF+5P7MzmEaOMnmu2Hd8acN4b8HuxDA3pQEiJWEP7gknkzv0Z74aqFvG5NwAAADgQZuNSahBbJlMCGf//p4QAAADABLOU+Ma+Fgmw8SADLgFGXIAeB9+/awG+FVCIW51FpfEriYjbGZk/qQDPlhGc+E75XCeweX/450+S9rHIElGqtjiSTki8RqPkdbd+qTTgXWZ/W7ZAee2+/LUheTIgPcqyqMz51RL701nc5MrUFcYU5iQChVT8+YRdYhjaUVAv3NtDVY/tCn/+/vofuiUUIrzhRu2sENXOCI6vchPCOSYITtZi7Ae1od5wy6wyNjOYBCmp3xtPq+1LzAK8HKlSAHUXDxgLPqtq9/EQM7kC6sAAAEBQZuvSeEKUmUwUVLDP/6eEAAAAwAyfseCi/Zio0dglITJ59igAluNqy3ULk0ZKRy1lyMt4658+nkCYsjTFQsGqIiRbtUKg5xpElFic6C2lpKMcaL2e6xXOFnLqz7ZVQTBgUjOkYXeHPJqBCPEobkhB5r0myUY57NyNniaW+h3QDnrZuFPvd4XK1PopvZ+udh0DpCz1JKEcPQkjXOASaM4a1+lTYPuDQtmhreNHPnLfFbTdofafDxPKMxiZfrtimlzj1GjuI2zS/GnbxZX5swIqhcLAsodn90vc5FEcYX4SQQiR4l+GYuxTHmI4c2B+3EtgDo25zdcysFYHpZ90Xu7OcEAAACLAZ/OakJ/AAADAA2Apdxr10ha61NQqtUMVs0ojrHE39EXtoAPmbI84UxLdvLK6TD5sotHpGPaZFjCwbBTwDa1EW/HTpLr94UyZeGP8DXUTIptqvMdylppn4rLsP+X8HleiWugsGSrg3et9bIFcqN9KPifbfuGinhHN/sm/9bCg2Exh8iTVNrxZCB/MQAAAPNBm9BJ4Q6JlMCG//6nhAAAAwAB2rVfN3m91HpABQZDpiFtEWU/1NwJH6T/nBNdzYJCHjdZ9anQQ4XsCjCLkgv6X8+/WOCpwD2zgchMo4gSGuuDBis2/W6n8+pDIWjXYXsaXlcCdWJx2PavfPVd2AGSb1of/CgcOSMot1vjX8yaTI94QMH5soOd4S5ywucEA7VOMLYHLa9A1TmAmeGS0GcjChRbB67tFztl5ly3ZnnAEiqZLhZ/dUwhl7zd5wYbzDzdm9e78oi/t3jGbVhNAlzk8AKgRUfDqfkxcqC3MEmwVhhBuAUxXHG/hrEH/o6GLZnnHbQAAAFEQZvySeEPJlMFFTw3//6nhAAAAwAB3OE8zWCeMO866YAD+kIr9SqS93GfCmO4S/1eIWHhUdZBZjdVnZIPwseuBHF8EAxvJX1Xf7ysBtI5AzFT5cXPmFmgHpSepHdviIn2Ugqrb6tyYGA043DXNr9N7mEAiib1gNu+rQulgR+1tqVgNYp2xDRFA1X3gKqST/OlP+Ewbbu0pxXRM13qdKe4eJhhdBuYr5Nl6705hqX3Iox72FlEFuF16itD7Wc1GWrPLz7gOQAtaQAD4iR5FRufOzYqWT6EaIGxrU0YNDVa2GZ0nRVZgIylUlw7pYXidHlfdqtZiVGEVc7XFbDbDaIGK3aln/AW51fH/bCg27htRtvoO3jDVzelBgdaEPALFzNJsAByKymk3Mf6CPnNbjsCj1E1BDabRAHshgaf9xxxKo09387gAAAAuAGeEWpCfwAAAwAB61dgIsfIoUeoWRxBm/NPnkHNHZzABzQpZhnKRFYpNjSNvW82AcyxWJNTnaYOFO4Q2HV9wWzI/e+CBOlodWdXaQzTTnV2SZXSSX7RtVU9jAmTrhteR6U/SOR//H5wbu8JtTyddKsfcbZ1hRT32gSB05yg+N1pbqd1CZsh9YTu+ubkQ1u2tytebNC54ENDN4OrMQkIf01bkzrhwCXeqDRLXB5L0VV8sZGBZg+FPDUAAAFqQZoWSeEPJlMCG//+p4QAAAMAAL/7Kfyns0dQ/OQAuqJd/+Qwi3Cy+M+yNDWS/p5fkim7v05IGWZ9iU84C1owIcgIfWVAF0NUxpsaIhlWRQVcp+sc7NP5Mh3wz8HjPEGJzPKIWGrXcpkVx5xScITINLq6Kc7R7UL7oy7ZkdwK27l6XoVDkDmSy0lyspIPcILkt8JGS1B0TVhtaPGN9sFnUV+GL/+bWXfAFEIplM59F3Dp9JeXRl8QVEBYiUFYqipncWPoe1b5ucnbtjPsud//3DMbZacLpRUVCasmAsRHJVLPgherog4NddwDAj5cX26Gtc9CFhv4yA/sudvHm0GcLtQNBBFP44Z5WwktQ100OkUSH3p+cozLmTKE2FczYA/VYMEtRw8NLbFiaUl/rcmyKvUgOf4+L0sl+4lbfA+iGZzYbshLHUV90Y0LybWHvP9TJZWvVHIO1rgpcyOdcJ2yWeIcBd3VFB/ncmwAAAEEQZ40RRE8K/8AAAMAALhZlNdj01YsftVZWCUQJhsrLnJZgA6z5j6SyEwu3KKS601CiHw94eZXLuckCbcJNSbzGDsANffKF+BSiGDW14be1dLYeClcyPeRTKiEkVAKFN2Qvf93gpceJT9wUyrf/F0YtYpuBMfyuQ7Oa+zoVz1soxG0dRcdIn0P51/CAaMrSM/FW4cAU+zwQJNf9kgS6yn3k/Uy4DMqtlVUZ+U1GGnrXKze+GRw0O+Vau/NYQmwQ2Ps1sqpG3bCKy5M9SgRyTTx+a2Gn3WblWYr0AWK5vJCZmAzYVeSjalmjcbUE81JY/+YJhCkoHfOMHHRfsiibGM71H593AkAAADAAZ5TdEJ/AAADAADJPANDurXF8YHRdAAvXO4GuxqpuXuiyZtyQMq41a3UWTwmt6xmrYg6zNUzIrkqedfLQoQIOoP1KFPtcGSqExk+SjW3V6FCTjMD7avvNY23SaSDzXgKmMkO/C+3MK4IOie6iXQ0Bq+cABUJGUZB5XAi9RB26rhmbYAzL1GPKTeYCS8iwajFT6k+dsMTq7q1LproO4V59OTYChQSP6+f27+yh30pH6k4tFHJY6HvSwuAyktkXTJtAAAA3AGeVWpCfwAAAwAAxAqTBDZOV0lTcyhA5AAdoc4HT63+F/fGT3kO35nK0uS09bmbjU9sjjteGn0VdF2OCoBRacAmka9QFZvxfOfZIMZNK5v5D3OOjA6tBV59D3l3g2URFFl/UBJcm95uctrjqMw+axw6asVXvMxCS/ionbh49ePxVYYqLb4Dmlv3LfMylsxbY0PNuqnVpOjSPmLgDseOwfKrb/+EbfuaJqqGiotiAIFWDnIJYaSJD2tHXK7FDf9se3h/g9Bx9KAviI+Vzx4YNzyLftv85ZUfyATb15gAAAFgQZpaSahBaJlMCGf//p4QAAADAAE/338Fm+sAEN8apLIcFKcE8oVQvl8cYrfS+0o6paagaKl3dGT2Pxh3mqlXsjeuzN34woZOIarEAVH03t48kOKY+BpipiZReK+YkCgWi2nzvBoKsEeH4gX37zFJpjG4L+sqTucl7XZwLPdv9M0q7dGBODKQVGTeRmOhk/x7ljLxHFi5c8BievX1K41mqIxPIyreXArnICKkY3vJXH6Zk9QpsK6KqNEWeG9Jt8xyAG6tXLPgjxn1ZTD9KXrs7OsNaSR00kgjzj0Qrz01juzH4+5QmMi8ySeVseM4Sc5eLdsQ4uTGBAasZYH2ondrkw4Km+AgkexW82HMdEBvfSUvpvaEQzO0YjfF3yJN7fTdB+Z+gwpV+qulwlNpbWhCXrOCg2UWa2zwUlhzOR/LMrpXSFJrqaLlObu6WK92kz4PoUaqsS0ZEqeFfiac7Dko5wAAAONBnnhFESwr/wAAAwAAunJmWRGCwaBlIlwTQ44aB3AE7mIm6fM89vjNl6LSbCn5IKZO+094ct8xwSW0D15xvlYtKR6SB7f2TB50ZKO/bhUZEB9zqResIlKnUlYMU0TNLO25Xz+Trsb4oH0Tm+Z6oMXtTLsRH9JQ3qQ99Wpu20SgrvQToVL4mtK/BSr6FyodOcSwPMP/OTwwCRAMrELO/R56im5ZQjLO5Gi92NwRxZzIfHxZQRcFC040/48ltP/sd9P2t+2928fIm0R6ShPYx8NaB3CN9sdA03DZwvKHiZKqeHR/CQAAANEBnpd0Qn8AAAMAAFiRT3ArVz8djypxQAITnR554pUURJFthjO+4BJZVWsTSi11WH4b2E4HCCVjuVZG6NBNplvHk7wtuhXDBzCSo+wZO/VNpbQUpAL0OiwdpRH90Is06f8Zpz+rwl9EHdUNqkgz11wDIGNkPhEy7XcJj9plEGsHup4yHKe2WR6JitzFPxWlOicLnHwTYiacA9dbny2ozQNvrLSHJ95fkTrxLpG7eQAqclinlAuCFaZCql3/r63s92BtQ/lpbZU6ZZj6QL2cSMw6+gAAAMEBnplqQn8AAAMAAFZt02Jsah2IwGnC2nsa2867legAOswgSzBV8itM8PC4Gqp2wLlaMkHWfRiuihALoNyZyH++VfX+0hPCyWRf2oEbMZCLGoEgEMqkMN7A9gx/2StFzdD+FkEcme/u0vg/55Az8Iv/btr2NGMJDlrGEJQGCuIBTOSbN2WTjNT6Pqtr+5aYSlZhhswXDfozOKkQGed6wUo+iLIu6IrvldsVUPg+EeImWLv54yq7a+uoHkUH9bkAvxZNAAABNUGam0moQWyZTAhn//6eEAAAAwABPXTnZLfvXdyRKPEPAAXY2VFEfCOid2mUlrGuXPwSt6mkkfSd1hmvWZuDUqPIofRfwuDAZSHez1LlRHrN+bFXlviEiF7Y0c8QV+8q9b6gfwH3ONpuLAIj4ZLemV6aoGqJzefLL++gZjgOZEx3/mdj2CBpNxVOFt6K0C8PqiQob6q8DeWSwSjY+pXls6ZNcsCJXpmb5zA1vC8tyulsojx0oo95/uPaOCH/0JEXXbk0pTkxQYO1KYorM0qb2SNZHv6q9cgsTDkN3yakf9OS6qsxyMGhzoeocaaeREqaaoDeN6MwkBxA4oGogjd6WGr193xSC1UE8eeJ3DhWg4pPtD0/LQfdm6Z8uLlQssJIsjn0AoSpNgJBMWOOVORWxbUuJ/UhTAAAAXRBmr5J4QpSZTAhn/6eEAAAAwAJNx58EW+sAF0G8FpHY/n/Jvt3XCGjasBPFe+X9r4BbdzlifNFBhJ/siHvXFMVUo+yhelOcabs9wHulxQsEM2nzijOjKEDlQ5CwD/+f/FNLWRBNmtXIOJ4+Mwt6x2pqj6TZ77c2U1hCnE1N7WfwK+5s0s8J5JdarxJzYtr5MLQsyEKkGtmlvvgUXHgC5s5Qr9iSdDWh8ZphHYDwm1xC+veEDGH+yZTztjLD+1K8Yy4Ly1+F4cykVW8x9crVzx2tMM965oJ7Y9+3O5En5SBDJcNmph134LqcOpYyjJK6sOH92jYoPo1/XcGinF1BJdrtPH1QPpisC6P+H60TfSsFFV/oKIDZHf08z3MH4Ob2FSg+FopZtiGeeZdhgndP+I0V7J3vXPFX1MdtEPtfeNnPubxX0BFgpdJ+BQAOQzQ3RF7trSZMJZv9Y4u+cIg/hzqKDN+IYy8BZ55Ql4zhxb7su8K4l0AAADvQZ7cRTRMK/8AAAMAAeZklYCRVp02sAN150djPak8Mh9Xs84rK893Dn6brZVsAhw+h4Cgw/tqGaVTyJeyQG2KTnjKp2+BTEMqR+aAt9s+pqJK9dWSe9JioGa9pMQgHEW8d2K4AaBRJs1dWwp1xgjiEmw6KiOmlllHk0cfS20QI8Q2qhztUbMzLxEODgWoZKReN0+tNTiura1Ff4KGKLJDhEOgkLKC8apwWODuGeRIslGrPJ9AAB1Uy7e0vcuRsQkg6gCw14FfYs7VOgNZaZWOH//aruB8cvmdqbt7T/jQBXHGCTBWhJev/uxsyejFTSEAAAC7AZ79akJ/AAADAAJ9brTCTUt3UU0zdexFgi881z+QgAdcywHoNHeFCfDQ/v/wXz3aIUniPF1kh7/dh3rwBPEyxDhQoMrXjdt+0vt+/0PPUY5dmwz/fJQUXe1Shb/prLCugpIj4mg1HPx8zFrH5Xos4KMwXGyzh2w1SPn7uPI50Sdltg0w/W6iC9bMFWwAljNzUHAr4NHwgBbsn9VjIrjX8EfG4A6gjsjNDymXKEUW42NDAzZeZ7hFo+jASAAAATBBmv9JqEFomUwIZ//+nhAAAAMACWiFGaulIADmxyZyiKpnK1I5U5owJ13aw7mBcmuzslgcPKwuUF7II3/GMMrcyAw1Y1zgmOUnTxQbnw2sUc+iyrVGAIoeQVavtFrljH79IklGil38w1CGR6bbUJMqHbM1SniSCvJJ9au7Msz0La3Boi8F7Rc7hIUDLuYdxL+VcKRbsB3Q8MeAeNmlOMew1hTX1hl1d5jzeiVHRQ4sD13vcz3RFV8GaF2ropeTufmjb65jCSbsIY5tfHbHAdOmEzNeU/vqSTSiXJgo49Q8DROpTyIKwQGvsxsspr0ZzYtXlqlvuDdyyvR3lFcApMgBDbZtrijldMFjbAkaq1wDj45hRLZCRN8Loa4YjFEMP4a5sxa7ee4o6peQ1ffdEahwAAABEUGbAEnhClJlMCGf/p4QAAADAEW6b0k3kbn/iXrXgL02gA5PPE7XgeiuIj12Ai0RmwftGYv0Ibfm1uixxeCpp5Ctw9bQEAJEPqkwJ++ea34OM9sd0KGRH0U1b7mmeL0Oz5j4HO9XUyRJAGR9ep6M1eqBVQ6aSB4BVcXwS06o0Kgy+IvkpnmxM/wVz2V95gqCO1TT0sPren4xh7lCoM/m2YqzlNXyOvxzf78ABTXTAZCqMt0igeMDC2ILBVxu2RBTPCqhbew5lMQi37tdUaQCRQjHS14N8odM84hzi93jWrhlo+RF18Zl4BFE0if+rTrV8JYJfZtrA+TqrMLHk3JZlYE6MkYRyaXDRvpsBjJZy8P4CQAAAOxBmyFJ4Q6JlMCGf/6eEAAAAwBDaLh/qJQ2brQYoI5mgAfz14LPRLgdLJPlwIsMuuxzv7KC8d43eQ6EVWi6a8bbAhVTSvKbXGVJqweU2U6b7/mF0eiEarPVDwkOsi2r/wjx2bbBwOo/L4EwGHug332CwMbOfc3Suka0KpNSodyZgEDaTzjOfrJCs6B59JJMnSA5pMHJCYZuJ1hDGlB/iE54+jfXi//fri4hV7rFmyPNfccuF3lK1TPk7si2Aqz9s4LrYE8TVdfy92EJ3cnGlF1xyrNo+13aH9T/sA490aeH0MrYSTtPPnEnnuwo4AAAASBBm0NJ4Q8mUwURPDP//p4QAAADAL8I4YZqDJSAFl/Qx3nqeGXDeTnwwFdFgaldYOP8iVovccqoEnT0Hd+Yr2wfjBTLrvP/YbhR3zrvEN49i1PJB1LOAt2gtWhTSpPf5sHlO4zOvIScUe1MbUFQp48qmSsbSMGWd3G2k32uIPaayZopMtHAvdFD7Do0d+7Xam51E+uv5fT9yRDjWVB3rjcifZnFH2eMyxmLJRr4koyvP9TPK6J2E6E8/964P4XYT5icVyGiUhHHCr6ZZq85WwST46XzLRaFSnutDeWT76pQNUSr4YQFY50xQE6/aavU9cEmhYUO1BWT4ouEARL9Y++qjFOQoHlkEKozUTzHVq+viuvob1SNBqVdyxztWvbqtN0AAACdAZ9iakJ/AAADADOPASdgtjArkADjwmk1gSg8cXy2Rfo0XxY2QcAHi4ddmOBZ/tebGlCFiTBT7rtitukRgm3rIbGZ6cbci8ucjS6FoJvIs9QCLpgHmyXSao+UVRb13h42pm1X7TfQvPCevrK9i6v+s4wXjaybQb2QDYXaxi4FOakLbEFy+rWpAs/jBiqaHmAQtGkrPknlABvBAjmvPAAAATJBm2VJ4Q8mUwU8M//+nhAAAAVCllDXm5ymbpqTAAlzW8lM8u1lZ8/Nzn16O7WhEyjdgoNmPGexCvi2QuHHFPtmhJgDXTw3amZ5ESMH2Sw0oU7OuYLjiItDtbvJDVMFQ+5F8bXQPH4j/5JOPf5dSbY/jcFi6rjTkpzfNz2xyFXXGHgUOBcWYFuleDtPURWiDHcVjRjRHrFCrIeeMsnSg9VkNhNe5fGiC+D5lN3JwPGZ13KIBSaXVSZ3yZE9Lxa9gs8gsujT1rha3RMgD8utpboafy1HLckmkr2IeVIwjrxyJ/V5LFBzNAe8uiqT5NK2P4pE/tRrxWWgTTLxnnLSrWHGbnIed5AAalgEhDrJtIlBVEAT7zciRLPP5u+N3DpnG+vJISuZ8ecPwK86bwPaP2OcRMEAAACmAZ+EakJ/AAADAWu4BPS4b9JMwQAOfl+bSfhgOjwd1bTo/gwZXDIULGc4E+FBe6tWILe0TqnDf2H20ZzQKQUazTtIOZOYmFaSxFT0D5JuCSQ1cfOxl0P01Mx/jO2rQL4iI5koDhbD+B/oRz9g7mJ/UZDagZjGhl7jhOWYP/8vq94t9UGE+/GenIQFIQKYBYaJcj7/K9Su9/iV3fi9yap3vlxTOKYufQAAAOlBm4hJ4Q8mUwIX//6MsAAAJysWHd3VSLGVtjADQ+Xn5zHST4H7XWiUXJJUbXgfrxFObgzfhGbBlpGRLJfWZR4MfuQ+SzaUbya7hVZLZe3aGVqb5eveLV45utAgnIJ6uFkxXGYBHoPUHidQ9ufdaNpLO5nKE3FZPfhVxYwEct85z5AXaGIdsWrOjUq1E+eAMR9GGvHsly4ke10tIM4dQWUFnWoxLd0DOe9CRl7BqeJf2zlbUorIbUlewkEEeZ5BYMenfP0+Rf5UJhSbJbpKMsw9Gd9mRoCfXq44HMX08vi8/0B9C74rxVcJWQAAALNBn6ZFETwr/wAAB/GSVXFEDO+iX5h/pAXaeodok8AQ017RNR5t0WdvuYrBLWdifT2EQX3AvJX2VYot0dtPrEeLo1+zQfaQ7GjyldbhLQd+O9HPbI8gT0EIm9rI9Q3ZJTcQOwSvSXnUb1sCCgiBWOFwesl84er48eZIFUFr+aB5kss2lbYAgzTfdAJsIJbUiryBU6sMOtuNH1S/2Gj4Bz0SMCehluoK4q1pE5d1c3Fe/TCuXwAAAIEBn8dqQn8AAAqFutGNOBbe21a6zEbxVMwAc0SigqHj0RpSB1PYZAlGiNpAVAhyzQHHLHUXNiw9b8nWv6JfeD5PBETcpvgOSGaFKQfTUWqdJEVNamgAniTXA+NO76dCe3Kt17ft+ih/rI1Li98Z1SGGVRQKfaXtsz5r/A0fTCV2FD4AAADoQZvJSahBaJlMCF///oywAAAoNe+Diz4QAXkiKzt49FmcMvxr22ptngfWVlgWYoHlCJaX9Z8MSc+Foqf9T3by1Q3FyDVf7UgHlYlwFwEgnm7thJRIHySnE8qLY+gHcGkCOzP25h992CXyBF0Ha85LfN/Bu9ZxdbRNRLRc6GT8m6OFMjijeVOUguXrf0eHvcDdPyx4pFwpf/tEYGUHRHWjVNi4o6C9dWTArXAVW0DLxmb0Rkh2n30N5MIOiL8oZ/07z+SSbRcvvMx+hy1ijIS5A5fbFDbrRrIEazw5+k1oMqlTt8zVJAo6YAAAAIVBm+pJ4QpSZTAhX/44QAABnBzxieGEJMRVoAIrAJWlry+N6AGvEPl3pMdFJVzxdQYFwsXXlubtmBw8XKK3owBz8QPrUbl1GP4WJxzkAYgWD0kk1Vg8389byCCq5qAKEj9KWZfBS+VZoFB3RSa/872XKDPVE9ObjzL7jgXTf9FsI/ZwIChhAAABIUGaDknhDomUwIV//jhAAART1Sv7wqITY9/yisPBW4jSzO9Wks64EdLgs0F1Wedx8XOZ8O8HjaD3kRiLlQg4hTNQ4zygB9Xj5ReWDPOtPzIm6d4HIaIM9KAUpffD4KTJwjzBpW/TIZRNALKqbea0EudlAfS6aSBtXSY+ugiwGsxdMj0+GhbMCTMj2bvg4MMyAznhs/i6iH4jh8z55X0dRMyTZaDwD83vEzCs+M9+LQI0YejFH/T/aq6EiJsZby5CzWD8IfmHnB90NHBWjfXnOLI91aeQmAdch/rMFe+Q+s0CRmKuVWnLAA0EAQJ2biN2pR5IF52TqxsvqHiTToLcgQi+HyTm8GnGOp2P4OeSd8AIpYfgeRsETjt+9Zjs+d0wAyoAAAC6QZ4sRRE8K/8AADtskbEtz8fQAONkhN07j5AzlgXlO+MTvry0bu42wvWcQMMBI4TuMqsexX01HJ39v6Q9/EGnbq8J8202khBnXsBDIIHSJ+MUsGelZlB/n+AzN3AA6wjk1b8DsI3MHNgpDWQ04NhT/eAQe4twGEa3q7+JEcjJc2DOaueIh2UNDT0SEwQxLfFBP7cqRGcPPfmBHSkAey4JM+zQr1nzDANamdbgpdN+PcnTBSm3bOS7bh8wAAAAlgGeS3RCfwAAS32e0lJOofmIYAF8jlO5H09eF2OlStZsNEfj/HoPd4sXZ4XFreLP8e8NqZxrPm8CfmD9NX/8Y7X6shFy+g72wQ/JcD/X5wohenBDXp1WEkOFlVT+9/gfOVJyWbMtiWqSKgK90O/YgJR+e/T6BOqSoU/szxRo4BEPlfbmp6WtIPkgJ8GhHT8ov/qZdOGQ8QAAAJcBnk1qQn8AAE12waSPlAANqOHREnmS7frPMpn0SnPprCGoIBqE6twNLKsZlnfozWumMNKyl9ZHnanSxOiZUSNVM+gJ/NWyoeyw57Hh+PoyrU51HwEjoNcWGvrCGQnn6YQLapdzOljM7yaM4TDARJK67YMZRmRspD21ol8aIPJ6A19R0yfu7LjHNRHPea221LQmNXsp5AflAAAA00GaUkmoQWiZTAhX//44QAAEW6JrFR7WvKAHHKCxUaGIUc3gmhK6iI9eMmGdqAuFNN7DOf73Hfsm5OAzGCkYywS2IW07DcibigRMkdeM8cYsImyk0u4QdvKSOgrqRlYx3qN2Nq8HUU/CFPDC33QXwNc4uCXbdSyWxun9fsoYXL9/e5FKgMCCWyxFF2jALi3+e4aK5q5lp1sOF8hQI0u1BsTVaMAJh4MPbrvpzEG8Jpog8AieysmvaFB+ChLiGuE26uiM6xk3SZTdKvTaOUNPdMkANSEAAAChQZ5wRREsK/8AADtrVUtptOIRUS+p9lABM7NS9fImb/yOgWq+sUt0LboC49mYofLRSASibDKfdhUXgaRZSbY7etoAuOKTWyS+btNdXTuwKGJrcMvdhAqQRQZnS8lK6a1bTYPaavgKGtarz+juPHYHbIWxNVj2OOFxRNukgYhxIlBpyYBa9FjeFwXv6VsjUdmFBsgW9lNpOWc2o/7Hj37j6kAAAAAhAZ6PdEJ/AABNWk8B5gK7KRJsQ6ib+o65bEx7QTSs7wl4AAAAhAGekWpCfwAATJN5BG1L7EAHPzfnmjcO9nKzdJpX0JPIfy4bG8CnzMjlp7P2Ecp7L0Wtvunq6H7JSsZepptbWgMY7YvOw/SgQLHynVAtzAtHNndI6f0VcopI64vS6mYUz6IUyOh8QPIAqGjSNT3ONbRWOtoMNakUF/SntGvDA0/uvEhlQQAAANxBmpRJqEFsmUwUTC///oywAAEZ6b0+Hp5NBevAsoR4CgAlSlGPbcBsszbdS3wXez+gQiN6Aozo8ECsmNIOCNVjsnVrSnnsSTmMNLxLcU5NCI2zuJ9RGiOp0PEQfho99tneWd91NNeJ4j4iVU8j311NAe+qdSyxBhzxacw00llLWLPHs2d92i6c4aBCYSLjhC+XExrNRFzVWQKOXScGqKS7hEpa/idtf04JQXCAvTPxnhwGShOoAVPct+3a7j/yKX4bSoItDWFroJRUpSvXbLSll7I3k01z3bLmpgE3AAAAfAGes2pCfwAAS2KiA7ma+CaKuP53d+qkABeud5gFxGVvzVGhoZjByA338/+wjLtwYkiLQRhVBAcDxnChZoF5yoqXlxHlkc81EkOy44HpT/Fb6DOV3XJ2tRsX/hBFPicsPeGvrxNWeCq+r4Cp4SSdr1bsR9YBdw+4PftBkRsAAADWQZq1SeEKUmUwIZ/+nhAAAGn4Tn37b25EinPrasAFrnMLz7gjT9j/zj3rnTNc9LUJ/h2etKNdTRJ/cx3m2+xWRdlF1/bKTBLd2/GeHnjS76H1vzXaySNJrkk1/oe2NAg0f0osLUuSGGoVrhSYAAqjxvTRn1awnKyEZolsX7NI6+nxjb5y0PGHB74SrJIGocrAU76sAQtKwyC27wbydWxcysUm/kETLuAnfaNXYKindV+4X1mDYrd0+E0tR7pz5AQF7lNSf1eYXEasGJACbiRjziMaS4Ai4QAAALtBmtZJ4Q6JlMCGf/6eEAAAZ3hOknRyoQW3td5OXVpQ2wADajyu0kzi/ZG//Ry4GK0HPts97akKiC2aqGD3bax4wlLnc3W0WgpHigH/cH6bNYfboc1D5gNvzuc6zczF+dBJtaOdf6R+yzfXC/h2tVFcMwGpF40JNOiz/s1gwOTqsqonhSMpubETG0ZKCFOBisqV/ySmPGK8/+0mF5VetUMiLRqZB3vG55G9ONGW/moJX94rR534EZnt4EnAAAAA2EGa+EnhDyZTBRE8L//+jLAAACc/E5Odkg6ervInescdCxW2XMLJyrlJjAEXPZsjXNNrgSv7e4Y6AW9T9SYz7l2iSTs71AKLD1Qc5HlPWyXmrOCKo3Tev3sylOSu5P73UN84cBcj1yovE4NhJa5Vw6DnQZ6Y6USQ1t5JyUUldHsA7ygwGcT1a4rKJYO190+CiJehz3z29U6BsGPpSK+/ePye3j5fHKg25Tcg+p10nJK6y5ncAIiNhzXHjxdV3yBDS7u1pID8FnxFSKteDdPEky3PeNuKP4C7gQAAAHkBnxdqQn8AAAqDJiJqYF5BcNSGbdaMNWfcfQ1Q2Jz/I+wAOcOp4hc3v6iMVRx+0DGXsvx962UVdGVbiOTaGMLqBuBGKdgnzv2pGs60LS+IXSrUqHdMRilsifofWrJecjkSg/Pwpd5M3O4SoxdlDkbWsN1FkuutBQKhAAAAxkGbGUnhDyZTAhf//oywAAAOT63bnxvQKTrJceOCGPdw8KeJC8AJORse2TOXvi6nu39tMrKavLdZMp0cf7szkX75izIF3tn0ng2nmml5VaQ6uFPqfkgSHsBjNr5d2EvrnCcHLMfGSyrhOKjLByEDzdGmt3AnwJrVwOrflgCGzaqfwYodJXRadhM6lu6kDQCOoOyZakE9NckB/38bwhhmO3/hHerNlYgzHhRtL5BZBnRmLFkoXSv3Tn229aswM2vfauyYuxwqYAAAAPBBmzpJ4Q8mUwIX//6MsAAABVPc0NdnObPcRXiIV3wfptACwUXCZdDoQV9VZ1ah2iYpQeXzcOEnO/nbj5znvuBJKvdLfNPmwHYWqeY0n5+aF6DuCJGEI5QErBRRAhATtSoI+17uHtIK/aSljJH9vsoj9F160Hllki2pLuEdzJXBoORLl+xC2BYt4WEjA98HlqeYA+JrJVBWGcKh0LIP+45l6vVx8VWdUWQECnzN0qjXn324g24/lTqzQZJjou5J5NgrI3YWBzUV/OTjKyKOFxLSbUWjVednLhOUcP6fOgLxdgqFE88xqoHRzopm/aio1IEAAADnQZtbSeEPJlMCF//+jLAAAAMB9fW7c+KADvkpSc1nCWG2s3N7A/AflxH/i6Q86a2l3I6N6R2MKqoZQnivZze1b7Y3bBRWsF8uFyPVb2TxJ14k9IRxhw1Kjuf66hGZzdT/Zl9CRIGFfRacWiK74cG5eLFSD4377Pyh44+3GRsvTYjyVUkiUinbKNXCCdVmM2Mbg5H+4Pcrg/su2Tpnvu9YfBpIfZ3UtV7Op6lnTzcs01c575vtlDCoWNJmkzbOq3pgQUOeKRJAac8vnzVAy/a+8U7CZAhQuu9B4Zi1OQlwyiMEJqT7TxvQAAAAs0GbfEnhDyZTAhf//oywAAADALx7mep2SPezHT03kAb2UY9UBBD9O21iIQVqmrkX66PpylXncRavbcM5TzTQ/wFwP5zP3GxWoGJ12ZZ39DVuHlAlCPBclsQYdKAnvGQfiuyVVT8uiCjv9IxYvV0TAmwVNOtZF6AgSHGvmIYfYcjOY/mohHmogETskHDudPx+0cyu2qDUUF6RTdbRvoKmPlbZ1CDR44mQXPgvbViP362gMy9hAAAAzEGbnUnhDyZTAhn//p4QAAADAEW+LDX7Opwx1pXnb+O3KCLFNNLgAbTBVdyWTn32CgDuaHkn69AVfp/WvTN4J8/uH2OLw4d337kalWjAtLRBnDZKPSfXvODlRj9XxY17s7xHYL4AfIhfbNiQNH058DcIyRKVTA36yCBa5XWqCyWmGsrmY0KudsPo06wwr+p4lH33rYnT+1FIYoCf9WrF1c9VU3YgQJuzJYBpnDwEX7AERc0t35GmGaLfGZ+I+bYIsMpLUxUptNje8bqk4QAAAOBBm75J4Q8mUwIZ//6eEAAAAwAZ32NGjVFDWQeZ3DNnslewV7TJfUbSEhn2agAUXV1/2RpFJdnoB+2KZ/mrLYHpwVkZrSSGTPNFfG9Qh57WNhZObv2FqVIRRrv7p+k1kFTSBMm0Kk5KIe8jOKTWMh1x3aMd3c3X2ETnQsnqVQcVcNnRk+3R45Wpsuz7jmYX4487dzLd9Jpy9HI8lq0Jag8kpt7+uKyHYvUpNVOfbxHVHJGZyZOyY5x6esHM9YfUf1SQhBT6hPCAvrHQXowifk4YXGHUD/oQHxA8cj1t33ZaYAAAARtBm99J4Q8mUwIZ//6eEAAAAwAZP2PBRfr/RpIWWNmd/4ABzfUOTAQu2sAKd/6Jx6+ubtShqFf2TFhE3dt3gov8XSxaU/EoGsLwoHSreUB04arHiOHX93S5fbkNzhgibLIedtiD77fllFW+hc66T/Z1Cg9/5D0162pSJEZR1Wq1XhToUrhYVrQLzXpU42bi6oqvuaPZc5k+HDhSP47/x0Dt4b9kSJyG5Oe3yxhEvoe7rzryra3M7/DwwX+3zzN0HZwq8wrsNcpRWVwppg/s3T3iSrG4SIozldXbMW2p+04r83ADREUL7N74jMwF3DXd6cwNwvBkYeTQtx9AE9/t8/Atpx5/Mdw/CvzsUU6E5M/XFrXTaL0puKN/S0WzAAABJEGb4EnhDyZTAhn//p4QAAADAAk3xYveSZCGggdQN8WQB5KJAfxT14LPEALxAkvijc5+2EIU3PZWpxztYzmVhqRXE44Z159glO2QgoyZu0op9MhbVi1QyxGRDvI+JdOmf3c62kDNJheI75rfQ+W6RO2LbRS64u6t9FWGQNMeZ27NukcMz+rqgBhUwF8CSxAnotE4yTX9pgariVqv1jkeivvkWPh3c3FXGUkulQ+GZX7TgfR6txGalQ7XI+wMpNBJyslnr50MP8lqzuXmrTbPp+6W5lFkxxyWeS+RpPfL5b1tG6dDlMkD1Xqe+k02UuNfa90gyIQcN3+UJJSaRubrgVvJ6UZU0BBVlryjV+ZpHXH8IJ94Yaajw4SKruZylWX9mcOxiG0AAAEQQZoDSeEPJlMCGf/+nhAAAAMACPfFi7qGF5YxqlaDf6xCr24+CSwuAE60uFpCpW76aAJs5Nxhw9Evh8nGvEZTsEvDBj7LAiPTrPoFHnSFT8F/fWJBwohrrK408IpBSuV1KkaNkw77MU+N89qvJGB/AFPJITFXRl3Pr3MOZ81YIqkb0GFwNEj3/pnWITFlDE1jqJVWfO5BqN4SQg2AzNPcQBdBcO0VET/XS4ddqWqwWPX1LgjGrk+ZkWjuvz0uLamq4NOHN4rHP7xiteQ9TM8E7vsqaUV//4NEDRHr+TN+MOawIblxIweS8mOkIPbPDmqBBPv2qQgQw+36XvfzqpwT6c4ddG2NSW6O+Tk1wh0o1PwAAAEHQZ4hRRE8K/8AAAMAAdsDLWbeo1+F5PaGOXmD2G0UADrMcnScxJAbeWUGjz8OXB/4HIuwfL/wH/dfhnv1FvYVmqLM1QF3vwu/rl8n0IoKtzMM5jttp/dAFcNOMcpCZc/eQH6Q2gL7joiU/3ZOGHm73HyYaEJH0smMScAN+pLUqPtMeRHciFWMySpr0sKVStoBY4P31t5coD47k6YwBrOoXs/Gd41hSu489RVyePN5eF7ttvu17lPGkEBBSRdef9QF9PyuBp55fWvDhvTtt6pM29VWIpCkuFRpWAFA6fBDHwxKgHzeaHwI0OOL1piu+DUBEkD3mZBANBmXJzEYDW1hTd2jLMX5k00AAADwAZ5CakJ/AAADAADihKDeQXs9Gew2KgAQLI8QzFt7V23Z/7CDOEoQsEhpOK9vzybT+5+aP6AU9k5t/FSC0DDwEMLKRxLAosaJb67RUdVm0xFVPC5Zv36jXZ84gOEAWotWL9+umhIn1EXvXO1xK/q4Stz+zU4kPhKt2eTkDXXj45n+bt+irVvKNkxMZKt5CRDnbZNgLe2THchK3uk05admmi5zNTlC2/i6nSd5UFj+y4/uJ9Xb9SEMKJ4jnYpPS7MV+GBmJ+k2DaBP3vuFHTcb1TzLVqNgzHDHvRPV0qWH3/MsX5w0euTj2hhW2uH90M1AAAABBEGaREmoQWiZTAhn//6eEAAAAwABNum9HomtWlZgBwXRItABzBWCyeTPVV0ocPBb5IoNUY0/ZuBJ9zaYKQfD2Qp1R8rdi9Fl62FyaLSSkjN5beLTsVCh4IVK6xr/YuTqCmNeCq2YQfYinRWNxqXYgO5aofs67MV//9E7C1w2bOV3mM2GQnCWdqoI7W6pjcIIUTDE+C/33EULlr1aN/tqk0Dsyk5AKsBl9Bc8QzyD5Qm/sHTb8BGotbHXKCk70oZgsIt3skda1CeZLeoNN1pshY92McntcRiG43+6vmCG+ZKCAQx/NBvNiKf0RVtXjuZAQ2W/QLGayt+V0LCq3rasdPzhca/7AAABeUGaaEnhClJlMCF//oywAAADAAdTWn34tfaEABEHceYxOv9evh09bZF1h5PQjFWNpkw/aw7fsPJWFN006zjEmkXf0LGSX/gcD9EsR2knbPhHIXrwN8ocJHj0vFMaBN4DdOP/DiGvGys8Rk86qYhw6wj1Cqv4q2uGVtDxVslQP34f3pUi/XzpLFgYvjYLj/7jZ+VfQul9hkBw9U3K/+ssS02TbYdzFzITNfanjtak3aHf8qJVjTkqR7zhBCIQlzQOPwnSomGlO83xj0OuQ3os76fiJ3urUstL3NUv7SLJaOiCUCVnABp2Dhz/8m6NnHZVX1oCurACC6DnP8cngukcmxVtltYWzs/DpEJhtXQRSMIgJHp3NxgYu//hioTv0EeRpRYrCVgKc4e8vnBQougocBsv3zsQgBN19vtl9yDEgHHI0jV1QTwzYgaBBgsuKzKiz7goI5JjIkUaPTKCuCBT1f0Km9w1ZvXKQ6j2KbBxwzqcsWeX3Hk7OeIRAAABN0GehkU0TCv/AAADAAGNztfFoNMt7LugARkdV9Y05qf+LP01KZXs/iXoKSGHQ4E1JG/hA8tZwSezqBMfe/AQINMbTdXi5e/rUSZ6Pj6j91jgAgFK+s6+T4V0XT3ALkf2Kmb4UOHGO3RI+FZnETLiOjEnemiHEbrDZcKF45TikT7XuKNO8muMQqsHb3pWfc0YubKryStmSQBvuHui1iOMXKetq2hOLd3O6FTjJtd78gmuobeqFAWn6wStosPYdW7yI4GOcXAVEDc5kkWfuxhuP9LFgoSA2+XODQyDDtL1kDhgrDHRQLEoruMdcAV+Nkf7oFyj/D1Shtq///H82q0WpHaxThVZ+vTpNOgWOHQ/mGayxFkQ33TzGxM9QnxbCy93zQsZFfELNLSD3l9VBd+iVdEO9f2ZLELdAAAAygGepXRCfwAAAwAB+9ldiNs4XRPmpjhz4mxaaUQAL1zv0kKRPk7G7KFFum/eezJxcMZiH8pckUX6ByTJEyLjJ9w4nqC1W6he35koJnOKR1bwck9TnX0ZkbpHfFUvDgf3EXnDQPGpuIhOwcb55aQHKzcGy5VV9hpVXr6svKeqXEC4Xa+knpz0NPFiT5tN8njzsETFNk063b847xHxyXNRq2N7hk3rHuSnYkBp3OUO8z8etLZ7nDx0op6PQK5Wmtiz9ry4yzSf3QygfSEAAADhAZ6nakJ/AAADAAH8eAmd5Ljpvdc1lwI4freb6QGjiIAHaHCtcnvBPkbBnS3fWmxJ6nL8B4nRolWwybjkpByFkaGNg+QHyf0ke/slNXwmtl8Ps7uIJUP7Om0hls9yrntuSjJ9oGdgO4gWkCX4L19YKc4dPC78O/09MfGve7xGQlbCJyogRJdT1GqdKBRi5QI95esEujBqEmaV4+7EaPWLsK/kqpkJfWavim52zXdr/ff1M3K0mJzbAFHQTAFekbd8GcwmDBrJZLXran/OXGyZByMXKq//KmZe+6wkgr6psSumAAABAkGaqUmoQWiZTAhf//6MsAAAAwATCTO+RLVboWnC4AQow2bPjzU8M9ZCr4Ry4BCehHwLW/IkUChmp1gKxbPrHpRAvNkD2tqKjFkGXjkowIpWIgXBo4ECyYRV3I6uEgEGHU0t6CadzepLPI9Mb5T8nIjvu1pxaxeQLRDBziqYvwvMrKdP/X6qZySj42PrNWsqMtpgJKPvHd5gyji1fB0AN08rFtb6iQKEdUiWzWPTTrMWtwY5XBnPvSW7zIaeoNXeJlBQyBXJEAZoqzOMjTKZiPA28t0puKWt5TjEW6vcei7F/guhQJppyTxH8HpJGeLmIPauQq2uyfF3NzTsdCkaaQrAEAAAAOtBmspJ4QpSZTAhf/6MsAAAAwAxQMGX1z3tdbbZQXKjgA2o2lDGU0p+bLG+LkacOxoHj0VXu4VAi84/zYq6+3su+IYu4Otonu2SfgDny3Q0bYam8hANGK5P4PIzO9m8nV6igZBSf/yqKmX1RSBgkMRHDFE+/iwzk2GNYTXP5WwgGExWT/WnXgPF6wLWM5VIarqS9ez0UIEJNwjmzVD+uvPORYxi/WJVALLGjKBJlaSoy2tVxysG0ZdPHqW5zC6KJU5EEAIRJZSJQQwXc2gtX079Z+u4e2v78UvHcjabtfbWDF+WQKt0I5bCj0nBAAABFUGa60nhDomUwIZ//p4QAAADAH69Z6tt7bjs16gz3+KYqNIlNAA2gmd0k6kQ6SgakNymdkSbDw3cLhemkrj+WYXeoSD9krVUwWMhO/UVL3Zedcu1PIudgAG+nlKfqeN3GGKsOOY2Ri4HsTUGAFE/v6W4n7mjumRXiMUTac+2bgWzyMZGMGm6PCAhlKTj4Umf9KpEzQiz7J6qljrnixUj7Nnw9lmZCnNbqCwkLMRZm2Ge5Vi/ootqAkyuODkMJJz0QrGsM/s503uo80OoDJYC+bcLmQPIsggAdnMv/vSOqgyCwrHGmcjiMrLTO+Djh1Ztssa72rxQInFc048LWEfCQ8kH75FYrNtqzvxvWbs6OUs6tt+tvBwAAADyQZsMSeEPJlMCGf/+nhAAAAMDX/+ns5aHAagZkAFukZxjPBhLzjjNhEnD3dx8BTV6Wg0n7Lj/9SbKEN9CYy35vnc9gTdQVYIp1cMek/Fuhxtvp/RiXflWcGnAicGp+8No+wsWnJ0qsj8TZc85GFbbJ4l66w+tUclnPmTLeTdcCk/7ZLbjvav+hA9LzsZPPAOiWanZVc/zcUiSvT5KmIuk0bGVYdSQa6Q+f03mFMCUMmiemQYDxQpGF4bEjghDX052313Vv8p/4oi/5ZcZd7Thmt+wQwxSvTeCbC7NMV6GtLa3ZHQ8nhrgtbW2TGVeux+uD0gAAAC+QZstSeEPJlMCGf/+nhAAAAim+f/PRLlx+nIAOVGtcSWtoGe4vRzRl+OicMDHciKA5VaMO25XDGapEtwAxnq2F70NeV4RDkroDWH3m6QnxIGeZVEOny643iPp9KbCVhr/pNSR/MZlendwutmDCsAQGEjv2vSX9q8NRoY4ySa9rjHFiu5j46GzdDne7PoWjNtZ6SFriEgWSLWWCv5uLpaLAnmFeN0s6WEdZJVxg+J5Wt1GhDSXEl33O9oK+yYTcQAAAQxBm09J4Q8mUwURPDP//p4QAAA7PsHtezo6zBurXfQAL61VV2ey+vdFgQh+IiJ4gXNuduPD6jXbfhLP6rvTlSKuqusrIOlXcUzvNeYNSYKeCRa7iL/dHrOrW+EGRfme0K1XoRKOsmV218m/oAMtQrHsdZ4Q7+etoetv68lwhyV8uLRDl6OlaO+dhyy47FiuEVEap0bGbwKyhkiFx2cU70+axoFHjYttU8uwEUtJ8xyTKEkbnLXf+Y6PXD3eF85Tt3DeWxuSlh9KmUPZrP/1hjlO/TGBG7Qgae/+W9Z6PdWRofwzk7OYjE7z3M5DQxYLoQp8jJ/KGnsPK3QezqkUIoyJxGmt/cst2BP1QI+BAAAAjwGfbmpCfwAAD+PATO8m6IMrFnZ3CltdtrJUNEAII+OMAKZSTfYAD7qWfBW3j5f7vvlaxkbh36+4BCp2TkRRIs/16I7nKvfYBP1TVDhu+es49TN1jSiIFsaKelMZkXhZHS9T64JgB2tZ80ksK2sEMyumh+rALb9JvJ2/3sczPbVjZn8Zf1y7mLov8m/RNt0xAAAA6UGbcEnhDyZTAhn//p4QAACaiFxOznZ4ADRu7rorslr6B0WIxuKSCFh699baJ7znjGHiegSz8IY4PhNY8KEe1NvdLpAwDCb3ZWLsTdh2tA5uUmBFsq++uysrhPI8C3BFK4r7G7g/HVA3XpcYn4Tp6EyHF5Wb+8Tu0+PmWymhjWKOEP4DotWIpKuqayPwsXhV15cFboHt7M/dii4ex6XPpTU9dbn3N5XH/6awcQ3zSUoeCh0vS+Hcx5/8DjQLg+u9tUTfXW9/KHVckycoiZnZYjHdjWQPmzpyXlIbpm28rvlNZavWl0HtYhiwAAAA8EGbkUnhDyZTAhn//p4QAAGRXyjELKN4ADQoncn3HGyC1ez2BPLx7RWfE9ePoxbVE71lRL0BIr1RSW6BkODiS03N04cRSaxBGqT3TSVsv0kWS+WTeQf552PXtbo7W3/Fa3tkuodBCVcpwqYEcQZyfaSLCjEODrWYNnaNhE7sPj6D+wQRchIU0LhUm4QlgXpKxlmpPN84iN5L1HuY1TmsLJDQnPIdtj4whzaqG+pUK7T1Di3wc1kXvpw+eRuL9u2FANUBmywL75z4ffeGLP60o9rZRI/HzwvXFdrMPTcra9Xq+AlyjzepGsG+LD9cUR2BmQAAAQlBm7NJ4Q8mUwURPDf//qeEAALDiyGO+wbIATMiZyteuU+aCEyCbE5kQEZZUn7ck742U5gvY8AvO4kOO1kbWgHmtpYpMQjUa422xsNXYIYm6I1A8U3MzMkine+FjZOJBYVCp9CSNTWMKlpn59mkU6ZGJp9dksbPb4CHLb6MOwPWbsa56bTUhr9JG9XKczdP1+4N32QbZqgdG5PKCblMqXgoKVhvGsLu5mZiAojzbcu1Se5iEACznyjYcG6+Y1qDlrv/qoHgFs649Oln2/a1hehSpl4m2fHts6GeZBMcnKGefHRLIexxAC1ODX6rkmrh4B+fPzGLy1mKk3Gg1IxDy2q0KtMOwisYAH+BAAAAxwGf0mpCfwAC6W60wkEFs8XAMEGJEnVtpI+ADlPjqY/WcCBwLQzZyvmX6j8BYiwhlEXnq6q0KuAU7AK62VQWL4SKUJDOG/7/CEWEUVADiqdNcng5bDoxQjMFDr8aMqaczCLPP8CgSR00MGxmfsZwu4UXTO4SEVuVUBaJXEVybP1K8W2gOnn5Hsl44jB68U0N0TEwR3cilYJ7GEYnB6JaKMDUfBXFkfAKwluXkmIH8Yh36vAZ6PQu0DSV+c38Tb0fPMxNKkfLL20AAAGRQZvXSeEPJlMCGf/+nhAAR0Q0egYVkAC3Ya1wqOyBs11v2wu6IwF11xp5bBiecgZYHmCZWgojjq1xKJduyayiyB+MxOs6Gmd9V6onimaWLIrUkgkFOCQ4T90dL6pcRiYdoT3t4PxRWBhmbjlJBVo8hwHTPQkCSiUJRCFFoIMznGIbRWikSg0IP5Xl+15Evf1CgUNiaRDmvnzxIAZa4o/qbniR0NN45RzO8WE39sA7D+G+/toFQ+gtbQccrvR/17cupHPG4JndhOlLzrJSSXaFY6An6mqplBM+QL1nANNTZrk8YANwaVsbWB2EWPLwfeZQSO14pNzKnJeQis8UqoraEcDjR2gsOgOLz0gdhbxcUYdyBrxolrmsap/qV8PDwL6yChnVL6lC7La4zWVjgoB0+7BWQ8cGDFoYe41flCdA0k2jTuRM4JBKvztZCbiL21+6nRExzyHf/8m5Ds1pHtHoE2XLq/6lhx2GYOwBWu1Yf/2rC5kEex/Y3CtrjDn7YdgunzTUvT2fZZ9O22RGjAGACZgAAADWQZ/1RRE8K/8ADtskqIUTYfQ1Bl+2+sJ867Atw8Vf8VAA7PkZ7/gfi4TvzuEwt+th1o8u5mCc1UQATP9lhyekz3/eFO2ZxrhHnw9a8pvjY3ljvILIQWAElNZp1aidmSH5OAM2CMar7XEeNgD2FbnJaLi48aKC/xoAigV7oNs0LxB/iNI0Wt7PAUtRlzUfMnFKM/MciJTC1EaeuZgMWdWHDgYkMavZmYRPrUKGp6368ryGFLdA0zikn/YYMNniUC57xXgCfd+sCv5wVMnGABtbIObhdw6uTQAAAIMBnhR0Qn8AB25fhceN3DFsALdekGfgs7vczsQAK3uhXhAgn6TFkMDINfI3dUpSjCXD4onooeY+catcCKCYYkaR+VgpQti+S9NTZh5zrA+TTq8jvCVRVmCfBWbL350hCfwNNmcfDSqWukaBWf0EhzdZUc0jpBqjqnUuPbiKBChKMMAVsAAAALEBnhZqQn8AE1dFIr58ZoO0L8vi2o3OoCZpR3MAB2bI4C56PDOLvuQtel55+V/1WE5tx0V4EdWNAzYtQYSwEksmZ8GyRGn4RC8Vr99SeZ0JCqz6Hu0qQoZ41ke34KIP42qptKY085OA0eybJ545KuNhwLnpNWP2itTPXrkdr4wYCWxpXPlUXm/UjQrH6Yexbb6ZhMMNsEKZBNRHtrfSiQbcA3NlVxuviQjumjx0Q4JAAQsAAADrQZoYSahBaJlMCGf//p4QALZvv5QhDqAEsmNUl3QMZC3Y72I/zR9nn8F41Zf9w8Q7LDYSJPs67OhUGqlOFrGhQiCjCnB3v+IR9ef84gOxEhYZ6H/Zg2i5wN0DNRVQgP2Ug8BEeQ5BbneQlJJk8C5ogWAlhmgZfbP/btVzbiHcd0RHUZWT72WR9jZPrVhUe8xSxUx0UaFOKZrlkIXxx0tn75TCByHYO5Bm+P0w0JQ8xacTODDSF/i4IlqfGctKQDUwFE2GvAhgjNCpfKQrcsLn/5bi2UflikdKK9vVF9w2Rgkg1G6rS+q1AAAdUQAAAPtBmjpJ4QpSZTBREsM//p4QALWpFnfxQxw+mQAMp5fvI4ezhFLksf4DXIjs+/5hDOgr+zzlkPJn2I9v5RxwdMJjpY/OriPmTM72Wg4axrwjPHch4fMwebCX9QVdrwElidqZGVBLejzaTCrppOWJTnK0FiL9MXSz76aOiV75v5OP1/2G/6PoY2cBkIUkmXCBnuas8P9hudo9ek8EOPuVBPfEIuihq5yJLIgjpuScxCbALYY0CH586N6UvN232q8ntKMc7pSjBwvYEF0VYSprx+kjubAhUaUixpF5qyREY2+IpWTU92vKbeRuBajuJfUorPfzoXJOKfnSAAB6wAAAAKgBnllqQn8AMlersp8eYTutJagALraeEioizTiqDekaRiSVwdtRL3odi74Uq5dD4cjJhXu195//rv2Tu/NqBhexershcQ74jKRTeuFnrlsYtlx3LbfIemIDKV9ww7C9np4PTcLA0Mw/1WJGlnDfdmjszVyPSA/aSCGBVur1syNahtwApWNwFBGu6QiUMYv4DfbZIJ9Jm0ORCpazTpdJxSAE/XGxLLXZ3+EAAADrQZpbSeEOiZTAhn/+nhABzw7oAFBt2rMe02+tuW9fNRxEqNgu/mSge7D1pd8r+uxsfP/3mOYtzukoxmebGM6bZ5Te1IexLK/0ueJlzNK2RzBcaduAki42daLJlfYM0xZAD2kZSlMxHsUfBvgz5GpefIfzo90S77hXsGBDjhBr8YmRdu2BRoJif3D29IFiqR/BwcTltGCoH+Lwd0BYGq8H0QGMrk5BTwsqE4rWnuor8Z9zuEBcQ7hXw+Bx71/D6Y+Ek8t22XOZFBW9PyH1c0vCkawaoDQeHgljOqh4inJv7xHS6or67u/QAABdwAAAAORBmnxJ4Q8mUwIZ//6eEAHD9S4iwa4AKjgoWQAAt9lzWUgem8y7X1GT02rPg9+9x7zGPBWwOIr++DOEebOYG9VvYQVTFhOKfQkrOWkqgNcyGVWB4RwfhnI6a1jFJazLQMZ7MRdoQEc6v3yr9MtWp8UfVX1lH9z4+cMDDswTSpd3HkL0NMFkRrpT6aMJbZ/RahMQaw/gsLql6NTF5ZLkWCuKVRFc/12tCBoJA1u7nHTXhsFYVtk7gOzxle91/ZV/x+Tu2Rzb3HIWRzU4s0nGpm+M4ndwBcekBfWsJSz5Dj7iVmAAATcAAAE4QZqASeEPJlMCFf/+OEAHG9Rno35ZEXWljgmAEC+cfzqVr34CG7+FGQNnLPPsTEM0QLw2oq7z22chPvtKI/Zvhx+ARzdMbHOSaEO2scn7Jv0UHFh4PkDgEUj68mVy7m79CeFi/955JDIXsUEEpiTRYq6FiPzscGN9fveL1bAWEv4aG4XNZlqnDgeIs/D5k1mCOOOv+LHPtZKZSbqMTzYR+Zab4ZuzlYGX8WdkBvU+KcjQKpflxr8PMCxnDqKeiFYltjvptTKAv0kg2SwWB/aMuLtd9sTW10eHNtswXrPnpvEcowNKLTllPu4OwVZxcpNQg8ewweP/wsfDYEPPG6q25EuTH9KQv6zH8ZlsfP+Fcps6UVx7VRI6gjlzHXL2t/djnxbGcNw0MFE68YV78D7418nqjmuAAAXdAAAA+EGevkURPCv/AGHd3Lgd2IgBbQjWas5QvY88dd2vsjFy8QXdcsDko27kENSLA1k3WmCnyC9NpZKr1xTHe6uSjABkIav/f3OwGn78uPL5l6QxDeSVFS/Nay4+9lBFY2H0f41Dji4vpGpw/9io73X4YrLkcI40NTt3goeSnQssTbh9udy55vyd21C5coUixUnKhiPicgrqay6mXBs/ndRc44ct3UUFgw1wnUJiygn+JSgpo6iETbTUT9QxnnjCYvcJlS4Zm5Jd75Lhu3+TAZUUU+paofmCcix/iyH5YpCX6ZPxkIyHTnCXkiOTNFf1qiUwAAFnkpN2ceNpAAAArgGe3XRCfwB8L8UCIASFdgA5olFBiW3xP6hqvDNFHG5Qa0YhoQVIOF29XUXL6w0fFjQcj22owqGO3phEJ/x2l2t3rwKmp6dXBbcM+EENjEiLwW/QsJ7rO4Imi+O+oleHL4b1t12r5V98SLAcek3vtPBsYjuftV5Cu74h0/YqU1J1/1kRLtZd7aS7VWtoP7JSmGdUie5Bihey6PMWxPz+N/CmhGiwd8EAB6jhiSpYQAAAALIBnt9qQn8AfDa7D1q8AN1xiKhCu4YCsiH/e3lMbPWqo9/b9vT1OOJ4TH4aDU1gz7/25h4/nC7wIkw/iMfqg27BNIUrRyPsXFvu6+N1mah6HVPtzxx7jrvWC/OOCcl9P7VrceWzPFLGDxIDMoyFaoHGsf8fV4t7KqgCt/2VlcyMlJORhuPHPfRR98ytTS9lWMmzoKgi+COcX8D7m+oaJyTf/lEprowaoHvZ3oAFHv9IZJAhAAAAv0GawUmoQWiZTAhP//3xABDvf/0TPBEiOngA5hgeJ4gN1m6PzJX0a74ICV2g3QxAon98D5wuTPHR3bi/8w4rhmnutiGEsGZrWzB+Z3Vuv9+ICW9UJQKBKP6QMJVleekKKmAHNqe8mZnNK9QBBwYKbD81VtA51Ck31IVGLBUAF0VK4EhZ/0e1T1dpyf5AuI7NONUZWylwPFdu0mXkQc2706uqN50RIrrZpaMw63Ln6q0l8O+h8ku6fgILltAAAK+AAAAJ221vb3YAAABsbXZoZAAAAAAAAAAAAAAAAAAAA+gAABUYAAEAAAEAAAAAAAAAAAAAAAABAAAAAAAAAAAAAAAAAAAAAQAAAAAAAAAAAAAAAAAAQAAAAAAAAAAAAAAAAAAAAAAAAAAAAAAAAAAAAAAAAAIAAAkFdHJhawAAAFx0a2hkAAAAAwAAAAAAAAAAAAAAAQAAAAAAABUYAAAAAAAAAAAAAAAAAAAAAAABAAAAAAAAAAAAAAAAAAAAAQAAAAAAAAAAAAAAAAAAQAAAAAJYAAABkAAAAAAAJGVkdHMAAAAcZWxzdAAAAAAAAAABAAAVGAAABAAAAQAAAAAIfW1kaWEAAAAgbWRoZAAAAAAAAAAAAAAAAAAAPAAAAUQAVcQAAAAAAC1oZGxyAAAAAAAAAAB2aWRlAAAAAAAAAAAAAAAAVmlkZW9IYW5kbGVyAAAACChtaW5mAAAAFHZtaGQAAAABAAAAAAAAAAAAAAAkZGluZgAAABxkcmVmAAAAAAAAAAEAAAAMdXJsIAAAAAEAAAfoc3RibAAAAJhzdHNkAAAAAAAAAAEAAACIYXZjMQAAAAAAAAABAAAAAAAAAAAAAAAAAAAAAAJYAZAASAAAAEgAAAAAAAAAAQAAAAAAAAAAAAAAAAAAAAAAAAAAAAAAAAAAAAAAAAAAABj//wAAADJhdmNDAWQAHv/hABlnZAAerNlAmDPl4QAAAwABAAADADwPFi2WAQAGaOvjyyLAAAAAGHN0dHMAAAAAAAAAAQAAAKIAAAIAAAAAFHN0c3MAAAAAAAAAAQAAAAEAAARQY3R0cwAAAAAAAACIAAAAAQAABAAAAAABAAAGAAAAAAEAAAIAAAAAAQAACgAAAAABAAAEAAAAAAEAAAAAAAAAAQAAAgAAAAABAAAKAAAAAAEAAAQAAAAAAQAAAAAAAAABAAACAAAAAAEAAAoAAAAAAQAABAAAAAABAAAAAAAAAAEAAAIAAAAAAQAABAAAAAABAAAKAAAAAAEAAAQAAAAAAQAAAAAAAAABAAACAAAAAAEAAAoAAAAAAQAABAAAAAABAAAAAAAAAAEAAAIAAAAAAQAACgAAAAABAAAEAAAAAAEAAAAAAAAAAQAAAgAAAAABAAAIAAAAAAIAAAIAAAAAAQAACgAAAAABAAAEAAAAAAEAAAAAAAAAAQAAAgAAAAABAAAKAAAAAAEAAAQAAAAAAQAAAAAAAAABAAACAAAAAAEAAAoAAAAAAQAABAAAAAABAAAAAAAAAAEAAAIAAAAAAQAABgAAAAABAAACAAAAAAEAAAgAAAAAAgAAAgAAAAADAAAEAAAAAAEAAAYAAAAAAQAAAgAAAAABAAAKAAAAAAEAAAQAAAAAAQAAAAAAAAABAAACAAAAAAEAAAQAAAAAAQAABgAAAAABAAACAAAAAAIAAAQAAAAAAQAACAAAAAACAAACAAAAAAEAAAoAAAAAAQAABAAAAAABAAAAAAAAAAEAAAIAAAAAAQAACgAAAAABAAAEAAAAAAEAAAAAAAAAAQAAAgAAAAABAAAKAAAAAAEAAAQAAAAAAQAAAAAAAAABAAACAAAAAAEAAAQAAAAAAQAABgAAAAABAAACAAAAAAEAAAQAAAAAAQAABgAAAAABAAACAAAAAAEAAAoAAAAAAQAABAAAAAABAAAAAAAAAAEAAAIAAAAAAQAACgAAAAABAAAEAAAAAAEAAAAAAAAAAQAAAgAAAAABAAAEAAAAAAEAAAgAAAAAAgAAAgAAAAADAAAEAAAAAAEAAAYAAAAAAQAAAgAAAAABAAAGAAAAAAEAAAIAAAAAAQAACAAAAAACAAACAAAAAAIAAAQAAAAAAQAACgAAAAABAAAEAAAAAAEAAAAAAAAAAQAAAgAAAAABAAAKAAAAAAEAAAQAAAAAAQAAAAAAAAABAAACAAAAAAEAAAYAAAAAAQAAAgAAAAACAAAEAAAAAAEAAAYAAAAAAQAAAgAAAAAIAAAEAAAAAAEAAAgAAAAAAgAAAgAAAAABAAAEAAAAAAEAAAoAAAAAAQAABAAAAAABAAAAAAAAAAEAAAIAAAAABQAABAAAAAABAAAGAAAAAAEAAAIAAAAAAgAABAAAAAABAAAGAAAAAAEAAAIAAAAAAQAACgAAAAABAAAEAAAAAAEAAAAAAAAAAQAAAgAAAAABAAAEAAAAAAEAAAYAAAAAAQAAAgAAAAACAAAEAAAAAAEAAAoAAAAAAQAABAAAAAABAAAAAAAAAAEAAAIAAAAAAQAABAAAAAAcc3RzYwAAAAAAAAABAAAAAQAAAKIAAAABAAACnHN0c3oAAAAAAAAAAAAAAKIAABNxAAACFgAAAI8AAADMAAAArQAAAHoAAACTAAABEwAAAMEAAABqAAAAZAAAAKMAAABzAAAAXgAAAEQAAACKAAAA7gAAAJAAAABmAAAAcwAAAQEAAACcAAAAbQAAAI8AAAENAAAAxwAAAIQAAAClAAABUwAAAMMAAACgAAABQwAAAN8AAACcAAAAmwAAASQAAACvAAAAmwAAAIoAAACzAAAAfgAAAIYAAAB/AAAA6wAAAKgAAAE8AAAAygAAAKYAAAEEAAAA8QAAARwAAADZAAAAqgAAAWQAAADlAAAAggAAAMgAAAEWAAABTQAAALgAAAEqAAABGQAAAXMAAADYAAAAqwAAAWYAAACfAAAAfQAAAIcAAAD0AAAAcQAAAIIAAABnAAAA1AAAAIwAAABUAAAAcAAAAOQAAAEFAAAAjwAAAPcAAAFIAAAAvAAAAW4AAAEIAAAAxAAAAOAAAAFkAAAA5wAAANUAAADFAAABOQAAAXgAAADzAAAAvwAAATQAAAEVAAAA8AAAASQAAAChAAABNgAAAKoAAADtAAAAtwAAAIUAAADsAAAAiQAAASUAAAC+AAAAmgAAAJsAAADXAAAApQAAACUAAACIAAAA4AAAAIAAAADaAAAAvwAAANwAAAB9AAAAygAAAPQAAADrAAAAtwAAANAAAADkAAABHwAAASgAAAEUAAABCwAAAPQAAAEIAAABfQAAATsAAADOAAAA5QAAAQYAAADvAAABGQAAAPYAAADCAAABEAAAAJMAAADtAAAA9AAAAQ0AAADLAAABlQAAANoAAACHAAAAtQAAAO8AAAD/AAAArAAAAO8AAADoAAABPAAAAPwAAACyAAAAtgAAAMMAAAAUc3RjbwAAAAAAAAABAAAAMAAAAGJ1ZHRhAAAAWm1ldGEAAAAAAAAAIWhkbHIAAAAAAAAAAG1kaXJhcHBsAAAAAAAAAAAAAAAALWlsc3QAAAAlqXRvbwAAAB1kYXRhAAAAAQAAAABMYXZmNTcuODMuMTAw\" type=\"video/mp4\" />\n",
              "             </video>"
            ],
            "text/plain": [
              "<IPython.core.display.HTML object>"
            ]
          },
          "metadata": {
            "tags": []
          }
        }
      ]
    },
    {
      "cell_type": "code",
      "metadata": {
        "id": "2outDgpPjGBj",
        "colab_type": "code",
        "colab": {
          "base_uri": "https://localhost:8080/",
          "height": 1000
        },
        "outputId": "b9927fc9-10aa-4e6b-deec-ed2ff686b18f"
      },
      "source": [
        "import gym\n",
        "import os\n",
        "import random\n",
        "import numpy as np\n",
        "from statistics import mean\n",
        "\n",
        "\n",
        "class MountainCar:\n",
        "    def __init__(self, epsilon, alpha, gamma):\n",
        "        self.system = \"OS X\"\n",
        "        self.env = wrap_env(gym.make('MountainCar-v0'))\n",
        "        self.action_space = self.env.action_space.n  # 0 is push left, 1 is  no push and 2 is push right\n",
        "        self.observation_space = self.env.observation_space  # 0 is position [-1.2 - 0.6], 1 is velocity [-0.07 - 0.07]\n",
        "\n",
        "        self.epsilon = epsilon  # probability of choosing a random action\n",
        "        self.alpha = alpha  # learning rate\n",
        "        self.gamma = gamma  # discount rate\n",
        "\n",
        "        self.velocity_obs = [i / 100 for i in range(-7, 8, 1)]\n",
        "        self.pos_obs = [i / 10 for i in range(-12, 7, 1)]\n",
        "        obs_size = len(self.velocity_obs) * len(self.pos_obs)\n",
        "        self.path = \"/content/gdrive/My Drive/Colab Notebooks/\"  # Desktop file path\n",
        "\n",
        "        try:\n",
        "            self.Q = np.load(self.path + \".npy\")\n",
        "        except FileNotFoundError:\n",
        "            self.Q = np.zeros([obs_size, self.action_space])  # Initialize Q values\n",
        "\n",
        "    def saveQ(self, path):  # save Q values\n",
        "        np.save(path + \".npy\", self.Q)\n",
        "\n",
        "    def get_Q_index(self, state):\n",
        "        for i in range(len(self.pos_obs)):\n",
        "            # Position\n",
        "            if self.pos_obs[i] <= state[0] < self.pos_obs[i + 1]:\n",
        "                # Velocity\n",
        "                for j in range(len(self.velocity_obs)):\n",
        "                    if self.velocity_obs[j] <= state[1] < self.velocity_obs[j + 1]:\n",
        "                        return len(self.velocity_obs) * i + j  # row we need in Q\n",
        "\n",
        "    def learn(self, episodes, until_solved, rendering):\n",
        "\n",
        "        print(\"Learning MountainCar-v0 model with {} episodes \".format(episodes))\n",
        "        print(\"Learning  model until solved status: {}\\n\".format(until_solved))\n",
        "\n",
        "        global_max_score = -1e10\n",
        "        global_max_height = -1e10\n",
        "        episodes_to_solve = 0\n",
        "        self.env.seed(0)\n",
        "        scores = []\n",
        "        for i in range(1, episodes):\n",
        "            obs = self.env.reset()\n",
        "            state = self.get_Q_index(obs)\n",
        "            done = False\n",
        "            total_score = 0\n",
        "            max_height = -1e10\n",
        "            step = 0\n",
        "            while not done:\n",
        "                step += 1\n",
        "                self.env.render() if rendering else 0  # picture\n",
        "                if random.uniform(0, 1) < self.epsilon:  # e-greedy policy\n",
        "                    action = self.env.action_space.sample()\n",
        "                else:\n",
        "                    action = np.argmax(self.Q[state])\n",
        "\n",
        "                next_obs, reward, done, info = self.env.step(action)\n",
        "                modified_reward = reward + self.gamma * abs(next_obs[1]) - abs(obs[1])  # reward based on potentials\n",
        "                next_state = self.get_Q_index(next_obs)\n",
        "\n",
        "                # update Q\n",
        "                self.Q[state, action] = (1 - self.alpha) * self.Q[state, action] + self.alpha * (\n",
        "                        modified_reward + self.gamma * np.max(self.Q[next_state]) - self.Q[state, action])\n",
        "                state = next_state\n",
        "\n",
        "                total_score += reward\n",
        "                max_height = max(max_height, next_obs[0])\n",
        "\n",
        "                # end if solved\n",
        "                if done and step < 200:\n",
        "                    if until_solved:\n",
        "                        print(\"Solved in {} episodes\".format(i))\n",
        "                        self.env.close()\n",
        "                        raise SystemExit()\n",
        "                    if not episodes_to_solve:\n",
        "                        episodes_to_solve = i\n",
        "            scores.append(total_score)\n",
        "            self.epsilon -= 5 * self.epsilon / episodes if self.epsilon > 0 else 0  # epsilon reduction\n",
        "            global_max_score = max(global_max_score, total_score)\n",
        "            global_max_height = max(global_max_height, max_height)\n",
        "            if i % 5 == 0:\n",
        "                print(\"Episode: {}\".format(i))\n",
        "                print(\" Total score for episode {} : {}, Max height : {}\".format(i, total_score, max_height))\n",
        "                print(\" GLOBAL MAXIMUMS: Max score : {}, Max height  : {}\".format(global_max_score, global_max_height))\n",
        "                print('-' * 150)\n",
        "                self.saveQ(self.path)\n",
        "\n",
        "        print(\"Training finished\\n\")\n",
        "        solve_status = \"Solved in {} episodes\".format(episodes_to_solve) if global_max_height >= 0.5 else \"Not Solved\"\n",
        "        print(\"Max score: {} ({} : mean), Max height: {}, Solve status : {}\".format(global_max_score, int(mean(scores)),\n",
        "                                                                                    global_max_height,\n",
        "                                                                                    solve_status))\n",
        "        self.env.close()\n",
        "\n",
        "\n",
        "if __name__ == '__main__':\n",
        "    episode_number = 100  # number of episodes\n",
        "    learn_until_solved = False  # stop if solved\n",
        "    rendering = True  # picture\n",
        "    epsilon = 0.1  # probability of choosing a random action\n",
        "    alpha = 0.5  # learning rate\n",
        "    gamma = 0.8  # discount rate\n",
        "    MountainCar(epsilon, alpha, gamma).learn(episode_number, learn_until_solved, rendering)\n"
      ],
      "execution_count": null,
      "outputs": [
        {
          "output_type": "stream",
          "text": [
            "Learning MountainCar-v0 model with 100 episodes \n",
            "Learning  model until solved status: False\n",
            "\n",
            "Episode: 5\n",
            " Total score for episode 5 : -184.0, Max height : 0.5168809399938525\n",
            " GLOBAL MAXIMUMS: Max score : -164.0, Max height  : 0.5234784996285066\n",
            "------------------------------------------------------------------------------------------------------------------------------------------------------\n",
            "Episode: 10\n",
            " Total score for episode 10 : -200.0, Max height : 0.21404480666549994\n",
            " GLOBAL MAXIMUMS: Max score : -164.0, Max height  : 0.5327335251169231\n",
            "------------------------------------------------------------------------------------------------------------------------------------------------------\n",
            "Episode: 15\n",
            " Total score for episode 15 : -167.0, Max height : 0.5250681647603543\n",
            " GLOBAL MAXIMUMS: Max score : -164.0, Max height  : 0.5327335251169231\n",
            "------------------------------------------------------------------------------------------------------------------------------------------------------\n",
            "Episode: 20\n",
            " Total score for episode 20 : -161.0, Max height : 0.5114188023383166\n",
            " GLOBAL MAXIMUMS: Max score : -160.0, Max height  : 0.5327335251169231\n",
            "------------------------------------------------------------------------------------------------------------------------------------------------------\n",
            "Episode: 25\n",
            " Total score for episode 25 : -163.0, Max height : 0.5218108244215128\n",
            " GLOBAL MAXIMUMS: Max score : -156.0, Max height  : 0.5327335251169231\n",
            "------------------------------------------------------------------------------------------------------------------------------------------------------\n",
            "Episode: 30\n",
            " Total score for episode 30 : -179.0, Max height : 0.5089568624107111\n",
            " GLOBAL MAXIMUMS: Max score : -156.0, Max height  : 0.5327335251169231\n",
            "------------------------------------------------------------------------------------------------------------------------------------------------------\n",
            "Episode: 35\n",
            " Total score for episode 35 : -161.0, Max height : 0.5088813399038284\n",
            " GLOBAL MAXIMUMS: Max score : -147.0, Max height  : 0.5442832842554474\n",
            "------------------------------------------------------------------------------------------------------------------------------------------------------\n",
            "Episode: 40\n",
            " Total score for episode 40 : -167.0, Max height : 0.5102406638041216\n",
            " GLOBAL MAXIMUMS: Max score : -146.0, Max height  : 0.5442832842554474\n",
            "------------------------------------------------------------------------------------------------------------------------------------------------------\n",
            "Episode: 45\n",
            " Total score for episode 45 : -148.0, Max height : 0.502139901177947\n",
            " GLOBAL MAXIMUMS: Max score : -145.0, Max height  : 0.5442832842554474\n",
            "------------------------------------------------------------------------------------------------------------------------------------------------------\n",
            "Episode: 50\n",
            " Total score for episode 50 : -161.0, Max height : 0.5025930222387452\n",
            " GLOBAL MAXIMUMS: Max score : -145.0, Max height  : 0.5442832842554474\n",
            "------------------------------------------------------------------------------------------------------------------------------------------------------\n",
            "Episode: 55\n",
            " Total score for episode 55 : -121.0, Max height : 0.5070043181820492\n",
            " GLOBAL MAXIMUMS: Max score : -121.0, Max height  : 0.5442832842554474\n",
            "------------------------------------------------------------------------------------------------------------------------------------------------------\n",
            "Episode: 60\n",
            " Total score for episode 60 : -185.0, Max height : 0.5113268537624449\n",
            " GLOBAL MAXIMUMS: Max score : -121.0, Max height  : 0.5442832842554474\n",
            "------------------------------------------------------------------------------------------------------------------------------------------------------\n",
            "Episode: 65\n",
            " Total score for episode 65 : -151.0, Max height : 0.5265447814806336\n",
            " GLOBAL MAXIMUMS: Max score : -111.0, Max height  : 0.5442832842554474\n",
            "------------------------------------------------------------------------------------------------------------------------------------------------------\n",
            "Episode: 70\n",
            " Total score for episode 70 : -151.0, Max height : 0.5312029701804639\n",
            " GLOBAL MAXIMUMS: Max score : -111.0, Max height  : 0.5442832842554474\n",
            "------------------------------------------------------------------------------------------------------------------------------------------------------\n",
            "Episode: 75\n",
            " Total score for episode 75 : -163.0, Max height : 0.5108988003478322\n",
            " GLOBAL MAXIMUMS: Max score : -111.0, Max height  : 0.5442832842554474\n",
            "------------------------------------------------------------------------------------------------------------------------------------------------------\n",
            "Episode: 80\n",
            " Total score for episode 80 : -155.0, Max height : 0.511743656927462\n",
            " GLOBAL MAXIMUMS: Max score : -111.0, Max height  : 0.5442832842554474\n",
            "------------------------------------------------------------------------------------------------------------------------------------------------------\n",
            "Episode: 85\n",
            " Total score for episode 85 : -156.0, Max height : 0.5108998786797887\n",
            " GLOBAL MAXIMUMS: Max score : -111.0, Max height  : 0.5442832842554474\n",
            "------------------------------------------------------------------------------------------------------------------------------------------------------\n",
            "Episode: 90\n",
            " Total score for episode 90 : -153.0, Max height : 0.505404035002894\n",
            " GLOBAL MAXIMUMS: Max score : -111.0, Max height  : 0.5442832842554474\n",
            "------------------------------------------------------------------------------------------------------------------------------------------------------\n",
            "Episode: 95\n",
            " Total score for episode 95 : -162.0, Max height : 0.5062168917260509\n",
            " GLOBAL MAXIMUMS: Max score : -111.0, Max height  : 0.5442832842554474\n",
            "------------------------------------------------------------------------------------------------------------------------------------------------------\n",
            "Training finished\n",
            "\n",
            "Max score: -111.0 (-166 : mean), Max height: 0.5442832842554474, Solve status : Solved in 1 episodes\n"
          ],
          "name": "stdout"
        }
      ]
    },
    {
      "cell_type": "code",
      "metadata": {
        "id": "1Svi7RlR6pdY",
        "colab_type": "code",
        "colab": {
          "base_uri": "https://localhost:8080/",
          "height": 1000
        },
        "outputId": "14c3022f-bf7e-4ec3-d5b2-8ab0bc0877eb"
      },
      "source": [
        "class State:\n",
        "    def __init__(self):\n",
        "        self.pos = None\n",
        "        self.vel = None\n",
        "\n",
        "class Agent:\n",
        "    def __init__(self, env):\n",
        "        self.velocityLimit = np.array([env.observation_space.low[1], env.observation_space.high[1]])\n",
        "        self.positionLimit = np.array([env.observation_space.low[0], env.observation_space.high[0]])\n",
        "        self.velocityStep, self.positionStep = 0.005, 0.1\n",
        "        self.velocitySpace = np.arange(self.velocityLimit[0], self.velocityLimit[1] \n",
        "                                       + self.velocityStep, self.velocityStep)\n",
        "        self.positionSpace = np.arange(self.positionLimit[0], self.positionLimit[1] \n",
        "                                       + self.positionStep, self.positionStep)\n",
        "        self.m, self.n, self.n_action = len(self.velocitySpace), len(self.positionSpace), 3\n",
        "        self.Q = np.full(shape = (self.m, self.n, 3),\n",
        "                                       fill_value = 0.0, dtype = np.float32)\n",
        "        self.collectiveRecord = []\n",
        "        self.success = []\n",
        "        \n",
        "    def getActionValueIndex(self, state):\n",
        "        posOffset = state[0] - self.positionLimit[0]\n",
        "        velOffset = state[1] - self.velocityLimit[0]\n",
        "        posInd = posOffset // self.positionStep\n",
        "        velInd = velOffset // self.velocityStep\n",
        "        \n",
        "        return np.array([velInd, posInd], dtype= np.int)\n",
        "  \n",
        "    def getAction(self, state):\n",
        "        ind = self.getActionValueIndex(state, 0)\n",
        "        p = self.Policy[ind[0], ind[1], :]\n",
        "        action = np.random.choice([0, 1, 2], size = 1, p = p)\n",
        "        return action[0]\n",
        "\n",
        "env = wrap_env(gym.make('MountainCar-v0'))\n",
        "agent = Agent(env)\n",
        "env.seed(0)\n",
        "print(\"Q Shape = \",agent.Q.shape)\n",
        "\n",
        "eps = 0.8\n",
        "changed_eps= []\n",
        "changes_alpha= []\n",
        "alpha = 0.2\n",
        "LAMBDA = 0.8\n",
        "alphaDecay = 0.999\n",
        "epsDecay = 0.995\n",
        "agent.e = np.zeros(shape = (agent.m, agent.n, 3))\n",
        "Finish = False\n",
        "numEpisodes = 5000\n",
        "for i_eps in tqdm(range(1, numEpisodes + 1)):\n",
        "    state = env.reset()\n",
        "    agent.e[:, :, :] = 0\n",
        "    gamma = 1.0\n",
        "    ind = agent.getActionValueIndex(state)\n",
        "    if np.random.random() < 1 - eps:\n",
        "        action = np.argmax(agent.Q[ind[0], ind[1], :]) \n",
        "    else:\n",
        "        action = np.random.randint(0, 3)\n",
        "    \n",
        "    for t in range(201):\n",
        "        ind = agent.getActionValueIndex(state)\n",
        "        nextState, reward, done, info = env.step(action)\n",
        "        nextInd = agent.getActionValueIndex(nextState)\n",
        "        \n",
        "        if np.random.random() < 1 - eps:\n",
        "            nextAction = np.argmax(agent.Q[nextInd[0], nextInd[1], :]) \n",
        "        else: \n",
        "            nextAction = np.random.randint(0, 3)\n",
        "    \n",
        "        delta = reward + gamma * agent.Q[nextInd[0],nextInd[1],nextAction] - agent.Q[ind[0],ind[1],action]\n",
        "        agent.e[ind[0],ind[1],action] += 1\n",
        " \n",
        "        agent.Q = np.add(agent.Q, np.multiply(alpha * delta, agent.e))\n",
        "        agent.e = np.multiply(gamma * LAMBDA, agent.e)\n",
        "        \n",
        "        if done: \n",
        "            if t < 199:\n",
        "                agent.success.append((i_eps, t))\n",
        "            agent.collectiveRecord.append(-t)\n",
        "            eps = max(0.0, eps * epsDecay)\n",
        "            alpha = max(0.0, alpha * alphaDecay)\n",
        "            break\n",
        "        state = nextState\n",
        "        action = nextAction\n",
        "# env.close()\n",
        "\n",
        "\n",
        "fig, ax = plt.subplots(figsize = (18, 8))\n",
        "plt.plot(agent.collectiveRecord[:],'.')\n",
        "plt.yticks(range(-110, -200, -10))\n",
        "plt.ylabel(\"reward\")\n",
        "plt.xlabel(\"episode_number\")\n",
        "plt.grid()\n",
        "plt.show()"
      ],
      "execution_count": null,
      "outputs": [
        {
          "output_type": "stream",
          "text": [
            "\n",
            "  0%|          | 0/5000 [00:00<?, ?it/s]\u001b[A"
          ],
          "name": "stderr"
        },
        {
          "output_type": "stream",
          "text": [
            "Q Shape =  (30, 20, 3)\n"
          ],
          "name": "stdout"
        },
        {
          "output_type": "stream",
          "text": [
            "\n",
            "  0%|          | 1/5000 [00:02<2:58:53,  2.15s/it]\u001b[A\n",
            "  0%|          | 2/5000 [00:04<2:57:58,  2.14s/it]\u001b[A\n",
            "  0%|          | 3/5000 [00:04<2:07:09,  1.53s/it]\u001b[A\n",
            "  0%|          | 9/5000 [00:06<1:37:51,  1.18s/it]\u001b[A\n",
            "  0%|          | 10/5000 [00:06<1:11:02,  1.17it/s]\u001b[A\n",
            "  0%|          | 16/5000 [00:06<50:05,  1.66it/s]  \u001b[A\n",
            "  0%|          | 23/5000 [00:06<35:23,  2.34it/s]\u001b[A\n",
            "  1%|          | 28/5000 [00:08<35:00,  2.37it/s]\u001b[A\n",
            "  1%|          | 31/5000 [00:09<25:41,  3.22it/s]\u001b[A\n",
            "  1%|          | 37/5000 [00:09<18:26,  4.49it/s]\u001b[A\n",
            "  1%|          | 43/5000 [00:09<13:19,  6.20it/s]\u001b[A\n",
            "  1%|          | 49/5000 [00:09<09:45,  8.45it/s]\u001b[A\n",
            "  1%|          | 55/5000 [00:09<07:14, 11.37it/s]\u001b[A\n",
            "  1%|          | 62/5000 [00:09<05:28, 15.04it/s]\u001b[A\n",
            "  1%|▏         | 68/5000 [00:11<12:46,  6.43it/s]\u001b[A\n",
            "  1%|▏         | 73/5000 [00:11<09:26,  8.70it/s]\u001b[A\n",
            "  2%|▏         | 79/5000 [00:11<07:02, 11.64it/s]\u001b[A\n",
            "  2%|▏         | 86/5000 [00:12<05:19, 15.39it/s]\u001b[A\n",
            "  2%|▏         | 92/5000 [00:12<04:13, 19.38it/s]\u001b[A\n",
            "  2%|▏         | 98/5000 [00:12<03:23, 24.12it/s]\u001b[A\n",
            "  2%|▏         | 105/5000 [00:12<02:46, 29.43it/s]\u001b[A\n",
            "  2%|▏         | 112/5000 [00:12<02:20, 34.80it/s]\u001b[A\n",
            "  2%|▏         | 118/5000 [00:12<02:03, 39.68it/s]\u001b[A\n",
            "  2%|▎         | 125/5000 [00:12<01:48, 45.05it/s]\u001b[A\n",
            "  3%|▎         | 131/5000 [00:14<10:09,  7.98it/s]\u001b[A\n",
            "  3%|▎         | 137/5000 [00:15<07:31, 10.77it/s]\u001b[A\n",
            "  3%|▎         | 144/5000 [00:15<05:37, 14.38it/s]\u001b[A\n",
            "  3%|▎         | 151/5000 [00:15<04:18, 18.73it/s]\u001b[A\n",
            "  3%|▎         | 158/5000 [00:15<03:22, 23.89it/s]\u001b[A\n",
            "  3%|▎         | 165/5000 [00:15<02:45, 29.19it/s]\u001b[A\n",
            "  3%|▎         | 172/5000 [00:15<02:17, 35.13it/s]\u001b[A\n",
            "  4%|▎         | 179/5000 [00:15<02:01, 39.66it/s]\u001b[A\n",
            "  4%|▎         | 186/5000 [00:15<01:47, 44.88it/s]\u001b[A\n",
            "  4%|▍         | 193/5000 [00:15<01:39, 48.32it/s]\u001b[A\n",
            "  4%|▍         | 200/5000 [00:16<01:34, 51.03it/s]\u001b[A\n",
            "  4%|▍         | 207/5000 [00:16<01:31, 52.32it/s]\u001b[A\n",
            "  4%|▍         | 213/5000 [00:16<01:31, 52.55it/s]\u001b[A\n",
            "  4%|▍         | 219/5000 [00:18<09:42,  8.20it/s]\u001b[A\n",
            "  4%|▍         | 225/5000 [00:18<07:11, 11.06it/s]\u001b[A\n",
            "  5%|▍         | 232/5000 [00:18<05:23, 14.73it/s]\u001b[A\n",
            "  5%|▍         | 239/5000 [00:18<04:09, 19.07it/s]\u001b[A\n",
            "  5%|▍         | 245/5000 [00:18<03:19, 23.78it/s]\u001b[A\n",
            "  5%|▌         | 251/5000 [00:19<02:43, 28.96it/s]\u001b[A\n",
            "  5%|▌         | 258/5000 [00:19<02:17, 34.46it/s]\u001b[A\n",
            "  5%|▌         | 265/5000 [00:19<01:59, 39.71it/s]\u001b[A\n",
            "  5%|▌         | 271/5000 [00:19<01:48, 43.42it/s]\u001b[A\n",
            "  6%|▌         | 278/5000 [00:19<01:40, 47.19it/s]\u001b[A\n",
            "  6%|▌         | 285/5000 [00:19<01:31, 51.63it/s]\u001b[A\n",
            "  6%|▌         | 292/5000 [00:19<01:26, 54.57it/s]\u001b[A\n",
            "  6%|▌         | 299/5000 [00:19<01:25, 55.28it/s]\u001b[A\n",
            "  6%|▌         | 306/5000 [00:19<01:21, 57.93it/s]\u001b[A\n",
            "  6%|▋         | 313/5000 [00:20<01:17, 60.82it/s]\u001b[A\n",
            "  6%|▋         | 320/5000 [00:20<01:16, 60.88it/s]\u001b[A\n",
            "  7%|▋         | 327/5000 [00:20<01:16, 61.35it/s]\u001b[A\n",
            "  7%|▋         | 334/5000 [00:20<01:17, 60.23it/s]\u001b[A\n",
            "  7%|▋         | 341/5000 [00:20<01:17, 60.47it/s]\u001b[A\n",
            "  7%|▋         | 348/5000 [00:22<08:09,  9.50it/s]\u001b[A\n",
            "  7%|▋         | 355/5000 [00:22<06:04, 12.73it/s]\u001b[A\n",
            "  7%|▋         | 361/5000 [00:22<04:38, 16.64it/s]\u001b[A\n",
            "  7%|▋         | 367/5000 [00:22<03:38, 21.18it/s]\u001b[A\n",
            "  7%|▋         | 373/5000 [00:23<02:58, 25.94it/s]\u001b[A\n",
            "  8%|▊         | 380/5000 [00:23<02:27, 31.30it/s]\u001b[A\n",
            "  8%|▊         | 387/5000 [00:23<02:05, 36.79it/s]\u001b[A\n",
            "  8%|▊         | 393/5000 [00:23<01:52, 41.09it/s]\u001b[A\n",
            "  8%|▊         | 400/5000 [00:23<01:40, 45.59it/s]\u001b[A\n",
            "  8%|▊         | 407/5000 [00:23<01:30, 50.76it/s]\u001b[A\n",
            "  8%|▊         | 414/5000 [00:23<01:25, 53.36it/s]\u001b[A\n",
            "  8%|▊         | 421/5000 [00:23<01:22, 55.56it/s]\u001b[A\n",
            "  9%|▊         | 428/5000 [00:23<01:19, 57.43it/s]\u001b[A\n",
            "  9%|▊         | 435/5000 [00:24<01:18, 58.10it/s]\u001b[A\n",
            "  9%|▉         | 442/5000 [00:24<01:17, 58.91it/s]\u001b[A\n",
            "  9%|▉         | 449/5000 [00:24<01:16, 59.31it/s]\u001b[A\n",
            "  9%|▉         | 456/5000 [00:24<01:17, 58.93it/s]\u001b[A\n",
            "  9%|▉         | 463/5000 [00:24<01:15, 60.21it/s]\u001b[A\n",
            "  9%|▉         | 470/5000 [00:24<01:13, 61.68it/s]\u001b[A\n",
            " 10%|▉         | 478/5000 [00:24<01:09, 65.27it/s]\u001b[A\n",
            " 10%|▉         | 486/5000 [00:24<01:06, 67.49it/s]\u001b[A\n",
            " 10%|▉         | 493/5000 [00:24<01:06, 67.83it/s]\u001b[A\n",
            " 10%|█         | 500/5000 [00:25<01:07, 66.39it/s]\u001b[A\n",
            " 10%|█         | 507/5000 [00:25<01:11, 63.24it/s]\u001b[A\n",
            " 10%|█         | 514/5000 [00:27<07:38,  9.77it/s]\u001b[A\n",
            " 10%|█         | 520/5000 [00:27<05:46, 12.95it/s]\u001b[A\n",
            " 11%|█         | 527/5000 [00:27<04:22, 17.03it/s]\u001b[A\n",
            " 11%|█         | 535/5000 [00:27<03:21, 22.16it/s]\u001b[A\n",
            " 11%|█         | 543/5000 [00:27<02:37, 28.23it/s]\u001b[A\n",
            " 11%|█         | 551/5000 [00:27<02:08, 34.62it/s]\u001b[A\n",
            " 11%|█         | 559/5000 [00:27<01:48, 40.89it/s]\u001b[A\n",
            " 11%|█▏        | 567/5000 [00:28<01:34, 46.91it/s]\u001b[A\n",
            " 11%|█▏        | 574/5000 [00:28<01:28, 50.04it/s]\u001b[A\n",
            " 12%|█▏        | 581/5000 [00:28<01:22, 53.65it/s]\u001b[A\n",
            " 12%|█▏        | 588/5000 [00:28<01:17, 56.77it/s]\u001b[A\n",
            " 12%|█▏        | 595/5000 [00:28<01:17, 56.96it/s]\u001b[A\n",
            " 12%|█▏        | 602/5000 [00:28<01:15, 58.47it/s]\u001b[A\n",
            " 12%|█▏        | 610/5000 [00:28<01:11, 61.72it/s]\u001b[A\n",
            " 12%|█▏        | 618/5000 [00:28<01:07, 64.56it/s]\u001b[A\n",
            " 13%|█▎        | 626/5000 [00:28<01:04, 68.32it/s]\u001b[A\n",
            " 13%|█▎        | 634/5000 [00:29<01:03, 69.13it/s]\u001b[A\n",
            " 13%|█▎        | 642/5000 [00:29<01:04, 67.41it/s]\u001b[A\n",
            " 13%|█▎        | 649/5000 [00:29<01:06, 64.96it/s]\u001b[A\n",
            " 13%|█▎        | 656/5000 [00:29<01:07, 63.90it/s]\u001b[A\n",
            " 13%|█▎        | 663/5000 [00:29<01:08, 63.02it/s]\u001b[A\n",
            " 13%|█▎        | 670/5000 [00:29<01:09, 62.68it/s]\u001b[A\n",
            " 14%|█▎        | 678/5000 [00:29<01:05, 65.84it/s]\u001b[A\n",
            " 14%|█▎        | 686/5000 [00:29<01:02, 68.80it/s]\u001b[A\n",
            " 14%|█▍        | 695/5000 [00:30<00:59, 72.22it/s]\u001b[A\n",
            " 14%|█▍        | 703/5000 [00:30<00:58, 73.44it/s]\u001b[A\n",
            " 14%|█▍        | 711/5000 [00:30<00:57, 75.19it/s]\u001b[A\n",
            " 14%|█▍        | 719/5000 [00:30<00:57, 74.56it/s]\u001b[A\n",
            " 15%|█▍        | 727/5000 [00:30<00:59, 71.69it/s]\u001b[A\n",
            " 15%|█▍        | 735/5000 [00:32<06:11, 11.47it/s]\u001b[A\n",
            " 15%|█▍        | 741/5000 [00:32<04:42, 15.10it/s]\u001b[A\n",
            " 15%|█▍        | 748/5000 [00:32<03:35, 19.74it/s]\u001b[A\n",
            " 15%|█▌        | 756/5000 [00:32<02:47, 25.32it/s]\u001b[A\n",
            " 15%|█▌        | 763/5000 [00:32<02:15, 31.21it/s]\u001b[A\n",
            " 15%|█▌        | 771/5000 [00:33<01:52, 37.75it/s]\u001b[A\n",
            " 16%|█▌        | 779/5000 [00:33<01:35, 44.05it/s]\u001b[A\n",
            " 16%|█▌        | 788/5000 [00:33<01:22, 51.35it/s]\u001b[A\n",
            " 16%|█▌        | 796/5000 [00:33<01:14, 56.61it/s]\u001b[A\n",
            " 16%|█▌        | 804/5000 [00:33<01:08, 61.66it/s]\u001b[A\n",
            " 16%|█▋        | 813/5000 [00:33<01:02, 66.51it/s]\u001b[A\n",
            " 16%|█▋        | 822/5000 [00:33<00:58, 71.46it/s]\u001b[A\n",
            " 17%|█▋        | 832/5000 [00:33<00:54, 76.86it/s]\u001b[A\n",
            " 17%|█▋        | 841/5000 [00:33<00:53, 77.57it/s]\u001b[A\n",
            " 17%|█▋        | 850/5000 [00:34<00:52, 78.53it/s]\u001b[A\n",
            " 17%|█▋        | 860/5000 [00:34<00:49, 83.32it/s]\u001b[A\n",
            " 17%|█▋        | 869/5000 [00:34<00:50, 82.11it/s]\u001b[A\n",
            " 18%|█▊        | 878/5000 [00:34<00:49, 83.45it/s]\u001b[A\n",
            " 18%|█▊        | 889/5000 [00:34<00:45, 89.55it/s]\u001b[A\n",
            " 18%|█▊        | 899/5000 [00:34<00:46, 88.97it/s]\u001b[A\n",
            " 18%|█▊        | 909/5000 [00:34<00:48, 83.74it/s]\u001b[A\n",
            " 18%|█▊        | 919/5000 [00:34<00:47, 85.87it/s]\u001b[A\n",
            " 19%|█▊        | 928/5000 [00:34<00:48, 83.87it/s]\u001b[A\n",
            " 19%|█▊        | 937/5000 [00:35<00:47, 85.58it/s]\u001b[A\n",
            " 19%|█▉        | 947/5000 [00:35<00:46, 87.14it/s]\u001b[A\n",
            " 19%|█▉        | 957/5000 [00:35<00:45, 89.82it/s]\u001b[A\n",
            " 19%|█▉        | 968/5000 [00:35<00:43, 93.11it/s]\u001b[A\n",
            " 20%|█▉        | 978/5000 [00:35<00:42, 93.94it/s]\u001b[A\n",
            " 20%|█▉        | 988/5000 [00:35<00:42, 93.70it/s]\u001b[A\n",
            " 20%|█▉        | 998/5000 [00:35<00:44, 89.92it/s]\u001b[A\n",
            " 20%|██        | 1008/5000 [00:37<03:47, 17.51it/s]\u001b[A\n",
            " 20%|██        | 1016/5000 [00:37<02:54, 22.82it/s]\u001b[A\n",
            " 21%|██        | 1026/5000 [00:37<02:14, 29.58it/s]\u001b[A\n",
            " 21%|██        | 1036/5000 [00:37<01:45, 37.47it/s]\u001b[A\n",
            " 21%|██        | 1045/5000 [00:37<01:29, 44.16it/s]\u001b[A\n",
            " 21%|██        | 1054/5000 [00:37<01:16, 51.27it/s]\u001b[A\n",
            " 21%|██▏       | 1063/5000 [00:37<01:07, 58.01it/s]\u001b[A\n",
            " 21%|██▏       | 1072/5000 [00:38<01:00, 64.74it/s]\u001b[A\n",
            " 22%|██▏       | 1082/5000 [00:38<00:54, 71.50it/s]\u001b[A\n",
            " 22%|██▏       | 1091/5000 [00:38<00:51, 76.20it/s]\u001b[A\n",
            " 22%|██▏       | 1100/5000 [00:38<00:49, 79.27it/s]\u001b[A\n",
            " 22%|██▏       | 1109/5000 [00:38<00:47, 81.99it/s]\u001b[A\n",
            " 22%|██▏       | 1119/5000 [00:38<00:46, 84.29it/s]\u001b[A\n",
            " 23%|██▎       | 1128/5000 [00:38<00:46, 83.71it/s]\u001b[A\n",
            " 23%|██▎       | 1138/5000 [00:38<00:44, 87.62it/s]\u001b[A\n",
            " 23%|██▎       | 1148/5000 [00:38<00:43, 87.73it/s]\u001b[A\n",
            " 23%|██▎       | 1157/5000 [00:38<00:43, 88.12it/s]\u001b[A\n",
            " 23%|██▎       | 1167/5000 [00:39<00:42, 90.45it/s]\u001b[A\n",
            " 24%|██▎       | 1177/5000 [00:39<00:42, 89.22it/s]\u001b[A\n",
            " 24%|██▎       | 1187/5000 [00:39<00:43, 88.10it/s]\u001b[A\n",
            " 24%|██▍       | 1197/5000 [00:39<00:42, 88.59it/s]\u001b[A\n",
            " 24%|██▍       | 1206/5000 [00:39<00:42, 88.63it/s]\u001b[A\n",
            " 24%|██▍       | 1215/5000 [00:39<00:43, 87.35it/s]\u001b[A\n",
            " 24%|██▍       | 1225/5000 [00:39<00:42, 88.74it/s]\u001b[A\n",
            " 25%|██▍       | 1234/5000 [00:39<00:42, 87.66it/s]\u001b[A\n",
            " 25%|██▍       | 1243/5000 [00:39<00:43, 86.59it/s]\u001b[A\n",
            " 25%|██▌       | 1254/5000 [00:40<00:40, 91.73it/s]\u001b[A\n",
            " 25%|██▌       | 1264/5000 [00:40<00:40, 92.24it/s]\u001b[A\n",
            " 25%|██▌       | 1274/5000 [00:40<00:40, 92.20it/s]\u001b[A\n",
            " 26%|██▌       | 1284/5000 [00:40<00:41, 89.77it/s]\u001b[A\n",
            " 26%|██▌       | 1294/5000 [00:40<00:42, 87.81it/s]\u001b[A\n",
            " 26%|██▌       | 1304/5000 [00:40<00:40, 90.90it/s]\u001b[A\n",
            " 26%|██▋       | 1314/5000 [00:40<00:39, 92.49it/s]\u001b[A\n",
            " 26%|██▋       | 1325/5000 [00:40<00:38, 95.11it/s]\u001b[A\n",
            " 27%|██▋       | 1335/5000 [00:40<00:39, 93.80it/s]\u001b[A\n",
            " 27%|██▋       | 1345/5000 [00:41<00:39, 91.64it/s]\u001b[A\n",
            " 27%|██▋       | 1355/5000 [00:41<00:40, 90.25it/s]\u001b[A\n",
            " 27%|██▋       | 1365/5000 [00:41<00:39, 91.44it/s]\u001b[A\n",
            " 28%|██▊       | 1375/5000 [00:41<00:39, 90.98it/s]\u001b[A\n",
            " 28%|██▊       | 1385/5000 [00:41<00:40, 90.32it/s]\u001b[A\n",
            " 28%|██▊       | 1395/5000 [00:41<00:38, 92.74it/s]\u001b[A\n",
            " 28%|██▊       | 1405/5000 [00:41<00:38, 93.25it/s]\u001b[A\n",
            " 28%|██▊       | 1415/5000 [00:41<00:40, 87.78it/s]\u001b[A\n",
            " 28%|██▊       | 1424/5000 [00:41<00:41, 85.16it/s]\u001b[A\n",
            " 29%|██▊       | 1433/5000 [00:42<00:41, 86.13it/s]\u001b[A\n",
            " 29%|██▉       | 1442/5000 [00:42<00:42, 83.89it/s]\u001b[A\n",
            " 29%|██▉       | 1451/5000 [00:42<00:41, 85.54it/s]\u001b[A\n",
            " 29%|██▉       | 1461/5000 [00:42<00:39, 88.96it/s]\u001b[A\n",
            " 29%|██▉       | 1472/5000 [00:42<00:37, 93.63it/s]\u001b[A\n",
            " 30%|██▉       | 1482/5000 [00:42<00:38, 91.64it/s]\u001b[A\n",
            " 30%|██▉       | 1492/5000 [00:42<00:37, 93.49it/s]\u001b[A\n",
            " 30%|███       | 1502/5000 [00:42<00:38, 90.73it/s]\u001b[A\n",
            " 30%|███       | 1512/5000 [00:42<00:38, 89.72it/s]\u001b[A\n",
            " 30%|███       | 1522/5000 [00:43<00:38, 89.31it/s]\u001b[A\n",
            " 31%|███       | 1531/5000 [00:43<00:39, 87.03it/s]\u001b[A\n",
            " 31%|███       | 1541/5000 [00:43<00:38, 89.03it/s]\u001b[A\n",
            " 31%|███       | 1550/5000 [00:43<00:39, 88.08it/s]\u001b[A\n",
            " 31%|███       | 1560/5000 [00:43<00:38, 90.00it/s]\u001b[A\n",
            " 31%|███▏      | 1570/5000 [00:43<00:37, 92.49it/s]\u001b[A\n",
            " 32%|███▏      | 1580/5000 [00:43<00:37, 91.24it/s]\u001b[A\n",
            " 32%|███▏      | 1590/5000 [00:43<00:37, 91.48it/s]\u001b[A\n",
            " 32%|███▏      | 1600/5000 [00:43<00:36, 93.46it/s]\u001b[A\n",
            " 32%|███▏      | 1611/5000 [00:44<00:35, 96.14it/s]\u001b[A\n",
            " 32%|███▏      | 1621/5000 [00:44<00:35, 94.39it/s]\u001b[A\n",
            " 33%|███▎      | 1631/5000 [00:44<00:36, 92.03it/s]\u001b[A\n",
            " 33%|███▎      | 1641/5000 [00:44<00:37, 90.46it/s]\u001b[A\n",
            " 33%|███▎      | 1651/5000 [00:44<00:36, 91.86it/s]\u001b[A\n",
            " 33%|███▎      | 1662/5000 [00:44<00:34, 95.57it/s]\u001b[A\n",
            " 33%|███▎      | 1672/5000 [00:44<00:34, 96.57it/s]\u001b[A\n",
            " 34%|███▎      | 1683/5000 [00:44<00:33, 99.58it/s]\u001b[A\n",
            " 34%|███▍      | 1694/5000 [00:44<00:33, 99.16it/s]\u001b[A\n",
            " 34%|███▍      | 1704/5000 [00:44<00:33, 97.20it/s]\u001b[A\n",
            " 34%|███▍      | 1714/5000 [00:45<00:33, 97.23it/s]\u001b[A\n",
            " 34%|███▍      | 1724/5000 [00:45<00:34, 96.31it/s]\u001b[A\n",
            " 35%|███▍      | 1734/5000 [00:45<00:35, 93.18it/s]\u001b[A\n",
            " 35%|███▍      | 1744/5000 [00:45<00:35, 91.90it/s]\u001b[A\n",
            " 35%|███▌      | 1754/5000 [00:45<00:34, 93.59it/s]\u001b[A\n",
            " 35%|███▌      | 1764/5000 [00:45<00:34, 94.73it/s]\u001b[A\n",
            " 36%|███▌      | 1775/5000 [00:45<00:32, 98.52it/s]\u001b[A\n",
            " 36%|███▌      | 1785/5000 [00:45<00:33, 94.91it/s]\u001b[A\n",
            " 36%|███▌      | 1795/5000 [00:45<00:33, 96.17it/s]\u001b[A\n",
            " 36%|███▌      | 1806/5000 [00:46<00:32, 98.93it/s]\u001b[A\n",
            " 36%|███▋      | 1816/5000 [00:46<00:35, 90.79it/s]\u001b[A\n",
            " 37%|███▋      | 1826/5000 [00:46<00:34, 92.52it/s]\u001b[A\n",
            " 37%|███▋      | 1836/5000 [00:46<00:34, 92.71it/s]\u001b[A\n",
            " 37%|███▋      | 1846/5000 [00:46<00:35, 88.86it/s]\u001b[A\n",
            " 37%|███▋      | 1855/5000 [00:46<00:36, 86.62it/s]\u001b[A\n",
            " 37%|███▋      | 1864/5000 [00:46<00:36, 86.45it/s]\u001b[A\n",
            " 37%|███▋      | 1874/5000 [00:46<00:35, 88.61it/s]\u001b[A\n",
            " 38%|███▊      | 1884/5000 [00:46<00:34, 90.72it/s]\u001b[A\n",
            " 38%|███▊      | 1895/5000 [00:47<00:32, 94.19it/s]\u001b[A\n",
            " 38%|███▊      | 1905/5000 [00:47<00:33, 91.07it/s]\u001b[A\n",
            " 38%|███▊      | 1915/5000 [00:47<00:35, 87.66it/s]\u001b[A\n",
            " 38%|███▊      | 1924/5000 [00:47<00:36, 85.39it/s]\u001b[A\n",
            " 39%|███▊      | 1933/5000 [00:47<00:36, 84.72it/s]\u001b[A\n",
            " 39%|███▉      | 1942/5000 [00:47<00:36, 83.55it/s]\u001b[A\n",
            " 39%|███▉      | 1952/5000 [00:47<00:35, 86.93it/s]\u001b[A\n",
            " 39%|███▉      | 1963/5000 [00:47<00:33, 91.58it/s]\u001b[A\n",
            " 39%|███▉      | 1973/5000 [00:47<00:32, 91.89it/s]\u001b[A\n",
            " 40%|███▉      | 1983/5000 [00:48<00:32, 93.73it/s]\u001b[A\n",
            " 40%|███▉      | 1993/5000 [00:48<00:32, 93.67it/s]\u001b[A\n",
            " 40%|████      | 2003/5000 [00:49<02:47, 17.88it/s]\u001b[A\n",
            " 40%|████      | 2012/5000 [00:49<02:07, 23.43it/s]\u001b[A\n",
            " 40%|████      | 2021/5000 [00:49<01:39, 30.06it/s]\u001b[A\n",
            " 41%|████      | 2032/5000 [00:50<01:18, 38.02it/s]\u001b[A\n",
            " 41%|████      | 2042/5000 [00:50<01:03, 46.50it/s]\u001b[A\n",
            " 41%|████      | 2052/5000 [00:50<00:53, 55.29it/s]\u001b[A\n",
            " 41%|████      | 2062/5000 [00:50<00:46, 63.55it/s]\u001b[A\n",
            " 41%|████▏     | 2072/5000 [00:50<00:42, 68.41it/s]\u001b[A\n",
            " 42%|████▏     | 2083/5000 [00:50<00:38, 75.95it/s]\u001b[A\n",
            " 42%|████▏     | 2094/5000 [00:50<00:35, 81.60it/s]\u001b[A\n",
            " 42%|████▏     | 2104/5000 [00:50<00:33, 86.09it/s]\u001b[A\n",
            " 42%|████▏     | 2114/5000 [00:50<00:32, 87.93it/s]\u001b[A\n",
            " 42%|████▏     | 2124/5000 [00:51<00:31, 90.17it/s]\u001b[A\n",
            " 43%|████▎     | 2134/5000 [00:51<00:32, 87.77it/s]\u001b[A\n",
            " 43%|████▎     | 2144/5000 [00:51<00:32, 86.92it/s]\u001b[A\n",
            " 43%|████▎     | 2153/5000 [00:51<00:33, 85.90it/s]\u001b[A\n",
            " 43%|████▎     | 2162/5000 [00:51<00:33, 84.73it/s]\u001b[A\n",
            " 43%|████▎     | 2171/5000 [00:51<00:33, 85.31it/s]\u001b[A\n",
            " 44%|████▎     | 2180/5000 [00:51<00:32, 85.91it/s]\u001b[A\n",
            " 44%|████▍     | 2189/5000 [00:51<00:32, 86.21it/s]\u001b[A\n",
            " 44%|████▍     | 2198/5000 [00:51<00:34, 82.17it/s]\u001b[A\n",
            " 44%|████▍     | 2207/5000 [00:52<00:33, 84.23it/s]\u001b[A\n",
            " 44%|████▍     | 2216/5000 [00:52<00:33, 83.40it/s]\u001b[A\n",
            " 44%|████▍     | 2225/5000 [00:52<00:32, 84.48it/s]\u001b[A\n",
            " 45%|████▍     | 2234/5000 [00:52<00:32, 85.82it/s]\u001b[A\n",
            " 45%|████▍     | 2244/5000 [00:52<00:31, 87.98it/s]\u001b[A\n",
            " 45%|████▌     | 2253/5000 [00:52<00:31, 87.39it/s]\u001b[A\n",
            " 45%|████▌     | 2262/5000 [00:52<00:31, 86.41it/s]\u001b[A\n",
            " 45%|████▌     | 2273/5000 [00:52<00:29, 91.12it/s]\u001b[A\n",
            " 46%|████▌     | 2283/5000 [00:52<00:30, 90.39it/s]\u001b[A\n",
            " 46%|████▌     | 2293/5000 [00:52<00:30, 89.04it/s]\u001b[A\n",
            " 46%|████▌     | 2304/5000 [00:53<00:29, 92.54it/s]\u001b[A\n",
            " 46%|████▋     | 2314/5000 [00:53<00:28, 93.60it/s]\u001b[A\n",
            " 46%|████▋     | 2324/5000 [00:53<00:28, 94.00it/s]\u001b[A\n",
            " 47%|████▋     | 2334/5000 [00:53<00:28, 92.99it/s]\u001b[A\n",
            " 47%|████▋     | 2344/5000 [00:53<00:28, 93.59it/s]\u001b[A\n",
            " 47%|████▋     | 2354/5000 [00:53<00:28, 92.72it/s]\u001b[A\n",
            " 47%|████▋     | 2364/5000 [00:53<00:28, 92.51it/s]\u001b[A\n",
            " 47%|████▋     | 2374/5000 [00:53<00:28, 93.47it/s]\u001b[A\n",
            " 48%|████▊     | 2384/5000 [00:53<00:29, 89.92it/s]\u001b[A\n",
            " 48%|████▊     | 2394/5000 [00:54<00:29, 87.27it/s]\u001b[A\n",
            " 48%|████▊     | 2403/5000 [00:54<00:29, 87.48it/s]\u001b[A\n",
            " 48%|████▊     | 2413/5000 [00:54<00:28, 89.86it/s]\u001b[A\n",
            " 48%|████▊     | 2423/5000 [00:54<00:28, 91.68it/s]\u001b[A\n",
            " 49%|████▊     | 2433/5000 [00:54<00:28, 91.30it/s]\u001b[A\n",
            " 49%|████▉     | 2443/5000 [00:54<00:28, 90.82it/s]\u001b[A\n",
            " 49%|████▉     | 2454/5000 [00:54<00:27, 93.45it/s]\u001b[A\n",
            " 49%|████▉     | 2464/5000 [00:54<00:27, 93.06it/s]\u001b[A\n",
            " 49%|████▉     | 2474/5000 [00:54<00:27, 90.75it/s]\u001b[A\n",
            " 50%|████▉     | 2485/5000 [00:55<00:26, 94.79it/s]\u001b[A\n",
            " 50%|████▉     | 2495/5000 [00:55<00:26, 94.89it/s]\u001b[A\n",
            " 50%|█████     | 2505/5000 [00:55<00:26, 95.70it/s]\u001b[A\n",
            " 50%|█████     | 2516/5000 [00:55<00:25, 98.80it/s]\u001b[A\n",
            " 51%|█████     | 2526/5000 [00:55<00:25, 98.81it/s]\u001b[A\n",
            " 51%|█████     | 2537/5000 [00:55<00:24, 99.73it/s]\u001b[A\n",
            " 51%|█████     | 2547/5000 [00:55<00:25, 98.11it/s]\u001b[A\n",
            " 51%|█████     | 2557/5000 [00:55<00:26, 93.45it/s]\u001b[A\n",
            " 51%|█████▏    | 2567/5000 [00:55<00:25, 93.75it/s]\u001b[A\n",
            " 52%|█████▏    | 2577/5000 [00:56<00:27, 89.30it/s]\u001b[A\n",
            " 52%|█████▏    | 2588/5000 [00:56<00:26, 92.27it/s]\u001b[A\n",
            " 52%|█████▏    | 2598/5000 [00:56<00:26, 91.11it/s]\u001b[A\n",
            " 52%|█████▏    | 2608/5000 [00:56<00:26, 90.17it/s]\u001b[A\n",
            " 52%|█████▏    | 2618/5000 [00:56<00:26, 90.43it/s]\u001b[A\n",
            " 53%|█████▎    | 2628/5000 [00:56<00:26, 90.66it/s]\u001b[A\n",
            " 53%|█████▎    | 2638/5000 [00:56<00:25, 91.14it/s]\u001b[A\n",
            " 53%|█████▎    | 2648/5000 [00:56<00:26, 87.86it/s]\u001b[A\n",
            " 53%|█████▎    | 2657/5000 [00:56<00:27, 84.77it/s]\u001b[A\n",
            " 53%|█████▎    | 2666/5000 [00:57<00:29, 80.43it/s]\u001b[A\n",
            " 54%|█████▎    | 2676/5000 [00:57<00:27, 83.78it/s]\u001b[A\n",
            " 54%|█████▎    | 2686/5000 [00:57<00:26, 86.40it/s]\u001b[A\n",
            " 54%|█████▍    | 2696/5000 [00:57<00:26, 87.36it/s]\u001b[A\n",
            " 54%|█████▍    | 2706/5000 [00:57<00:25, 90.03it/s]\u001b[A\n",
            " 54%|█████▍    | 2716/5000 [00:57<00:24, 91.74it/s]\u001b[A\n",
            " 55%|█████▍    | 2727/5000 [00:57<00:23, 96.13it/s]\u001b[A\n",
            " 55%|█████▍    | 2737/5000 [00:57<00:24, 94.04it/s]\u001b[A\n",
            " 55%|█████▍    | 2747/5000 [00:57<00:24, 93.09it/s]\u001b[A\n",
            " 55%|█████▌    | 2757/5000 [00:58<00:24, 90.95it/s]\u001b[A\n",
            " 55%|█████▌    | 2767/5000 [00:58<00:25, 88.80it/s]\u001b[A\n",
            " 56%|█████▌    | 2776/5000 [00:58<00:24, 89.08it/s]\u001b[A\n",
            " 56%|█████▌    | 2785/5000 [00:58<00:25, 86.89it/s]\u001b[A\n",
            " 56%|█████▌    | 2795/5000 [00:58<00:24, 88.75it/s]\u001b[A\n",
            " 56%|█████▌    | 2804/5000 [00:58<00:24, 88.88it/s]\u001b[A\n",
            " 56%|█████▋    | 2814/5000 [00:58<00:24, 89.87it/s]\u001b[A\n",
            " 56%|█████▋    | 2824/5000 [00:58<00:24, 90.15it/s]\u001b[A\n",
            " 57%|█████▋    | 2834/5000 [00:58<00:24, 88.35it/s]\u001b[A\n",
            " 57%|█████▋    | 2843/5000 [00:59<00:24, 88.34it/s]\u001b[A\n",
            " 57%|█████▋    | 2852/5000 [00:59<00:24, 87.09it/s]\u001b[A\n",
            " 57%|█████▋    | 2861/5000 [00:59<00:24, 86.14it/s]\u001b[A\n",
            " 57%|█████▋    | 2870/5000 [00:59<00:24, 85.69it/s]\u001b[A\n",
            " 58%|█████▊    | 2880/5000 [00:59<00:24, 88.28it/s]\u001b[A\n",
            " 58%|█████▊    | 2889/5000 [00:59<00:23, 88.50it/s]\u001b[A\n",
            " 58%|█████▊    | 2900/5000 [00:59<00:22, 91.80it/s]\u001b[A\n",
            " 58%|█████▊    | 2910/5000 [00:59<00:22, 91.33it/s]\u001b[A\n",
            " 58%|█████▊    | 2920/5000 [00:59<00:23, 90.11it/s]\u001b[A\n",
            " 59%|█████▊    | 2930/5000 [00:59<00:22, 91.46it/s]\u001b[A\n",
            " 59%|█████▉    | 2940/5000 [01:00<00:22, 91.04it/s]\u001b[A\n",
            " 59%|█████▉    | 2950/5000 [01:00<00:23, 87.81it/s]\u001b[A\n",
            " 59%|█████▉    | 2960/5000 [01:00<00:22, 90.20it/s]\u001b[A\n",
            " 59%|█████▉    | 2970/5000 [01:00<00:22, 89.85it/s]\u001b[A\n",
            " 60%|█████▉    | 2980/5000 [01:00<00:22, 90.36it/s]\u001b[A\n",
            " 60%|█████▉    | 2990/5000 [01:00<00:22, 90.13it/s]\u001b[A\n",
            " 60%|██████    | 3000/5000 [01:00<00:22, 90.78it/s]\u001b[A\n",
            " 60%|██████    | 3010/5000 [01:02<02:01, 16.44it/s]\u001b[A\n",
            " 60%|██████    | 3018/5000 [01:02<01:32, 21.50it/s]\u001b[A\n",
            " 61%|██████    | 3028/5000 [01:02<01:10, 27.86it/s]\u001b[A\n",
            " 61%|██████    | 3037/5000 [01:02<00:56, 34.76it/s]\u001b[A\n",
            " 61%|██████    | 3046/5000 [01:02<00:46, 42.08it/s]\u001b[A\n",
            " 61%|██████    | 3055/5000 [01:03<00:39, 49.27it/s]\u001b[A\n",
            " 61%|██████▏   | 3063/5000 [01:03<00:35, 55.23it/s]\u001b[A\n",
            " 61%|██████▏   | 3072/5000 [01:03<00:31, 61.05it/s]\u001b[A\n",
            " 62%|██████▏   | 3082/5000 [01:03<00:28, 67.73it/s]\u001b[A\n",
            " 62%|██████▏   | 3091/5000 [01:03<00:26, 72.62it/s]\u001b[A\n",
            " 62%|██████▏   | 3100/5000 [01:03<00:24, 76.97it/s]\u001b[A\n",
            " 62%|██████▏   | 3110/5000 [01:03<00:23, 80.51it/s]\u001b[A\n",
            " 62%|██████▏   | 3119/5000 [01:03<00:22, 82.23it/s]\u001b[A\n",
            " 63%|██████▎   | 3128/5000 [01:03<00:22, 82.62it/s]\u001b[A\n",
            " 63%|██████▎   | 3137/5000 [01:04<00:22, 82.76it/s]\u001b[A\n",
            " 63%|██████▎   | 3146/5000 [01:04<00:22, 83.22it/s]\u001b[A\n",
            " 63%|██████▎   | 3155/5000 [01:04<00:21, 84.59it/s]\u001b[A\n",
            " 63%|██████▎   | 3164/5000 [01:04<00:21, 84.91it/s]\u001b[A\n",
            " 63%|██████▎   | 3173/5000 [01:04<00:21, 85.80it/s]\u001b[A\n",
            " 64%|██████▎   | 3182/5000 [01:04<00:21, 83.63it/s]\u001b[A\n",
            " 64%|██████▍   | 3191/5000 [01:04<00:21, 83.04it/s]\u001b[A\n",
            " 64%|██████▍   | 3200/5000 [01:04<00:21, 83.12it/s]\u001b[A\n",
            " 64%|██████▍   | 3210/5000 [01:04<00:20, 85.93it/s]\u001b[A\n",
            " 64%|██████▍   | 3219/5000 [01:04<00:20, 86.23it/s]\u001b[A\n",
            " 65%|██████▍   | 3228/5000 [01:05<00:20, 87.16it/s]\u001b[A\n",
            " 65%|██████▍   | 3237/5000 [01:05<00:20, 85.72it/s]\u001b[A\n",
            " 65%|██████▍   | 3247/5000 [01:05<00:20, 87.25it/s]\u001b[A\n",
            " 65%|██████▌   | 3256/5000 [01:05<00:20, 87.18it/s]\u001b[A\n",
            " 65%|██████▌   | 3265/5000 [01:05<00:19, 87.62it/s]\u001b[A\n",
            " 65%|██████▌   | 3274/5000 [01:05<00:20, 82.99it/s]\u001b[A\n",
            " 66%|██████▌   | 3284/5000 [01:05<00:20, 85.26it/s]\u001b[A\n",
            " 66%|██████▌   | 3294/5000 [01:05<00:19, 86.35it/s]\u001b[A\n",
            " 66%|██████▌   | 3303/5000 [01:05<00:20, 83.71it/s]\u001b[A\n",
            " 66%|██████▌   | 3312/5000 [01:06<00:20, 81.76it/s]\u001b[A\n",
            " 66%|██████▋   | 3321/5000 [01:06<00:20, 82.68it/s]\u001b[A\n",
            " 67%|██████▋   | 3330/5000 [01:06<00:20, 81.35it/s]\u001b[A\n",
            " 67%|██████▋   | 3339/5000 [01:06<00:19, 83.71it/s]\u001b[A\n",
            " 67%|██████▋   | 3348/5000 [01:06<00:20, 82.50it/s]\u001b[A\n",
            " 67%|██████▋   | 3357/5000 [01:06<00:19, 83.60it/s]\u001b[A\n",
            " 67%|██████▋   | 3367/5000 [01:06<00:19, 85.85it/s]\u001b[A\n",
            " 68%|██████▊   | 3377/5000 [01:06<00:18, 88.45it/s]\u001b[A\n",
            " 68%|██████▊   | 3388/5000 [01:06<00:17, 91.51it/s]\u001b[A\n",
            " 68%|██████▊   | 3398/5000 [01:07<00:17, 93.82it/s]\u001b[A\n",
            " 68%|██████▊   | 3409/5000 [01:07<00:16, 96.03it/s]\u001b[A\n",
            " 68%|██████▊   | 3419/5000 [01:07<00:16, 95.00it/s]\u001b[A\n",
            " 69%|██████▊   | 3429/5000 [01:07<00:16, 93.02it/s]\u001b[A\n",
            " 69%|██████▉   | 3439/5000 [01:07<00:17, 90.09it/s]\u001b[A\n",
            " 69%|██████▉   | 3449/5000 [01:07<00:17, 90.62it/s]\u001b[A\n",
            " 69%|██████▉   | 3459/5000 [01:07<00:16, 90.94it/s]\u001b[A\n",
            " 69%|██████▉   | 3469/5000 [01:07<00:17, 89.03it/s]\u001b[A\n",
            " 70%|██████▉   | 3478/5000 [01:07<00:17, 87.33it/s]\u001b[A\n",
            " 70%|██████▉   | 3487/5000 [01:08<00:17, 87.13it/s]\u001b[A\n",
            " 70%|██████▉   | 3497/5000 [01:08<00:16, 88.59it/s]\u001b[A\n",
            " 70%|███████   | 3506/5000 [01:08<00:17, 87.15it/s]\u001b[A\n",
            " 70%|███████   | 3515/5000 [01:08<00:17, 84.84it/s]\u001b[A\n",
            " 70%|███████   | 3524/5000 [01:08<00:17, 84.13it/s]\u001b[A\n",
            " 71%|███████   | 3533/5000 [01:08<00:17, 85.54it/s]\u001b[A\n",
            " 71%|███████   | 3542/5000 [01:08<00:16, 86.42it/s]\u001b[A\n",
            " 71%|███████   | 3553/5000 [01:08<00:15, 91.35it/s]\u001b[A\n",
            " 71%|███████▏  | 3564/5000 [01:08<00:15, 93.82it/s]\u001b[A\n",
            " 72%|███████▏  | 3575/5000 [01:08<00:14, 97.71it/s]\u001b[A\n",
            " 72%|███████▏  | 3585/5000 [01:09<00:14, 97.33it/s]\u001b[A\n",
            " 72%|███████▏  | 3596/5000 [01:09<00:14, 99.05it/s]\u001b[A\n",
            " 72%|███████▏  | 3606/5000 [01:09<00:14, 97.08it/s]\u001b[A\n",
            " 72%|███████▏  | 3616/5000 [01:09<00:14, 94.75it/s]\u001b[A\n",
            " 73%|███████▎  | 3626/5000 [01:09<00:14, 94.55it/s]\u001b[A\n",
            " 73%|███████▎  | 3636/5000 [01:09<00:15, 89.73it/s]\u001b[A\n",
            " 73%|███████▎  | 3646/5000 [01:09<00:15, 89.36it/s]\u001b[A\n",
            " 73%|███████▎  | 3656/5000 [01:09<00:14, 91.75it/s]\u001b[A\n",
            " 73%|███████▎  | 3667/5000 [01:09<00:14, 94.37it/s]\u001b[A\n",
            " 74%|███████▎  | 3678/5000 [01:10<00:13, 97.26it/s]\u001b[A\n",
            " 74%|███████▍  | 3688/5000 [01:10<00:13, 94.28it/s]\u001b[A\n",
            " 74%|███████▍  | 3699/5000 [01:10<00:13, 96.31it/s]\u001b[A\n",
            " 74%|███████▍  | 3709/5000 [01:10<00:13, 94.46it/s]\u001b[A\n",
            " 74%|███████▍  | 3719/5000 [01:10<00:14, 91.13it/s]\u001b[A\n",
            " 75%|███████▍  | 3729/5000 [01:10<00:14, 87.69it/s]\u001b[A\n",
            " 75%|███████▍  | 3739/5000 [01:10<00:14, 89.13it/s]\u001b[A\n",
            " 75%|███████▍  | 3748/5000 [01:10<00:14, 87.02it/s]\u001b[A\n",
            " 75%|███████▌  | 3758/5000 [01:10<00:14, 88.54it/s]\u001b[A\n",
            " 75%|███████▌  | 3769/5000 [01:11<00:13, 91.80it/s]\u001b[A\n",
            " 76%|███████▌  | 3780/5000 [01:11<00:12, 96.14it/s]\u001b[A\n",
            " 76%|███████▌  | 3790/5000 [01:11<00:12, 97.03it/s]\u001b[A\n",
            " 76%|███████▌  | 3800/5000 [01:11<00:12, 97.35it/s]\u001b[A\n",
            " 76%|███████▌  | 3811/5000 [01:11<00:11, 100.62it/s]\u001b[A\n",
            " 76%|███████▋  | 3822/5000 [01:11<00:11, 98.45it/s] \u001b[A\n",
            " 77%|███████▋  | 3832/5000 [01:11<00:12, 95.29it/s]\u001b[A\n",
            " 77%|███████▋  | 3842/5000 [01:11<00:13, 87.23it/s]\u001b[A\n",
            " 77%|███████▋  | 3851/5000 [01:11<00:13, 87.90it/s]\u001b[A\n",
            " 77%|███████▋  | 3860/5000 [01:12<00:13, 87.37it/s]\u001b[A\n",
            " 77%|███████▋  | 3869/5000 [01:12<00:13, 86.75it/s]\u001b[A\n",
            " 78%|███████▊  | 3879/5000 [01:12<00:12, 88.72it/s]\u001b[A\n",
            " 78%|███████▊  | 3888/5000 [01:12<00:12, 87.47it/s]\u001b[A\n",
            " 78%|███████▊  | 3897/5000 [01:12<00:12, 87.01it/s]\u001b[A\n",
            " 78%|███████▊  | 3906/5000 [01:12<00:12, 86.43it/s]\u001b[A\n",
            " 78%|███████▊  | 3916/5000 [01:12<00:12, 89.17it/s]\u001b[A\n",
            " 78%|███████▊  | 3925/5000 [01:12<00:12, 86.73it/s]\u001b[A\n",
            " 79%|███████▊  | 3934/5000 [01:12<00:12, 86.78it/s]\u001b[A\n",
            " 79%|███████▉  | 3945/5000 [01:13<00:11, 90.48it/s]\u001b[A\n",
            " 79%|███████▉  | 3955/5000 [01:13<00:11, 90.89it/s]\u001b[A\n",
            " 79%|███████▉  | 3965/5000 [01:13<00:11, 90.38it/s]\u001b[A\n",
            " 80%|███████▉  | 3975/5000 [01:13<00:11, 88.10it/s]\u001b[A\n",
            " 80%|███████▉  | 3985/5000 [01:13<00:11, 89.78it/s]\u001b[A\n",
            " 80%|███████▉  | 3995/5000 [01:13<00:11, 84.80it/s]\u001b[A\n",
            " 80%|████████  | 4004/5000 [01:15<00:54, 18.16it/s]\u001b[A\n",
            " 80%|████████  | 4013/5000 [01:15<00:41, 23.73it/s]\u001b[A\n",
            " 80%|████████  | 4022/5000 [01:15<00:32, 30.43it/s]\u001b[A\n",
            " 81%|████████  | 4032/5000 [01:15<00:25, 38.10it/s]\u001b[A\n",
            " 81%|████████  | 4041/5000 [01:15<00:20, 46.02it/s]\u001b[A\n",
            " 81%|████████  | 4050/5000 [01:15<00:17, 53.74it/s]\u001b[A\n",
            " 81%|████████  | 4060/5000 [01:15<00:15, 61.93it/s]\u001b[A\n",
            " 81%|████████▏ | 4070/5000 [01:15<00:13, 68.98it/s]\u001b[A\n",
            " 82%|████████▏ | 4080/5000 [01:15<00:12, 75.04it/s]\u001b[A\n",
            " 82%|████████▏ | 4090/5000 [01:15<00:11, 77.23it/s]\u001b[A\n",
            " 82%|████████▏ | 4099/5000 [01:16<00:11, 77.07it/s]\u001b[A\n",
            " 82%|████████▏ | 4108/5000 [01:16<00:11, 79.33it/s]\u001b[A\n",
            " 82%|████████▏ | 4117/5000 [01:16<00:11, 79.46it/s]\u001b[A\n",
            " 83%|████████▎ | 4127/5000 [01:16<00:10, 81.40it/s]\u001b[A\n",
            " 83%|████████▎ | 4136/5000 [01:16<00:10, 83.01it/s]\u001b[A\n",
            " 83%|████████▎ | 4145/5000 [01:16<00:10, 84.54it/s]\u001b[A\n",
            " 83%|████████▎ | 4155/5000 [01:16<00:09, 86.76it/s]\u001b[A\n",
            " 83%|████████▎ | 4165/5000 [01:16<00:09, 90.18it/s]\u001b[A\n",
            " 84%|████████▎ | 4175/5000 [01:16<00:08, 92.60it/s]\u001b[A\n",
            " 84%|████████▎ | 4185/5000 [01:17<00:08, 92.82it/s]\u001b[A\n",
            " 84%|████████▍ | 4195/5000 [01:17<00:09, 88.13it/s]\u001b[A\n",
            " 84%|████████▍ | 4205/5000 [01:17<00:08, 89.31it/s]\u001b[A\n",
            " 84%|████████▍ | 4215/5000 [01:17<00:08, 90.47it/s]\u001b[A\n",
            " 84%|████████▍ | 4225/5000 [01:17<00:08, 90.40it/s]\u001b[A\n",
            " 85%|████████▍ | 4236/5000 [01:17<00:08, 93.69it/s]\u001b[A\n",
            " 85%|████████▍ | 4247/5000 [01:17<00:07, 96.84it/s]\u001b[A\n",
            " 85%|████████▌ | 4257/5000 [01:17<00:07, 97.04it/s]\u001b[A\n",
            " 85%|████████▌ | 4267/5000 [01:17<00:07, 94.38it/s]\u001b[A\n",
            " 86%|████████▌ | 4277/5000 [01:18<00:07, 95.28it/s]\u001b[A\n",
            " 86%|████████▌ | 4288/5000 [01:18<00:07, 99.06it/s]\u001b[A\n",
            " 86%|████████▌ | 4298/5000 [01:18<00:07, 93.93it/s]\u001b[A\n",
            " 86%|████████▌ | 4308/5000 [01:18<00:07, 91.74it/s]\u001b[A\n",
            " 86%|████████▋ | 4318/5000 [01:18<00:07, 89.33it/s]\u001b[A\n",
            " 87%|████████▋ | 4328/5000 [01:18<00:07, 89.77it/s]\u001b[A\n",
            " 87%|████████▋ | 4338/5000 [01:18<00:07, 91.60it/s]\u001b[A\n",
            " 87%|████████▋ | 4349/5000 [01:18<00:06, 94.51it/s]\u001b[A\n",
            " 87%|████████▋ | 4359/5000 [01:18<00:06, 95.95it/s]\u001b[A\n",
            " 87%|████████▋ | 4369/5000 [01:19<00:06, 92.28it/s]\u001b[A\n",
            " 88%|████████▊ | 4379/5000 [01:19<00:06, 91.05it/s]\u001b[A\n",
            " 88%|████████▊ | 4389/5000 [01:19<00:06, 89.32it/s]\u001b[A\n",
            " 88%|████████▊ | 4398/5000 [01:19<00:06, 87.97it/s]\u001b[A\n",
            " 88%|████████▊ | 4408/5000 [01:19<00:06, 88.53it/s]\u001b[A\n",
            " 88%|████████▊ | 4419/5000 [01:19<00:06, 92.44it/s]\u001b[A\n",
            " 89%|████████▊ | 4429/5000 [01:19<00:06, 91.95it/s]\u001b[A\n",
            " 89%|████████▉ | 4439/5000 [01:19<00:05, 93.91it/s]\u001b[A\n",
            " 89%|████████▉ | 4450/5000 [01:19<00:05, 97.64it/s]\u001b[A\n",
            " 89%|████████▉ | 4460/5000 [01:20<00:05, 95.40it/s]\u001b[A\n",
            " 89%|████████▉ | 4470/5000 [01:20<00:05, 90.84it/s]\u001b[A\n",
            " 90%|████████▉ | 4480/5000 [01:20<00:05, 89.64it/s]\u001b[A\n",
            " 90%|████████▉ | 4490/5000 [01:20<00:05, 89.72it/s]\u001b[A\n",
            " 90%|█████████ | 4500/5000 [01:20<00:05, 90.19it/s]\u001b[A\n",
            " 90%|█████████ | 4510/5000 [01:20<00:05, 88.65it/s]\u001b[A\n",
            " 90%|█████████ | 4519/5000 [01:20<00:05, 88.36it/s]\u001b[A\n",
            " 91%|█████████ | 4530/5000 [01:20<00:05, 93.55it/s]\u001b[A\n",
            " 91%|█████████ | 4541/5000 [01:20<00:04, 96.95it/s]\u001b[A\n",
            " 91%|█████████ | 4551/5000 [01:20<00:04, 95.66it/s]\u001b[A\n",
            " 91%|█████████ | 4561/5000 [01:21<00:04, 90.69it/s]\u001b[A\n",
            " 91%|█████████▏| 4571/5000 [01:21<00:04, 88.64it/s]\u001b[A\n",
            " 92%|█████████▏| 4580/5000 [01:21<00:04, 88.07it/s]\u001b[A\n",
            " 92%|█████████▏| 4589/5000 [01:21<00:04, 86.76it/s]\u001b[A\n",
            " 92%|█████████▏| 4598/5000 [01:21<00:04, 85.44it/s]\u001b[A\n",
            " 92%|█████████▏| 4608/5000 [01:21<00:04, 87.97it/s]\u001b[A\n",
            " 92%|█████████▏| 4617/5000 [01:21<00:04, 86.64it/s]\u001b[A\n",
            " 93%|█████████▎| 4626/5000 [01:21<00:04, 87.12it/s]\u001b[A\n",
            " 93%|█████████▎| 4635/5000 [01:21<00:04, 84.69it/s]\u001b[A\n",
            " 93%|█████████▎| 4645/5000 [01:22<00:04, 86.89it/s]\u001b[A\n",
            " 93%|█████████▎| 4654/5000 [01:22<00:03, 87.18it/s]\u001b[A\n",
            " 93%|█████████▎| 4663/5000 [01:22<00:03, 85.17it/s]\u001b[A\n",
            " 93%|█████████▎| 4672/5000 [01:22<00:03, 84.38it/s]\u001b[A\n",
            " 94%|█████████▎| 4681/5000 [01:22<00:03, 85.99it/s]\u001b[A\n",
            " 94%|█████████▍| 4690/5000 [01:22<00:03, 85.48it/s]\u001b[A\n",
            " 94%|█████████▍| 4701/5000 [01:22<00:03, 89.74it/s]\u001b[A\n",
            " 94%|█████████▍| 4712/5000 [01:22<00:03, 94.17it/s]\u001b[A\n",
            " 94%|█████████▍| 4722/5000 [01:22<00:02, 95.54it/s]\u001b[A\n",
            " 95%|█████████▍| 4732/5000 [01:23<00:02, 90.66it/s]\u001b[A\n",
            " 95%|█████████▍| 4742/5000 [01:23<00:02, 92.13it/s]\u001b[A\n",
            " 95%|█████████▌| 4752/5000 [01:23<00:02, 93.59it/s]\u001b[A\n",
            " 95%|█████████▌| 4762/5000 [01:23<00:02, 91.74it/s]\u001b[A\n",
            " 95%|█████████▌| 4772/5000 [01:23<00:02, 88.62it/s]\u001b[A\n",
            " 96%|█████████▌| 4782/5000 [01:23<00:02, 90.74it/s]\u001b[A\n",
            " 96%|█████████▌| 4792/5000 [01:23<00:02, 90.97it/s]\u001b[A\n",
            " 96%|█████████▌| 4802/5000 [01:23<00:02, 91.48it/s]\u001b[A\n",
            " 96%|█████████▋| 4813/5000 [01:23<00:01, 94.30it/s]\u001b[A\n",
            " 96%|█████████▋| 4823/5000 [01:24<00:01, 92.63it/s]\u001b[A\n",
            " 97%|█████████▋| 4833/5000 [01:24<00:01, 90.83it/s]\u001b[A\n",
            " 97%|█████████▋| 4843/5000 [01:24<00:01, 90.21it/s]\u001b[A\n",
            " 97%|█████████▋| 4853/5000 [01:24<00:01, 86.35it/s]\u001b[A\n",
            " 97%|█████████▋| 4862/5000 [01:24<00:01, 85.39it/s]\u001b[A\n",
            " 97%|█████████▋| 4871/5000 [01:24<00:01, 83.32it/s]\u001b[A\n",
            " 98%|█████████▊| 4882/5000 [01:24<00:01, 88.17it/s]\u001b[A\n",
            " 98%|█████████▊| 4893/5000 [01:24<00:01, 92.47it/s]\u001b[A\n",
            " 98%|█████████▊| 4903/5000 [01:24<00:01, 92.67it/s]\u001b[A\n",
            " 98%|█████████▊| 4913/5000 [01:25<00:00, 94.52it/s]\u001b[A\n",
            " 98%|█████████▊| 4923/5000 [01:25<00:00, 94.89it/s]\u001b[A\n",
            " 99%|█████████▊| 4933/5000 [01:25<00:00, 94.65it/s]\u001b[A\n",
            " 99%|█████████▉| 4943/5000 [01:25<00:00, 89.58it/s]\u001b[A\n",
            " 99%|█████████▉| 4953/5000 [01:25<00:00, 85.96it/s]\u001b[A\n",
            " 99%|█████████▉| 4962/5000 [01:25<00:00, 84.21it/s]\u001b[A\n",
            " 99%|█████████▉| 4971/5000 [01:25<00:00, 84.49it/s]\u001b[A\n",
            "100%|█████████▉| 4980/5000 [01:25<00:00, 85.73it/s]\u001b[A\n",
            "100%|█████████▉| 4989/5000 [01:25<00:00, 83.23it/s]\u001b[A\n",
            "100%|██████████| 5000/5000 [01:26<00:00, 58.09it/s]\n"
          ],
          "name": "stderr"
        },
        {
          "output_type": "display_data",
          "data": {
            "image/png": "[encoded data removed]",
            "text/plain": [
              "<Figure size 1296x576 with 1 Axes>"
            ]
          },
          "metadata": {
            "tags": []
          }
        }
      ]
    },
    {
      "cell_type": "code",
      "metadata": {
        "id": "zRxiaq9X69lj",
        "colab_type": "code",
        "colab": {
          "base_uri": "https://localhost:8080/",
          "height": 502
        },
        "outputId": "a12d75d8-f787-4f2f-dcaa-5cde2aafbec0"
      },
      "source": [
        "\n",
        "avgReward = []\n",
        "for i in range(100, numEpisodes):\n",
        "    avgReward.append(np.mean(agent.collectiveRecord[i - 100:i]))\n",
        "fig, ax = plt.subplots(figsize = (18, 8))\n",
        "plt.plot(avgReward, '.')\n",
        "plt.yticks(range(-110, -200, -10))\n",
        "plt.xticks(changed_eps)\n",
        "plt.ylabel(\"Avg reward for last 100 episodes\")\n",
        "plt.xlabel(\"episode_number\")\n",
        "plt.grid()\n",
        "plt.show()"
      ],
      "execution_count": null,
      "outputs": [
        {
          "output_type": "display_data",
          "data": {
            "image/png": "[encoded data removed]",
            "text/plain": [
              "<Figure size 1296x576 with 1 Axes>"
            ]
          },
          "metadata": {
            "tags": []
          }
        }
      ]
    },
    {
      "cell_type": "code",
      "metadata": {
        "id": "oKCRdq3050eI",
        "colab_type": "code",
        "colab": {
          "base_uri": "https://localhost:8080/",
          "height": 421
        },
        "outputId": "704ea207-4cfc-4f72-e3ee-9f2e60ffa0b6"
      },
      "source": [
        "show_video()"
      ],
      "execution_count": null,
      "outputs": [
        {
          "output_type": "display_data",
          "data": {
            "text/html": [
              "<video alt=\"test\" autoplay \n",
              "                loop controls style=\"height: 400px;\">\n",
              "                <source src=\"data:video/mp4;base64,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\" type=\"video/mp4\" />\n",
              "             </video>"
            ],
            "text/plain": [
              "<IPython.core.display.HTML object>"
            ]
          },
          "metadata": {
            "tags": []
          }
        }
      ]
    },
    {
      "cell_type": "code",
      "metadata": {
        "id": "Qyv5iYHD69K9",
        "colab_type": "code",
        "colab": {}
      },
      "source": [
        ""
      ],
      "execution_count": null,
      "outputs": []
    }
  ]
}